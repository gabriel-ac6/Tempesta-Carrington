{
  "nbformat": 4,
  "nbformat_minor": 0,
  "metadata": {
    "colab": {
      "provenance": [],
      "collapsed_sections": []
    },
    "kernelspec": {
      "name": "python3",
      "display_name": "Python 3"
    },
    "language_info": {
      "name": "python"
    }
  },
  "cells": [
    {
      "cell_type": "code",
      "source": [
        "!git clone http://github.com/sunpy/sunpy.git"
      ],
      "metadata": {
        "colab": {
          "base_uri": "https://localhost:8080/"
        },
        "id": "vdgiGwWxjuub",
        "outputId": "749da649-ab87-4eec-82bd-36870f0f7ec2"
      },
      "execution_count": null,
      "outputs": [
        {
          "output_type": "stream",
          "name": "stdout",
          "text": [
            "Cloning into 'sunpy'...\n",
            "warning: redirecting to https://github.com/sunpy/sunpy.git/\n",
            "remote: Enumerating objects: 111479, done.\u001b[K\n",
            "remote: Counting objects: 100% (762/762), done.\u001b[K\n",
            "remote: Compressing objects: 100% (341/341), done.\u001b[K\n",
            "remote: Total 111479 (delta 445), reused 676 (delta 419), pack-reused 110717\u001b[K\n",
            "Receiving objects: 100% (111479/111479), 57.97 MiB | 26.57 MiB/s, done.\n",
            "Resolving deltas: 100% (81232/81232), done.\n"
          ]
        }
      ]
    },
    {
      "cell_type": "code",
      "source": [
        "!pip install astropy>=3.0\n",
        "!pip install numpy\n",
        "!pip install scipy\n",
        "!pip install matplotlib\n",
        "!pip install sunpy==3.0\n",
        "!pip install --upgrade ipython\n",
        "!pip install sklearn\n",
        "!pip install lime"
      ],
      "metadata": {
        "id": "sa7X5WOwsSwr",
        "colab": {
          "base_uri": "https://localhost:8080/",
          "height": 1000
        },
        "outputId": "fd88439a-3f9c-4d8b-a784-14894ab99041"
      },
      "execution_count": null,
      "outputs": [
        {
          "output_type": "stream",
          "name": "stdout",
          "text": [
            "Looking in indexes: https://pypi.org/simple, https://us-python.pkg.dev/colab-wheels/public/simple/\n",
            "Requirement already satisfied: numpy in /usr/local/lib/python3.7/dist-packages (1.21.6)\n",
            "Looking in indexes: https://pypi.org/simple, https://us-python.pkg.dev/colab-wheels/public/simple/\n",
            "Requirement already satisfied: scipy in /usr/local/lib/python3.7/dist-packages (1.7.3)\n",
            "Requirement already satisfied: numpy<1.23.0,>=1.16.5 in /usr/local/lib/python3.7/dist-packages (from scipy) (1.21.6)\n",
            "Looking in indexes: https://pypi.org/simple, https://us-python.pkg.dev/colab-wheels/public/simple/\n",
            "Requirement already satisfied: matplotlib in /usr/local/lib/python3.7/dist-packages (3.2.2)\n",
            "Requirement already satisfied: cycler>=0.10 in /usr/local/lib/python3.7/dist-packages (from matplotlib) (0.11.0)\n",
            "Requirement already satisfied: numpy>=1.11 in /usr/local/lib/python3.7/dist-packages (from matplotlib) (1.21.6)\n",
            "Requirement already satisfied: python-dateutil>=2.1 in /usr/local/lib/python3.7/dist-packages (from matplotlib) (2.8.2)\n",
            "Requirement already satisfied: pyparsing!=2.0.4,!=2.1.2,!=2.1.6,>=2.0.1 in /usr/local/lib/python3.7/dist-packages (from matplotlib) (3.0.9)\n",
            "Requirement already satisfied: kiwisolver>=1.0.1 in /usr/local/lib/python3.7/dist-packages (from matplotlib) (1.4.4)\n",
            "Requirement already satisfied: typing-extensions in /usr/local/lib/python3.7/dist-packages (from kiwisolver>=1.0.1->matplotlib) (4.1.1)\n",
            "Requirement already satisfied: six>=1.5 in /usr/local/lib/python3.7/dist-packages (from python-dateutil>=2.1->matplotlib) (1.15.0)\n",
            "Looking in indexes: https://pypi.org/simple, https://us-python.pkg.dev/colab-wheels/public/simple/\n",
            "Collecting sunpy==3.0\n",
            "  Downloading sunpy-3.0.0-cp37-cp37m-manylinux2014_x86_64.whl (6.1 MB)\n",
            "\u001b[K     |████████████████████████████████| 6.1 MB 5.2 MB/s \n",
            "\u001b[?25hCollecting parfive[ftp]>=1.2.0\n",
            "  Downloading parfive-2.0.1-py3-none-any.whl (25 kB)\n",
            "Requirement already satisfied: astropy>=4.1.0 in /usr/local/lib/python3.7/dist-packages (from sunpy==3.0) (4.3.1)\n",
            "Requirement already satisfied: numpy>=1.16.0 in /usr/local/lib/python3.7/dist-packages (from sunpy==3.0) (1.21.6)\n",
            "Requirement already satisfied: pyerfa>=1.7.3 in /usr/local/lib/python3.7/dist-packages (from astropy>=4.1.0->sunpy==3.0) (2.0.0.1)\n",
            "Requirement already satisfied: importlib-metadata in /usr/local/lib/python3.7/dist-packages (from astropy>=4.1.0->sunpy==3.0) (4.12.0)\n",
            "Requirement already satisfied: aiohttp in /usr/local/lib/python3.7/dist-packages (from parfive[ftp]>=1.2.0->sunpy==3.0) (3.8.1)\n",
            "Requirement already satisfied: tqdm>=4.27.0 in /usr/local/lib/python3.7/dist-packages (from parfive[ftp]>=1.2.0->sunpy==3.0) (4.64.0)\n",
            "Requirement already satisfied: typing-extensions in /usr/local/lib/python3.7/dist-packages (from parfive[ftp]>=1.2.0->sunpy==3.0) (4.1.1)\n",
            "Collecting aioftp>=0.17.1\n",
            "  Downloading aioftp-0.21.3-py3-none-any.whl (37 kB)\n",
            "Requirement already satisfied: multidict<7.0,>=4.5 in /usr/local/lib/python3.7/dist-packages (from aiohttp->parfive[ftp]>=1.2.0->sunpy==3.0) (6.0.2)\n",
            "Requirement already satisfied: frozenlist>=1.1.1 in /usr/local/lib/python3.7/dist-packages (from aiohttp->parfive[ftp]>=1.2.0->sunpy==3.0) (1.3.1)\n",
            "Requirement already satisfied: asynctest==0.13.0 in /usr/local/lib/python3.7/dist-packages (from aiohttp->parfive[ftp]>=1.2.0->sunpy==3.0) (0.13.0)\n",
            "Requirement already satisfied: yarl<2.0,>=1.0 in /usr/local/lib/python3.7/dist-packages (from aiohttp->parfive[ftp]>=1.2.0->sunpy==3.0) (1.8.1)\n",
            "Requirement already satisfied: aiosignal>=1.1.2 in /usr/local/lib/python3.7/dist-packages (from aiohttp->parfive[ftp]>=1.2.0->sunpy==3.0) (1.2.0)\n",
            "Requirement already satisfied: attrs>=17.3.0 in /usr/local/lib/python3.7/dist-packages (from aiohttp->parfive[ftp]>=1.2.0->sunpy==3.0) (22.1.0)\n",
            "Requirement already satisfied: async-timeout<5.0,>=4.0.0a3 in /usr/local/lib/python3.7/dist-packages (from aiohttp->parfive[ftp]>=1.2.0->sunpy==3.0) (4.0.2)\n",
            "Requirement already satisfied: charset-normalizer<3.0,>=2.0 in /usr/local/lib/python3.7/dist-packages (from aiohttp->parfive[ftp]>=1.2.0->sunpy==3.0) (2.1.1)\n",
            "Requirement already satisfied: idna>=2.0 in /usr/local/lib/python3.7/dist-packages (from yarl<2.0,>=1.0->aiohttp->parfive[ftp]>=1.2.0->sunpy==3.0) (2.10)\n",
            "Requirement already satisfied: zipp>=0.5 in /usr/local/lib/python3.7/dist-packages (from importlib-metadata->astropy>=4.1.0->sunpy==3.0) (3.8.1)\n",
            "Installing collected packages: parfive, aioftp, sunpy\n",
            "Successfully installed aioftp-0.21.3 parfive-2.0.1 sunpy-3.0.0\n",
            "Looking in indexes: https://pypi.org/simple, https://us-python.pkg.dev/colab-wheels/public/simple/\n",
            "Requirement already satisfied: ipython in /usr/local/lib/python3.7/dist-packages (7.9.0)\n",
            "Collecting ipython\n",
            "  Downloading ipython-7.34.0-py3-none-any.whl (793 kB)\n",
            "\u001b[K     |████████████████████████████████| 793 kB 5.4 MB/s \n",
            "\u001b[?25hRequirement already satisfied: traitlets>=4.2 in /usr/local/lib/python3.7/dist-packages (from ipython) (5.1.1)\n",
            "Requirement already satisfied: setuptools>=18.5 in /usr/local/lib/python3.7/dist-packages (from ipython) (57.4.0)\n",
            "Requirement already satisfied: pickleshare in /usr/local/lib/python3.7/dist-packages (from ipython) (0.7.5)\n",
            "Requirement already satisfied: backcall in /usr/local/lib/python3.7/dist-packages (from ipython) (0.2.0)\n",
            "Requirement already satisfied: prompt-toolkit!=3.0.0,!=3.0.1,<3.1.0,>=2.0.0 in /usr/local/lib/python3.7/dist-packages (from ipython) (2.0.10)\n",
            "Requirement already satisfied: decorator in /usr/local/lib/python3.7/dist-packages (from ipython) (4.4.2)\n",
            "Requirement already satisfied: pexpect>4.3 in /usr/local/lib/python3.7/dist-packages (from ipython) (4.8.0)\n",
            "Requirement already satisfied: pygments in /usr/local/lib/python3.7/dist-packages (from ipython) (2.6.1)\n",
            "Collecting jedi>=0.16\n",
            "  Downloading jedi-0.18.1-py2.py3-none-any.whl (1.6 MB)\n",
            "\u001b[K     |████████████████████████████████| 1.6 MB 32.8 MB/s \n",
            "\u001b[?25hCollecting matplotlib-inline\n",
            "  Downloading matplotlib_inline-0.1.6-py3-none-any.whl (9.4 kB)\n",
            "Requirement already satisfied: parso<0.9.0,>=0.8.0 in /usr/local/lib/python3.7/dist-packages (from jedi>=0.16->ipython) (0.8.3)\n",
            "Requirement already satisfied: ptyprocess>=0.5 in /usr/local/lib/python3.7/dist-packages (from pexpect>4.3->ipython) (0.7.0)\n",
            "Requirement already satisfied: six>=1.9.0 in /usr/local/lib/python3.7/dist-packages (from prompt-toolkit!=3.0.0,!=3.0.1,<3.1.0,>=2.0.0->ipython) (1.15.0)\n",
            "Requirement already satisfied: wcwidth in /usr/local/lib/python3.7/dist-packages (from prompt-toolkit!=3.0.0,!=3.0.1,<3.1.0,>=2.0.0->ipython) (0.2.5)\n",
            "Installing collected packages: matplotlib-inline, jedi, ipython\n",
            "  Attempting uninstall: ipython\n",
            "    Found existing installation: ipython 7.9.0\n",
            "    Uninstalling ipython-7.9.0:\n",
            "      Successfully uninstalled ipython-7.9.0\n",
            "\u001b[31mERROR: pip's dependency resolver does not currently take into account all the packages that are installed. This behaviour is the source of the following dependency conflicts.\n",
            "google-colab 1.0.0 requires ipython~=7.9.0, but you have ipython 7.34.0 which is incompatible.\u001b[0m\n",
            "Successfully installed ipython-7.34.0 jedi-0.18.1 matplotlib-inline-0.1.6\n"
          ]
        },
        {
          "output_type": "display_data",
          "data": {
            "application/vnd.colab-display-data+json": {
              "pip_warning": {
                "packages": [
                  "IPython"
                ]
              }
            }
          },
          "metadata": {}
        },
        {
          "output_type": "stream",
          "name": "stdout",
          "text": [
            "Looking in indexes: https://pypi.org/simple, https://us-python.pkg.dev/colab-wheels/public/simple/\n",
            "Collecting sklearn\n",
            "  Downloading sklearn-0.0.tar.gz (1.1 kB)\n",
            "Requirement already satisfied: scikit-learn in /usr/local/lib/python3.7/dist-packages (from sklearn) (1.0.2)\n",
            "Requirement already satisfied: threadpoolctl>=2.0.0 in /usr/local/lib/python3.7/dist-packages (from scikit-learn->sklearn) (3.1.0)\n",
            "Requirement already satisfied: numpy>=1.14.6 in /usr/local/lib/python3.7/dist-packages (from scikit-learn->sklearn) (1.21.6)\n",
            "Requirement already satisfied: scipy>=1.1.0 in /usr/local/lib/python3.7/dist-packages (from scikit-learn->sklearn) (1.7.3)\n",
            "Requirement already satisfied: joblib>=0.11 in /usr/local/lib/python3.7/dist-packages (from scikit-learn->sklearn) (1.1.0)\n",
            "Building wheels for collected packages: sklearn\n",
            "  Building wheel for sklearn (setup.py) ... \u001b[?25l\u001b[?25hdone\n",
            "  Created wheel for sklearn: filename=sklearn-0.0-py2.py3-none-any.whl size=1310 sha256=54f191dc42a2e4c75b6ccbf68904d724338d285cc2cf62442aace863523e19b9\n",
            "  Stored in directory: /root/.cache/pip/wheels/46/ef/c3/157e41f5ee1372d1be90b09f74f82b10e391eaacca8f22d33e\n",
            "Successfully built sklearn\n",
            "Installing collected packages: sklearn\n",
            "Successfully installed sklearn-0.0\n",
            "Looking in indexes: https://pypi.org/simple, https://us-python.pkg.dev/colab-wheels/public/simple/\n",
            "Collecting lime\n",
            "  Downloading lime-0.2.0.1.tar.gz (275 kB)\n",
            "\u001b[K     |████████████████████████████████| 275 kB 5.3 MB/s \n",
            "\u001b[?25hRequirement already satisfied: matplotlib in /usr/local/lib/python3.7/dist-packages (from lime) (3.2.2)\n",
            "Requirement already satisfied: numpy in /usr/local/lib/python3.7/dist-packages (from lime) (1.21.6)\n",
            "Requirement already satisfied: scipy in /usr/local/lib/python3.7/dist-packages (from lime) (1.7.3)\n",
            "Requirement already satisfied: tqdm in /usr/local/lib/python3.7/dist-packages (from lime) (4.64.0)\n",
            "Requirement already satisfied: scikit-learn>=0.18 in /usr/local/lib/python3.7/dist-packages (from lime) (1.0.2)\n",
            "Requirement already satisfied: scikit-image>=0.12 in /usr/local/lib/python3.7/dist-packages (from lime) (0.18.3)\n",
            "Requirement already satisfied: pillow!=7.1.0,!=7.1.1,>=4.3.0 in /usr/local/lib/python3.7/dist-packages (from scikit-image>=0.12->lime) (7.1.2)\n",
            "Requirement already satisfied: networkx>=2.0 in /usr/local/lib/python3.7/dist-packages (from scikit-image>=0.12->lime) (2.6.3)\n",
            "Requirement already satisfied: PyWavelets>=1.1.1 in /usr/local/lib/python3.7/dist-packages (from scikit-image>=0.12->lime) (1.3.0)\n",
            "Requirement already satisfied: imageio>=2.3.0 in /usr/local/lib/python3.7/dist-packages (from scikit-image>=0.12->lime) (2.9.0)\n",
            "Requirement already satisfied: tifffile>=2019.7.26 in /usr/local/lib/python3.7/dist-packages (from scikit-image>=0.12->lime) (2021.11.2)\n",
            "Requirement already satisfied: pyparsing!=2.0.4,!=2.1.2,!=2.1.6,>=2.0.1 in /usr/local/lib/python3.7/dist-packages (from matplotlib->lime) (3.0.9)\n",
            "Requirement already satisfied: python-dateutil>=2.1 in /usr/local/lib/python3.7/dist-packages (from matplotlib->lime) (2.8.2)\n",
            "Requirement already satisfied: kiwisolver>=1.0.1 in /usr/local/lib/python3.7/dist-packages (from matplotlib->lime) (1.4.4)\n",
            "Requirement already satisfied: cycler>=0.10 in /usr/local/lib/python3.7/dist-packages (from matplotlib->lime) (0.11.0)\n",
            "Requirement already satisfied: typing-extensions in /usr/local/lib/python3.7/dist-packages (from kiwisolver>=1.0.1->matplotlib->lime) (4.1.1)\n",
            "Requirement already satisfied: six>=1.5 in /usr/local/lib/python3.7/dist-packages (from python-dateutil>=2.1->matplotlib->lime) (1.15.0)\n",
            "Requirement already satisfied: threadpoolctl>=2.0.0 in /usr/local/lib/python3.7/dist-packages (from scikit-learn>=0.18->lime) (3.1.0)\n",
            "Requirement already satisfied: joblib>=0.11 in /usr/local/lib/python3.7/dist-packages (from scikit-learn>=0.18->lime) (1.1.0)\n",
            "Building wheels for collected packages: lime\n",
            "  Building wheel for lime (setup.py) ... \u001b[?25l\u001b[?25hdone\n",
            "  Created wheel for lime: filename=lime-0.2.0.1-py3-none-any.whl size=283857 sha256=6188fb2f775935b820b3cd15861264068a55b3de4c8f9a2654eb8a39194126b2\n",
            "  Stored in directory: /root/.cache/pip/wheels/ca/cb/e5/ac701e12d365a08917bf4c6171c0961bc880a8181359c66aa7\n",
            "Successfully built lime\n",
            "Installing collected packages: lime\n",
            "Successfully installed lime-0.2.0.1\n"
          ]
        }
      ]
    },
    {
      "cell_type": "code",
      "source": [
        "!pip install sunkit-instruments"
      ],
      "metadata": {
        "id": "_RSC1KVIMmtD",
        "colab": {
          "base_uri": "https://localhost:8080/"
        },
        "outputId": "495e3e93-5e06-4cee-b36b-0d69097e33bc"
      },
      "execution_count": null,
      "outputs": [
        {
          "output_type": "stream",
          "name": "stdout",
          "text": [
            "Looking in indexes: https://pypi.org/simple, https://us-python.pkg.dev/colab-wheels/public/simple/\n",
            "Collecting sunkit-instruments\n",
            "  Downloading sunkit_instruments-0.2.0-py3-none-any.whl (1.4 MB)\n",
            "\u001b[K     |████████████████████████████████| 1.4 MB 5.2 MB/s \n",
            "\u001b[?25hRequirement already satisfied: sunpy[net,timeseries]>=2.1.0rc3 in /usr/local/lib/python3.7/dist-packages (from sunkit-instruments) (3.0.0)\n",
            "Requirement already satisfied: matplotlib in /usr/local/lib/python3.7/dist-packages (from sunkit-instruments) (3.2.2)\n",
            "Requirement already satisfied: pandas in /usr/local/lib/python3.7/dist-packages (from sunkit-instruments) (1.3.5)\n",
            "Requirement already satisfied: scipy in /usr/local/lib/python3.7/dist-packages (from sunkit-instruments) (1.7.3)\n",
            "Requirement already satisfied: numpy in /usr/local/lib/python3.7/dist-packages (from sunkit-instruments) (1.21.6)\n",
            "Requirement already satisfied: astropy in /usr/local/lib/python3.7/dist-packages (from sunkit-instruments) (4.3.1)\n",
            "Requirement already satisfied: parfive[ftp]>=1.2.0 in /usr/local/lib/python3.7/dist-packages (from sunpy[net,timeseries]>=2.1.0rc3->sunkit-instruments) (2.0.1)\n",
            "Collecting h5netcdf>=0.8.1\n",
            "  Downloading h5netcdf-1.0.2-py2.py3-none-any.whl (24 kB)\n",
            "Requirement already satisfied: h5py>=3.1.0 in /usr/local/lib/python3.7/dist-packages (from sunpy[net,timeseries]>=2.1.0rc3->sunkit-instruments) (3.1.0)\n",
            "Collecting zeep>=3.4.0\n",
            "  Downloading zeep-4.1.0-py2.py3-none-any.whl (100 kB)\n",
            "\u001b[K     |████████████████████████████████| 100 kB 8.6 MB/s \n",
            "\u001b[?25hCollecting drms>=0.6.1\n",
            "  Downloading drms-0.6.2-py3-none-any.whl (35 kB)\n",
            "Requirement already satisfied: tqdm>=4.32.1 in /usr/local/lib/python3.7/dist-packages (from sunpy[net,timeseries]>=2.1.0rc3->sunkit-instruments) (4.64.0)\n",
            "Collecting beautifulsoup4>=4.8.0\n",
            "  Downloading beautifulsoup4-4.11.1-py3-none-any.whl (128 kB)\n",
            "\u001b[K     |████████████████████████████████| 128 kB 44.4 MB/s \n",
            "\u001b[?25hRequirement already satisfied: python-dateutil>=2.8.0 in /usr/local/lib/python3.7/dist-packages (from sunpy[net,timeseries]>=2.1.0rc3->sunkit-instruments) (2.8.2)\n",
            "Requirement already satisfied: pyerfa>=1.7.3 in /usr/local/lib/python3.7/dist-packages (from astropy->sunkit-instruments) (2.0.0.1)\n",
            "Requirement already satisfied: importlib-metadata in /usr/local/lib/python3.7/dist-packages (from astropy->sunkit-instruments) (4.12.0)\n",
            "Collecting soupsieve>1.2\n",
            "  Downloading soupsieve-2.3.2.post1-py3-none-any.whl (37 kB)\n",
            "Requirement already satisfied: packaging in /usr/local/lib/python3.7/dist-packages (from h5netcdf>=0.8.1->sunpy[net,timeseries]>=2.1.0rc3->sunkit-instruments) (21.3)\n",
            "Requirement already satisfied: cached-property in /usr/local/lib/python3.7/dist-packages (from h5py>=3.1.0->sunpy[net,timeseries]>=2.1.0rc3->sunkit-instruments) (1.5.2)\n",
            "Requirement already satisfied: kiwisolver>=1.0.1 in /usr/local/lib/python3.7/dist-packages (from matplotlib->sunkit-instruments) (1.4.4)\n",
            "Requirement already satisfied: pyparsing!=2.0.4,!=2.1.2,!=2.1.6,>=2.0.1 in /usr/local/lib/python3.7/dist-packages (from matplotlib->sunkit-instruments) (3.0.9)\n",
            "Requirement already satisfied: cycler>=0.10 in /usr/local/lib/python3.7/dist-packages (from matplotlib->sunkit-instruments) (0.11.0)\n",
            "Requirement already satisfied: typing-extensions in /usr/local/lib/python3.7/dist-packages (from kiwisolver>=1.0.1->matplotlib->sunkit-instruments) (4.1.1)\n",
            "Requirement already satisfied: pytz>=2017.3 in /usr/local/lib/python3.7/dist-packages (from pandas->sunkit-instruments) (2022.2.1)\n",
            "Requirement already satisfied: aiohttp in /usr/local/lib/python3.7/dist-packages (from parfive[ftp]>=1.2.0->sunpy[net,timeseries]>=2.1.0rc3->sunkit-instruments) (3.8.1)\n",
            "Requirement already satisfied: aioftp>=0.17.1 in /usr/local/lib/python3.7/dist-packages (from parfive[ftp]>=1.2.0->sunpy[net,timeseries]>=2.1.0rc3->sunkit-instruments) (0.21.3)\n",
            "Requirement already satisfied: six>=1.5 in /usr/local/lib/python3.7/dist-packages (from python-dateutil>=2.8.0->sunpy[net,timeseries]>=2.1.0rc3->sunkit-instruments) (1.15.0)\n",
            "Collecting platformdirs>=1.4.0\n",
            "  Downloading platformdirs-2.5.2-py3-none-any.whl (14 kB)\n",
            "Requirement already satisfied: attrs>=17.2.0 in /usr/local/lib/python3.7/dist-packages (from zeep>=3.4.0->sunpy[net,timeseries]>=2.1.0rc3->sunkit-instruments) (22.1.0)\n",
            "Requirement already satisfied: lxml>=4.6.0 in /usr/local/lib/python3.7/dist-packages (from zeep>=3.4.0->sunpy[net,timeseries]>=2.1.0rc3->sunkit-instruments) (4.9.1)\n",
            "Requirement already satisfied: requests>=2.7.0 in /usr/local/lib/python3.7/dist-packages (from zeep>=3.4.0->sunpy[net,timeseries]>=2.1.0rc3->sunkit-instruments) (2.23.0)\n",
            "Collecting requests-toolbelt>=0.7.1\n",
            "  Downloading requests_toolbelt-0.9.1-py2.py3-none-any.whl (54 kB)\n",
            "\u001b[K     |████████████████████████████████| 54 kB 2.5 MB/s \n",
            "\u001b[?25hCollecting requests-file>=1.5.1\n",
            "  Downloading requests_file-1.5.1-py2.py3-none-any.whl (3.7 kB)\n",
            "Collecting isodate>=0.5.4\n",
            "  Downloading isodate-0.6.1-py2.py3-none-any.whl (41 kB)\n",
            "\u001b[K     |████████████████████████████████| 41 kB 525 kB/s \n",
            "\u001b[?25hRequirement already satisfied: idna<3,>=2.5 in /usr/local/lib/python3.7/dist-packages (from requests>=2.7.0->zeep>=3.4.0->sunpy[net,timeseries]>=2.1.0rc3->sunkit-instruments) (2.10)\n",
            "Requirement already satisfied: certifi>=2017.4.17 in /usr/local/lib/python3.7/dist-packages (from requests>=2.7.0->zeep>=3.4.0->sunpy[net,timeseries]>=2.1.0rc3->sunkit-instruments) (2022.6.15)\n",
            "Requirement already satisfied: urllib3!=1.25.0,!=1.25.1,<1.26,>=1.21.1 in /usr/local/lib/python3.7/dist-packages (from requests>=2.7.0->zeep>=3.4.0->sunpy[net,timeseries]>=2.1.0rc3->sunkit-instruments) (1.24.3)\n",
            "Requirement already satisfied: chardet<4,>=3.0.2 in /usr/local/lib/python3.7/dist-packages (from requests>=2.7.0->zeep>=3.4.0->sunpy[net,timeseries]>=2.1.0rc3->sunkit-instruments) (3.0.4)\n",
            "Requirement already satisfied: frozenlist>=1.1.1 in /usr/local/lib/python3.7/dist-packages (from aiohttp->parfive[ftp]>=1.2.0->sunpy[net,timeseries]>=2.1.0rc3->sunkit-instruments) (1.3.1)\n",
            "Requirement already satisfied: multidict<7.0,>=4.5 in /usr/local/lib/python3.7/dist-packages (from aiohttp->parfive[ftp]>=1.2.0->sunpy[net,timeseries]>=2.1.0rc3->sunkit-instruments) (6.0.2)\n",
            "Requirement already satisfied: aiosignal>=1.1.2 in /usr/local/lib/python3.7/dist-packages (from aiohttp->parfive[ftp]>=1.2.0->sunpy[net,timeseries]>=2.1.0rc3->sunkit-instruments) (1.2.0)\n",
            "Requirement already satisfied: async-timeout<5.0,>=4.0.0a3 in /usr/local/lib/python3.7/dist-packages (from aiohttp->parfive[ftp]>=1.2.0->sunpy[net,timeseries]>=2.1.0rc3->sunkit-instruments) (4.0.2)\n",
            "Requirement already satisfied: asynctest==0.13.0 in /usr/local/lib/python3.7/dist-packages (from aiohttp->parfive[ftp]>=1.2.0->sunpy[net,timeseries]>=2.1.0rc3->sunkit-instruments) (0.13.0)\n",
            "Requirement already satisfied: yarl<2.0,>=1.0 in /usr/local/lib/python3.7/dist-packages (from aiohttp->parfive[ftp]>=1.2.0->sunpy[net,timeseries]>=2.1.0rc3->sunkit-instruments) (1.8.1)\n",
            "Requirement already satisfied: charset-normalizer<3.0,>=2.0 in /usr/local/lib/python3.7/dist-packages (from aiohttp->parfive[ftp]>=1.2.0->sunpy[net,timeseries]>=2.1.0rc3->sunkit-instruments) (2.1.1)\n",
            "Requirement already satisfied: zipp>=0.5 in /usr/local/lib/python3.7/dist-packages (from importlib-metadata->astropy->sunkit-instruments) (3.8.1)\n",
            "Installing collected packages: soupsieve, requests-toolbelt, requests-file, platformdirs, isodate, zeep, h5netcdf, drms, beautifulsoup4, sunkit-instruments\n",
            "  Attempting uninstall: beautifulsoup4\n",
            "    Found existing installation: beautifulsoup4 4.6.3\n",
            "    Uninstalling beautifulsoup4-4.6.3:\n",
            "      Successfully uninstalled beautifulsoup4-4.6.3\n",
            "Successfully installed beautifulsoup4-4.11.1 drms-0.6.2 h5netcdf-1.0.2 isodate-0.6.1 platformdirs-2.5.2 requests-file-1.5.1 requests-toolbelt-0.9.1 soupsieve-2.3.2.post1 sunkit-instruments-0.2.0 zeep-4.1.0\n"
          ]
        }
      ]
    },
    {
      "cell_type": "code",
      "source": [
        "import os\n",
        "os.kill(os.getpid(), 9)"
      ],
      "metadata": {
        "id": "_Fd8wy7glihI"
      },
      "execution_count": null,
      "outputs": []
    },
    {
      "cell_type": "code",
      "source": [
        "#https://scikit-learn.org/stable/modules/kernel_ridge.html"
      ],
      "metadata": {
        "id": "OC_xzXRJ0tdY"
      },
      "execution_count": null,
      "outputs": []
    },
    {
      "cell_type": "markdown",
      "source": [
        "Primeiro modelo preditivo retirado das conclusões de Bobra & Ilonidis (2016)"
      ],
      "metadata": {
        "id": "X5RIGpeV9ZVm"
      }
    },
    {
      "cell_type": "code",
      "source": [
        "# Importe Das Bibliotecasimport sklearn as sk\n",
        "\n",
        "import numpy as np\n",
        "import matplotlib.pylab as plt\n",
        "import matplotlib.mlab as mlab\n",
        "import pandas as pd\n",
        "import scipy.stats\n",
        "import requests\n",
        "import urllib\n",
        "import json\n",
        "from datetime import datetime as dt_obj\n",
        "from datetime import timedelta\n",
        "from sklearn import svm\n",
        "from sklearn.model_selection import StratifiedKFold\n",
        "from sunpy.time import TimeRange\n",
        "import sunpy.instr.goes\n",
        "import lime\n",
        "import lime.lime_tabular\n",
        "pd.set_option('display.max_rows', 500)\n",
        "%matplotlib inline\n",
        "%config InlineBackend.figure_format = 'retina'\n",
        "\n",
        "print(sunpy.__version__)"
      ],
      "metadata": {
        "id": "b1lRcM7fx-lO"
      },
      "execution_count": null,
      "outputs": []
    },
    {
      "cell_type": "code",
      "source": [
        "# request the data of Flare\n",
        "baseurl = \"https://kauai.ccmc.gsfc.nasa.gov/DONKI/WS/get/FLR?\"\n",
        "t_start = \"2010-05-01\"\n",
        "t_end = \"2022-08-30\"\n",
        "url = baseurl+\"startDate=\"+t_start+\"&endDate=\"+t_end\n",
        "\n",
        "# if there's no response at this time, print warning\n",
        "response = requests.get(url)\n",
        "if response.status_code != 200:\n",
        "    print('cannot successfully get an http response')\n",
        "\n",
        "# request the data of from CMEAnalysis\n",
        "baseurlAN = \"https://kauai.ccmc.gsfc.nasa.gov/DONKI/WS/get/CMEAnalysis?\"\n",
        "t_startAN = \"2010-05-01\"\n",
        "t_endAN = \"2022-08-30\"\n",
        "urlAN = baseurlAN+\"startDate=\"+t_startAN+\"&endDate=\"+t_endAN\n",
        "\n",
        "# if there's no response at this time, print warning\n",
        "response = requests.get(urlAN)\n",
        "if response.status_code != 200:     \n",
        "    print('cannot successfully get an http response')"
      ],
      "metadata": {
        "id": "tEelEVTp58g1"
      },
      "execution_count": null,
      "outputs": []
    },
    {
      "cell_type": "code",
      "source": [
        "# read the data of Flare\n",
        "\n",
        "print(\"Getting data from\", url)\n",
        "df = pd.read_json(url)\n",
        "print(df.dtypes)\n",
        "\n",
        "# read the data of CME Analysis\n",
        "\n",
        "print(\"Getting data from\", url)\n",
        "dfAN = pd.read_json(urlAN)\n",
        "print(dfAN.dtypes)"
      ],
      "metadata": {
        "colab": {
          "base_uri": "https://localhost:8080/"
        },
        "id": "N0SaA2FN6Hd9",
        "outputId": "53416f5f-ebcf-4659-b6f9-98d98897b3a8"
      },
      "execution_count": null,
      "outputs": [
        {
          "output_type": "stream",
          "name": "stdout",
          "text": [
            "Getting data from https://kauai.ccmc.gsfc.nasa.gov/DONKI/WS/get/FLR?startDate=2010-05-01&endDate=2022-08-30\n",
            "flrID               object\n",
            "instruments         object\n",
            "beginTime           object\n",
            "peakTime            object\n",
            "endTime             object\n",
            "classType           object\n",
            "sourceLocation      object\n",
            "activeRegionNum    float64\n",
            "linkedEvents        object\n",
            "link                object\n",
            "dtype: object\n",
            "Getting data from https://kauai.ccmc.gsfc.nasa.gov/DONKI/WS/get/FLR?startDate=2010-05-01&endDate=2022-08-30\n",
            "time21_5            object\n",
            "latitude           float64\n",
            "longitude          float64\n",
            "halfAngle          float64\n",
            "speed              float64\n",
            "type                object\n",
            "isMostAccurate        bool\n",
            "associatedCMEID     object\n",
            "note                object\n",
            "catalog             object\n",
            "link                object\n",
            "dtype: object\n"
          ]
        }
      ]
    },
    {
      "cell_type": "code",
      "source": [
        "print(dfAN.type, dfAN.speed)\n",
        "\n",
        "#portanto pode se concluir que as mais temidas muito conhecidas por serem atribuidas a letra X aqui nessa \n",
        "#base de dados da DONKI aparentemente é atribuida a letra O, sendo as de intensidade mediana C e as mais\n",
        "#fracas classificadas como S"
      ],
      "metadata": {
        "id": "PmKBaQVjC_c2"
      },
      "execution_count": null,
      "outputs": []
    },
    {
      "cell_type": "code",
      "source": [
        "#Começo da predião das CME - OBS: não atribuido nesta o tipo/intensidade das mesmas, apenas ocorrências"
      ],
      "metadata": {
        "id": "OuuhPFtENKwj"
      },
      "execution_count": null,
      "outputs": []
    },
    {
      "cell_type": "code",
      "source": [
        "#select flares associated with a linked event (SEP or CME), and\n",
        "#select only M or X-class flares\n",
        "\n",
        "events_list = df.loc[df['classType'].str.contains(\"M|X\") & ~df['linkedEvents'].isnull()]\n",
        "\n",
        "events_list = events_list.reset_index(drop=True)"
      ],
      "metadata": {
        "id": "h5lUwpU597vk"
      },
      "execution_count": null,
      "outputs": []
    },
    {
      "cell_type": "code",
      "source": [
        "for i in range(events_list.shape[0]):\n",
        "    value = events_list.loc[i]['linkedEvents'][0]['activityID']\n",
        "    if not \"CME\" in value:\n",
        "       print(value,\"not a CME, dropping now\")\n",
        "       events_list = events_list.drop([i])\n",
        "events_list = events_list.reset_index(drop=True)"
      ],
      "metadata": {
        "id": "aBK9NWk-MOBR"
      },
      "execution_count": null,
      "outputs": []
    },
    {
      "cell_type": "code",
      "source": [
        "def parse_tai_string(tstr):\n",
        "    year = int(tstr[:4])\n",
        "    month = int(tstr[5:7])\n",
        "    day = int(tstr[8:10])\n",
        "    hour = int(tstr[11:13])\n",
        "    minute = int(tstr[14:16])\n",
        "    return dt_obj(year, month, day, hour, minute)\n",
        "\n",
        "for i in range(events_list.shape[0]):\n",
        "    events_list['peakTime'].iloc[i] = parse_tai_string(events_list['peakTime'].iloc[i])"
      ],
      "metadata": {
        "id": "E_EpYoeBI-vo"
      },
      "execution_count": null,
      "outputs": []
    },
    {
      "cell_type": "code",
      "source": [
        "# Case 1: CME and Flare exist but NOAA active region number does not exist\n",
        "\n",
        "# Case 1: CME and Flare exist but NOAA active region number does not exist in DONKI database\n",
        "\n",
        "number_of_donki_mistakes = 0  # count the number of DONKI mistakes\n",
        "# create an empty array to hold row numbers to drop at the end\n",
        "event_list_drops = []\n",
        "\n",
        "for i in range(events_list.shape[0]):\n",
        "    if (np.isnan(events_list.loc[i]['activeRegionNum'])):\n",
        "        time = events_list['peakTime'].iloc[i]\n",
        "        time_range = TimeRange(time, time)\n",
        "        listofresults = sunpy.instr.goes.get_goes_event_list(time_range, 'M1')\n",
        "        if (listofresults[0]['noaa_active_region'] == 0):\n",
        "            print(events_list.loc[i]['activeRegionNum'], events_list.loc[i]\n",
        "                  ['classType'], \"has no match in the GOES flare database ; dropping row.\")\n",
        "            event_list_drops.append(i)\n",
        "            number_of_donki_mistakes += 1\n",
        "            continue\n",
        "        else:\n",
        "            print(\"Missing NOAA number:\", events_list['activeRegionNum'].iloc[i], events_list['classType'].iloc[i],\n",
        "                  events_list['peakTime'].iloc[i], \"should be\", listofresults[0]['noaa_active_region'], \"; changing now.\")\n",
        "            events_list['activeRegionNum'].iloc[i] = listofresults[0]['noaa_active_region']\n",
        "            number_of_donki_mistakes += 1\n",
        "\n",
        "# Drop the rows for which there is no active region number in both the DONKI and GOES flare databases\n",
        "events_list = events_list.drop(event_list_drops)\n",
        "events_list = events_list.reset_index(drop=True)\n",
        "print('There are', number_of_donki_mistakes, 'DONKI mistakes so far.')"
      ],
      "metadata": {
        "id": "D4pgbv7xyqrR"
      },
      "execution_count": null,
      "outputs": []
    },
    {
      "cell_type": "code",
      "source": [
        "# Grab all the data from the GOES database\n",
        "time_range = TimeRange(t_start, t_end)\n",
        "listofresults = sunpy.instr.goes.get_goes_event_list(time_range, 'M1')\n",
        "print('Grabbed all the GOES data; there are', len(listofresults), 'events.')"
      ],
      "metadata": {
        "id": "0EkU8Fsq3hzS"
      },
      "execution_count": null,
      "outputs": []
    },
    {
      "cell_type": "code",
      "source": [
        "# Case 2: NOAA active region number is wrong in DONKI database\n",
        "\n",
        "# collect all the peak flares times in the NOAA database\n",
        "peak_times_noaa = [item[\"peak_time\"] for item in listofresults]\n",
        "\n",
        "for i in range(events_list.shape[0]):\n",
        "    # check if a particular DONKI flare peak time is also in the NOAA database\n",
        "    peak_time_donki = events_list['peakTime'].iloc[i]\n",
        "    if peak_time_donki in peak_times_noaa:\n",
        "        index = peak_times_noaa.index(peak_time_donki)\n",
        "    else:\n",
        "        continue\n",
        "    # ignore NOAA active region numbers equal to zero\n",
        "    if (listofresults[index]['noaa_active_region'] == 0):\n",
        "        continue\n",
        "    # if yes, check if the DONKI and NOAA active region numbers match up for this peak time\n",
        "    # if they don't, flag this peak time and replace the DONKI number with the NOAA number\n",
        "    if (listofresults[index]['noaa_active_region'] != int(events_list['activeRegionNum'].iloc[i])):\n",
        "        print('Messed up NOAA number:', int(events_list['activeRegionNum'].iloc[i]), events_list['classType'].iloc[i],\n",
        "              events_list['peakTime'].iloc[i], \"should be\", listofresults[index]['noaa_active_region'], \"; changing now.\")\n",
        "        events_list['activeRegionNum'].iloc[i] = listofresults[index]['noaa_active_region']\n",
        "        number_of_donki_mistakes += 1\n",
        "print('There are', number_of_donki_mistakes, 'DONKI mistakes so far.')"
      ],
      "metadata": {
        "id": "ou9IeWHQPGW9"
      },
      "execution_count": null,
      "outputs": []
    },
    {
      "cell_type": "code",
      "source": [
        "# Case 3: The flare peak time is wrong in the DONKI database.\n",
        "\n",
        "# create an empty array to hold row numbers to drop at the end\n",
        "event_list_drops = []\n",
        "\n",
        "active_region_numbers_noaa = [item[\"noaa_active_region\"]\n",
        "                              for item in listofresults]\n",
        "flare_classes_noaa = [item[\"goes_class\"] for item in listofresults]\n",
        "\n",
        "for i in range(events_list.shape[0]):\n",
        "    # check if a particular DONKI flare peak time is also in the NOAA database\n",
        "    peak_time_donki = events_list['peakTime'].iloc[i]\n",
        "    if not peak_time_donki in peak_times_noaa:\n",
        "        active_region_number_donki = int(\n",
        "            events_list['activeRegionNum'].iloc[i])\n",
        "        flare_class_donki = events_list['classType'].iloc[i]\n",
        "        flare_class_indices = [i for i, x in enumerate(\n",
        "            flare_classes_noaa) if x == flare_class_donki]\n",
        "        active_region_indices = [i for i, x in enumerate(\n",
        "            active_region_numbers_noaa) if x == active_region_number_donki]\n",
        "        common_indices = list(\n",
        "            set(flare_class_indices).intersection(active_region_indices))\n",
        "        if common_indices:\n",
        "            print(\"Messed up time:\", int(events_list['activeRegionNum'].iloc[i]), events_list['classType'].iloc[i],\n",
        "                  events_list['peakTime'].iloc[i], \"should be\", peak_times_noaa[common_indices[0]], \"; changing now.\")\n",
        "            events_list['peakTime'].iloc[i] = peak_times_noaa[common_indices[0]]\n",
        "            number_of_donki_mistakes += 1\n",
        "        if not common_indices:\n",
        "            print(\"DONKI flare peak time\",\n",
        "                  events_list['peakTime'].iloc[i], \"has no match; dropping row.\")\n",
        "            event_list_drops.append(i)\n",
        "            number_of_donki_mistakes += 1\n",
        "\n",
        "# Drop the rows for which the NOAA active region number and flare class associated with\n",
        "# the messed-up flare peak time in the DONKI database has no match in the GOES flare database\n",
        "events_list = events_list.drop(event_list_drops)\n",
        "events_list = events_list.reset_index(drop=True)\n",
        "\n",
        "# Create a list of corrected flare peak times\n",
        "peak_times_donki = [events_list['peakTime'].iloc[i]\n",
        "                    for i in range(events_list.shape[0])]\n",
        "\n",
        "print('There are', number_of_donki_mistakes, 'DONKI mistakes so far.')"
      ],
      "metadata": {
        "id": "bPgKWUTyPGjO"
      },
      "execution_count": null,
      "outputs": []
    },
    {
      "cell_type": "code",
      "source": [
        "events_list"
      ],
      "metadata": {
        "id": "SJgHP48XPGt4"
      },
      "execution_count": null,
      "outputs": []
    },
    {
      "cell_type": "code",
      "source": [
        "answer = pd.read_csv('http://jsoc.stanford.edu/doc/data/hmi/harpnum_to_noaa/all_harps_with_noaa_ars.txt', sep=' ')"
      ],
      "metadata": {
        "id": "kq67dKnsPG5D"
      },
      "execution_count": null,
      "outputs": []
    },
    {
      "cell_type": "code",
      "source": [
        "timedelayvariable = 24"
      ],
      "metadata": {
        "id": "xXDjiGRkPy2k"
      },
      "execution_count": null,
      "outputs": []
    },
    {
      "cell_type": "code",
      "source": [
        "t_rec = [(events_list['peakTime'].iloc[i] - timedelta(hours=timedelayvariable)).strftime('%Y.%m.%d_%H:%M_TAI') for i in range(events_list.shape[0])]"
      ],
      "metadata": {
        "id": "exSHg4HNPzFh"
      },
      "execution_count": null,
      "outputs": []
    },
    {
      "cell_type": "code",
      "source": [
        "def get_the_jsoc_data(event_count, t_rec):\n",
        "    \"\"\"\n",
        "    Parameters\n",
        "    ----------\n",
        "    event_count: number of events \n",
        "                 int\n",
        "\n",
        "    t_rec:       list of times, one associated with each event in event_count\n",
        "                 list of strings in JSOC format ('%Y.%m.%d_%H:%M_TAI')\n",
        "\n",
        "    \"\"\"\n",
        "\n",
        "    catalog_data = []\n",
        "    classification = []\n",
        "\n",
        "    for i in range(event_count):\n",
        "\n",
        "        print(\"=====\", i, \"=====\")\n",
        "        # next match NOAA_ARS to HARPNUM\n",
        "        idx = answer[answer['NOAA_ARS'].str.contains(\n",
        "            str(int(listofactiveregions[i])))]\n",
        "\n",
        "        # if there's no HARPNUM, quit\n",
        "        if (idx.empty == True):\n",
        "            print('skip: there are no matching HARPNUMs for',\n",
        "                  str(int(listofactiveregions[i])))\n",
        "            continue\n",
        "\n",
        "        # construct jsoc_info queries and query jsoc database; we are querying for 25 keywords\n",
        "        url = \"http://jsoc.stanford.edu/cgi-bin/ajax/jsoc_info?ds=hmi.sharp_720s[\"+str(\n",
        "            idx.HARPNUM.values[0])+\"][\"+t_rec[i]+\"][? (CODEVER7 !~ '1.1 ') and (abs(OBS_VR)< 3500) and (QUALITY<65536) ?]&op=rs_list&key=USFLUX,MEANGBT,MEANJZH,MEANPOT,SHRGT45,TOTUSJH,MEANGBH,MEANALP,MEANGAM,MEANGBZ,MEANJZD,TOTUSJZ,SAVNCPP,TOTPOT,MEANSHR,AREA_ACR,R_VALUE,ABSNJZH\"\n",
        "        response = requests.get(url)\n",
        "\n",
        "        # if there's no response at this time, quit\n",
        "        if response.status_code != 200:\n",
        "            print('skip: cannot successfully get an http response')\n",
        "            continue\n",
        "\n",
        "        # read the JSON output\n",
        "        data = response.json()\n",
        "\n",
        "        # if there are no data at this time, quit\n",
        "        if data['count'] == 0:\n",
        "            print('skip: there are no data for HARPNUM',\n",
        "                  idx.HARPNUM.values[0], 'at time', t_rec[i])\n",
        "            continue\n",
        "\n",
        "        # check to see if the active region is too close to the limb\n",
        "        # we can compute the latitude of an active region in stonyhurst coordinates as follows:\n",
        "        # latitude_stonyhurst = CRVAL1 - CRLN_OBS\n",
        "        # for this we have to query the CEA series (but above we queried the other series as the CEA series does not have CODEVER5 in it)\n",
        "\n",
        "        url = \"http://jsoc.stanford.edu/cgi-bin/ajax/jsoc_info?ds=hmi.sharp_cea_720s[\"+str(\n",
        "            idx.HARPNUM.values[0])+\"][\"+t_rec[i]+\"][? (abs(OBS_VR)< 3500) and (QUALITY<65536) ?]&op=rs_list&key=CRVAL1,CRLN_OBS\"\n",
        "        response = requests.get(url)\n",
        "\n",
        "        # if there's no response at this time, quit\n",
        "        if response.status_code != 200:\n",
        "            print('skip: failed to find CEA JSOC data for HARPNUM',\n",
        "                  idx.HARPNUM.values[0], 'at time', t_rec[i])\n",
        "            continue\n",
        "\n",
        "        # read the JSON output\n",
        "        latitude_information = response.json()\n",
        "\n",
        "        # if there are no data at this time, quit\n",
        "        if latitude_information['count'] == 0:\n",
        "            print('skip: there are no data for HARPNUM',\n",
        "                  idx.HARPNUM.values[0], 'at time', t_rec[i])\n",
        "            continue\n",
        "\n",
        "        CRVAL1 = float(latitude_information['keywords'][0]['values'][0])\n",
        "        CRLN_OBS = float(latitude_information['keywords'][1]['values'][0])\n",
        "        if (np.absolute(CRVAL1 - CRLN_OBS) > 70.0):\n",
        "            print('skip: latitude is out of range for HARPNUM',\n",
        "                  idx.HARPNUM.values[0], 'at time', t_rec[i])\n",
        "            continue\n",
        "\n",
        "        if ('MISSING' in str(data['keywords'])):\n",
        "            print('skip: there are some missing keywords for HARPNUM',\n",
        "                  idx.HARPNUM.values[0], 'at time', t_rec[i])\n",
        "            continue\n",
        "\n",
        "        print('accept NOAA Active Region number', str(int(\n",
        "            listofactiveregions[i])), 'and HARPNUM', idx.HARPNUM.values[0], 'at time', t_rec[i])\n",
        "\n",
        "        individual_flare_data = []\n",
        "        for j in range(18):\n",
        "            individual_flare_data.append(\n",
        "                float(data['keywords'][j]['values'][0]))\n",
        "\n",
        "        catalog_data.append(list(individual_flare_data))\n",
        "\n",
        "        single_class_instance = [idx.HARPNUM.values[0], str(\n",
        "            int(listofactiveregions[i])), listofgoesclasses[i], t_rec[i]]\n",
        "        classification.append(single_class_instance)\n",
        "\n",
        "    return catalog_data, classification"
      ],
      "metadata": {
        "id": "E_hl8z7YPzSb"
      },
      "execution_count": null,
      "outputs": []
    },
    {
      "cell_type": "code",
      "source": [
        "listofactiveregions = list(events_list['activeRegionNum'].values.flatten())\n",
        "listofgoesclasses = list(events_list['classType'].values.flatten())"
      ],
      "metadata": {
        "id": "lp5C1HZuPzwJ"
      },
      "execution_count": null,
      "outputs": []
    },
    {
      "cell_type": "code",
      "source": [
        "positive_result = get_the_jsoc_data(events_list.shape[0], t_rec)"
      ],
      "metadata": {
        "id": "Nb4t_9w3QZtn"
      },
      "execution_count": null,
      "outputs": []
    },
    {
      "cell_type": "code",
      "source": [
        "CME_data = positive_result[0]\n",
        "positive_class = positive_result[1]\n",
        "print(\"There are\", len(CME_data), \"CME events in the positive class.\")\n",
        "print(CME_data)"
      ],
      "metadata": {
        "id": "aeaS84ZeQdEu"
      },
      "execution_count": null,
      "outputs": []
    },
    {
      "cell_type": "code",
      "source": [
        "#Parte 2"
      ],
      "metadata": {
        "id": "mSPY5pmBQZ54"
      },
      "execution_count": null,
      "outputs": []
    },
    {
      "cell_type": "code",
      "source": [
        "# select peak times that belong to both classes\n",
        "all_peak_times = np.array([(listofresults[i]['peak_time'])\n",
        "                           for i in range(len(listofresults))])\n",
        "\n",
        "negative_class_possibilities = []\n",
        "counter_positive = 0\n",
        "counter_negative = 0\n",
        "for i in range(len(listofresults)):\n",
        "    this_peak_time = all_peak_times[i]\n",
        "    if (this_peak_time in peak_times_donki):\n",
        "        counter_positive += 1\n",
        "    else:\n",
        "        counter_negative += 1\n",
        "        this_instance = [listofresults[i]['noaa_active_region'],\n",
        "                         listofresults[i]['goes_class'], listofresults[i]['peak_time']]\n",
        "        negative_class_possibilities.append(this_instance)\n",
        "print(\"There are\", counter_positive, \"events in the positive class.\")\n",
        "print(\"There are\", counter_negative, \"events in the negative class.\")"
      ],
      "metadata": {
        "id": "7OWX_b6fQaD_"
      },
      "execution_count": null,
      "outputs": []
    },
    {
      "cell_type": "code",
      "source": [
        "t_rec = np.array([(negative_class_possibilities[i][2] - timedelta(hours=timedelayvariable)\n",
        "                   ).strftime('%Y.%m.%d_%H:%M_TAI') for i in range(len(negative_class_possibilities))])"
      ],
      "metadata": {
        "id": "aMkBbPq-QaPu"
      },
      "execution_count": null,
      "outputs": []
    },
    {
      "cell_type": "code",
      "source": [
        "listofactiveregions = list(\n",
        "    negative_class_possibilities[i][0] for i in range(counter_negative))\n",
        "listofgoesclasses = list(\n",
        "    negative_class_possibilities[i][1] for i in range(counter_negative))"
      ],
      "metadata": {
        "id": "YkhHFSXIQtC1"
      },
      "execution_count": null,
      "outputs": []
    },
    {
      "cell_type": "code",
      "source": [
        "negative_result = get_the_jsoc_data(counter_negative, t_rec)"
      ],
      "metadata": {
        "id": "9PtxxFtBQabO"
      },
      "execution_count": null,
      "outputs": []
    },
    {
      "cell_type": "code",
      "source": [
        "no_CME_data = negative_result[0]\n",
        "negative_class = negative_result[1]\n",
        "print(\"There are\", len(no_CME_data), \"no-CME events in the negative class.\")"
      ],
      "metadata": {
        "id": "F9guHdMFQa2F"
      },
      "execution_count": null,
      "outputs": []
    },
    {
      "cell_type": "code",
      "source": [
        "#Parte 3"
      ],
      "metadata": {
        "id": "6Vg6bM39QbCG"
      },
      "execution_count": null,
      "outputs": []
    },
    {
      "cell_type": "code",
      "source": [
        "no_CME_data = negative_result[0]\n",
        "negative_class = negative_result[1]\n",
        "print(\"There are\", len(no_CME_data), \"no-CME events in the negative class.\")"
      ],
      "metadata": {
        "id": "KzfSezXtQ9Em"
      },
      "execution_count": null,
      "outputs": []
    },
    {
      "cell_type": "code",
      "source": [
        "def normalize_the_data(flare_data):\n",
        "    flare_data = np.array(flare_data)\n",
        "    n_elements = flare_data.shape[0]\n",
        "    for j in range(flare_data.shape[1]):\n",
        "        standard_deviation_of_this_feature = np.std(flare_data[:, j])\n",
        "        median_of_this_feature = np.median(flare_data[:, j])\n",
        "        for i in range(n_elements):\n",
        "            flare_data[i, j] = (\n",
        "                flare_data[i, j] - median_of_this_feature) / (standard_deviation_of_this_feature)\n",
        "    return flare_data\n",
        "\n",
        "\n",
        "no_CME_data = normalize_the_data(no_CME_data)\n",
        "CME_data = normalize_the_data(CME_data)\n",
        "\n",
        "print(\"There are\", no_CME_data.shape[0], \"flares with no associated CMEs.\")\n",
        "print(\"There are\", CME_data.shape[0], \"flares with associated CMEs.\")\n",
        "\n",
        "print(CME_data)"
      ],
      "metadata": {
        "id": "6tcTDS1mQ9Nx"
      },
      "execution_count": null,
      "outputs": []
    },
    {
      "cell_type": "code",
      "source": [
        "sharps = ['Total unsigned flux', 'Mean gradient of total field',\n",
        "          'Mean current helicity (Bz contribution)', 'Mean photospheric magnetic free energy',\n",
        "          'Fraction of Area with Shear > 45 deg', 'Total unsigned current helicity',\n",
        "          'Mean gradient of horizontal field', 'Mean characteristic twist parameter, alpha',\n",
        "          'Mean angle of field from radial', 'Mean gradient of vertical field',\n",
        "          'Mean vertical current density', 'Total unsigned vertical current',\n",
        "          'Sum of the modulus of the net current per polarity',\n",
        "          'Total photospheric magnetic free energy density', 'Mean shear angle',\n",
        "          'Area of strong field pixels in the active region', 'Sum of flux near polarity inversion line',\n",
        "          'Absolute value of the net current helicity']\n",
        "\n",
        "i = 2\n",
        "\n",
        "# For the positive class (green)\n",
        "mu_fl = np.mean(CME_data[:, i])\n",
        "sigma_fl = np.std(CME_data[:, i])\n",
        "num_bins = 15\n",
        "n_fl, bins_fl, patches_fl = plt.hist(\n",
        "    CME_data[:, i], num_bins, normed=1, facecolor='green', alpha=0.5)\n",
        "y_fl = scipy.stats.norm.pdf(bins_fl, mu_fl, sigma_fl)\n",
        "plt.plot(bins_fl, y_fl, 'g--', label='positive class')\n",
        "\n",
        "# For the negative class (red)\n",
        "mu_nofl = np.mean(no_CME_data[:, i])\n",
        "sigma_nofl = np.std(no_CME_data[:, i])\n",
        "n_nofl, bins_nofl, patches_nofl = plt.hist(\n",
        "    no_CME_data[:, i], num_bins, normed=1, facecolor='red', alpha=0.5)\n",
        "y_nofl = scipy.stats.norm.pdf(bins_nofl, mu_nofl, sigma_nofl)\n",
        "plt.plot(bins_nofl, y_nofl, 'r--', label='negative class')\n",
        "\n",
        "text_style = dict(fontsize=16, fontdict={'family': 'monospace'})\n",
        "plt.xlabel('Normalized '+sharps[i], **text_style)\n",
        "plt.ylabel('Number (normalized)', labelpad=20, **text_style)\n",
        "fig = plt.gcf()\n",
        "fig.set_size_inches(10, 5)\n",
        "fig.savefig('fscore_tmp.png', bbox_inches='tight')\n",
        "legend = plt.legend(loc='upper right', fontsize=12, framealpha=0.0, title='')\n",
        "legend.get_frame().set_linewidth(0.0)"
      ],
      "metadata": {
        "id": "Oy7SeCpeQ9YD"
      },
      "execution_count": null,
      "outputs": []
    },
    {
      "cell_type": "code",
      "source": [
        "# import the feature selection method\n",
        "from sklearn.feature_selection import SelectKBest, f_classif\n",
        "# select the number of features\n",
        "N_features = 18\n",
        "Nfl = CME_data.shape[0]\n",
        "Nnofl = no_CME_data.shape[0]\n",
        "yfl = np.ones(Nfl)\n",
        "ynofl = np.zeros(Nnofl)\n",
        "# k is the number of features\n",
        "selector = SelectKBest(f_classif, k=N_features)\n",
        "selector.fit(np.concatenate((CME_data, no_CME_data), axis=0),\n",
        "             np.concatenate((yfl, ynofl), axis=0))\n",
        "scores = selector.scores_\n",
        "print(scores)"
      ],
      "metadata": {
        "id": "DBmd2XynQ9iO"
      },
      "execution_count": null,
      "outputs": []
    },
    {
      "cell_type": "code",
      "source": [
        "plt.clf()\n",
        "order = np.argsort(scores)\n",
        "orderedsharps = [sharps[i] for i in order]\n",
        "y_pos2 = np.arange(18)\n",
        "plt.barh(y_pos2, sorted(scores/np.max(scores)))\n",
        "plt.ylim((-1, 19))\n",
        "plt.yticks(y_pos2, orderedsharps, fontsize=12)\n",
        "plt.xlabel('Normalized Fisher Score', fontsize=15)\n",
        "plt.title('Normalized Univariate Fisher Score Per Feature', fontsize=15)\n",
        "plt.subplots_adjust(left=0.5, right=1.0)\n",
        "fig = plt.gcf()\n",
        "fig.set_size_inches(9, 5)\n",
        "plt.show()"
      ],
      "metadata": {
        "id": "vrudnp3UQ9sT"
      },
      "execution_count": null,
      "outputs": []
    },
    {
      "cell_type": "code",
      "source": [
        "#Parte 4"
      ],
      "metadata": {
        "id": "ISc033N0Q911"
      },
      "execution_count": null,
      "outputs": []
    },
    {
      "cell_type": "code",
      "source": [
        "number_of_examples = Nfl + Nnofl\n",
        "C = 4.0\n",
        "gamma = 0.075\n",
        "class_weight = {1: 6.5}\n",
        "clf = svm.SVC(C=C, gamma=gamma, kernel='rbf', class_weight=class_weight,\n",
        "              cache_size=500, max_iter=-1, shrinking=True, tol=1e-8, probability=True)"
      ],
      "metadata": {
        "id": "pc332o5bQ9_U"
      },
      "execution_count": null,
      "outputs": []
    },
    {
      "cell_type": "code",
      "source": [
        "#Parte 5"
      ],
      "metadata": {
        "id": "wzRlZmNuQ-I_"
      },
      "execution_count": null,
      "outputs": []
    },
    {
      "cell_type": "code",
      "source": [
        "def confusion_table(pred, labels):\n",
        "    \"\"\"\n",
        "    computes the number of TP, TN, FP, FN events given the arrays with predictions and true labels\n",
        "    and returns the true skill score\n",
        "\n",
        "    Args:\n",
        "    pred: np array with predictions (1 for flare, 0 for nonflare)\n",
        "    labels: np array with true labels (1 for flare, 0 for nonflare)\n",
        "\n",
        "    Returns: true negative, false positive, true positive, false negative\n",
        "    \"\"\"\n",
        "    Nobs = len(pred)\n",
        "    TN = 0.\n",
        "    TP = 0.\n",
        "    FP = 0.\n",
        "    FN = 0.\n",
        "    for i in range(Nobs):\n",
        "        if (pred[i] == 0 and labels[i] == 0):\n",
        "            TN += 1\n",
        "        elif (pred[i] == 1 and labels[i] == 0):\n",
        "            FP += 1\n",
        "        elif (pred[i] == 1 and labels[i] == 1):\n",
        "            TP += 1\n",
        "        elif (pred[i] == 0 and labels[i] == 1):\n",
        "            FN += 1\n",
        "        else:\n",
        "            print(\"Error! Observation could not be classified.\")\n",
        "    return TN, FP, TP, FN"
      ],
      "metadata": {
        "id": "V7uxjXMRRWQP"
      },
      "execution_count": null,
      "outputs": []
    },
    {
      "cell_type": "code",
      "source": [
        "# lists to hold the TSS and standard deviation of the TSS\n",
        "array_of_avg_TSS = np.ndarray([50])\n",
        "array_of_std_TSS = np.ndarray([50])\n",
        "\n",
        "# xdata are the examples\n",
        "# ydata are the labels\n",
        "xdata = np.concatenate((CME_data, no_CME_data), axis=0)\n",
        "ydata = np.concatenate((np.ones(Nfl), np.zeros(Nnofl)), axis=0)\n",
        "\n",
        "# mdata contain metadata about the active region that will be useful\n",
        "# when we interpret the results using LIME\n",
        "mdata = np.concatenate((positive_class, negative_class), axis=0)\n",
        "\n",
        "# compute the TSS for a variety of k ranging from 2 to 52\n",
        "# this is to see how the TSS varies as a function of k, and to test if k=10 really makes sense\n",
        "for k in range(2, 52):\n",
        "    skf = StratifiedKFold(n_splits=k, shuffle=True)\n",
        "    these_TSS_for_this_k = []\n",
        "    for train_index, test_index in skf.split(xdata, ydata):\n",
        "        # xtrain are the examples in the training set\n",
        "        xtrain = xdata[train_index]\n",
        "        # ytrain are the labels in the training set\n",
        "        ytrain = ydata[train_index]\n",
        "        # xtest are the examples in the testing set\n",
        "        xtest = xdata[test_index]\n",
        "        ytest = ydata[test_index]    # ytest are the labels in the testing set\n",
        "        # metadata useful for interpreting with LIME\n",
        "        mtrain = mdata[train_index]\n",
        "        # metadata useful for interpreting with LIME\n",
        "        mtest = mdata[test_index]\n",
        "        clf.fit(xtrain, ytrain)\n",
        "        TN, FP, TP, FN = confusion_table(clf.predict(xtest), ytest)\n",
        "        if (((TP+FN) == 0.0) or (FP+TN) == 0.0):\n",
        "            these_TSS_for_this_k.append(np.nan)\n",
        "            continue\n",
        "        else:\n",
        "            these_TSS_for_this_k.append(TP/(TP+FN) - FP/(FP+TN))\n",
        "    TSS_k = np.array(these_TSS_for_this_k)\n",
        "    array_of_avg_TSS[k-2] = np.mean(TSS_k)\n",
        "    array_of_std_TSS[k-2] = np.std(TSS_k)"
      ],
      "metadata": {
        "id": "H9nC9NRVRWiP"
      },
      "execution_count": null,
      "outputs": []
    },
    {
      "cell_type": "code",
      "source": [
        "fig, ax = plt.subplots(figsize=(10, 8))      # define the size of the figure\n",
        "orangered = (1.0, 0.27, 0, 1.0)              # create an orange-red color\n",
        "cornblue = (0.39, 0.58, 0.93, 1.0)           # create a cornflower-blue color\n",
        "\n",
        "# define some style elements\n",
        "marker_style_red = dict(linestyle='', markersize=8,\n",
        "                        fillstyle='full', color=orangered, markeredgecolor=orangered)\n",
        "marker_style_blue = dict(linestyle='', markersize=8,\n",
        "                         fillstyle='full', color=cornblue, markeredgecolor=cornblue)\n",
        "text_style = dict(fontsize=16, fontdict={'family': 'monospace'})\n",
        "\n",
        "# ascribe the data to the axes\n",
        "k = np.arange(50)+2\n",
        "for i in range(50):\n",
        "    if (array_of_avg_TSS[i] > array_of_std_TSS[i]):\n",
        "        ax.errorbar(k[i], array_of_avg_TSS[i],\n",
        "                    yerr=array_of_std_TSS[i], linestyle='', color=orangered)\n",
        "        ax.plot(k[i], array_of_avg_TSS[i], 'o', **marker_style_red)\n",
        "    if (array_of_avg_TSS[i] <= array_of_std_TSS[i]):\n",
        "        ax.errorbar(k[i], array_of_avg_TSS[i],\n",
        "                    yerr=array_of_std_TSS[i], linestyle='', color=cornblue)\n",
        "        ax.plot(k[i], array_of_avg_TSS[i], 'o', **marker_style_blue)\n",
        "\n",
        "# set plot limits\n",
        "plt.xlim(xmax=52, xmin=0)\n",
        "plt.ylim(ymax=1.1, ymin=0)\n",
        "\n",
        "# label the axes and the plot\n",
        "ax.set_xlabel('k', **text_style)\n",
        "ax.set_ylabel('TSS', labelpad=20, **text_style)\n",
        "plt.title(r'TSS per k using stratified k-fold cross-validation', **text_style)\n",
        "fig = plt.gcf()\n",
        "fig.set_size_inches(10, 5)"
      ],
      "metadata": {
        "id": "zhfIFAV_RWwt"
      },
      "execution_count": null,
      "outputs": []
    },
    {
      "cell_type": "code",
      "source": [
        "print(\"The TSS equals\", array_of_avg_TSS[9],\n",
        "      \"plus or minus\", array_of_std_TSS[9], \".\")"
      ],
      "metadata": {
        "id": "WAsyVlJ2RW8N"
      },
      "execution_count": null,
      "outputs": []
    },
    {
      "cell_type": "code",
      "source": [
        "#Parte 6 - Teste"
      ],
      "metadata": {
        "id": "g-E4dNltTpwm"
      },
      "execution_count": null,
      "outputs": []
    },
    {
      "cell_type": "code",
      "source": [
        "explainer = lime.lime_tabular.LimeTabularExplainer(\n",
        "    xtrain, feature_names=sharps, class_names=['CME', 'no CME'], discretize_continuous=True)"
      ],
      "metadata": {
        "id": "m6KYWBMzTp7k"
      },
      "execution_count": null,
      "outputs": []
    },
    {
      "cell_type": "code",
      "source": [
        "i = np.random.randint(0, xtest.shape[0])\n",
        "exp = explainer.explain_instance(xtest[i], clf.predict_proba, num_features=8)"
      ],
      "metadata": {
        "id": "2qgqMDjKTqJA"
      },
      "execution_count": null,
      "outputs": []
    },
    {
      "cell_type": "code",
      "source": [
        "print(\"Here is the prediction explanation for NOAA Active Region\",\n",
        "      mtest[i][1], \"(HARPNUM \", mtest[i][0], \"),\\n which produced a\", mtest[i][2], \"class flare on\", mtest[i][3], \".\")\n",
        "exp.show_in_notebook(show_table=True, show_all=True)"
      ],
      "metadata": {
        "id": "o8hsKeN3TqVS"
      },
      "execution_count": null,
      "outputs": []
    },
    {
      "cell_type": "code",
      "source": [
        "explained_list = exp.as_list()\n",
        "for i in range(len(explained_list)):\n",
        "    if (explained_list[i][1]) < 0:\n",
        "        feature_sign = 'no CME'\n",
        "    else:\n",
        "        feature_sign = 'CME'\n",
        "    print(\"The following condition:\", explained_list[i][0], \"\\n predicts\",\n",
        "          feature_sign, \"with a model weight of\", abs(explained_list[i][1]), \".\")"
      ],
      "metadata": {
        "id": "oZu8EPQZTqg6"
      },
      "execution_count": null,
      "outputs": []
    },
    {
      "cell_type": "code",
      "source": [
        "# Inicio do código para predição de potenciais eventos de CME perigosos"
      ],
      "metadata": {
        "id": "B5F68QPrOQ6U"
      },
      "execution_count": null,
      "outputs": []
    },
    {
      "cell_type": "code",
      "source": [
        "intensitiveValue_list = []\n",
        "intenseFinal_value = []\n",
        "\n",
        "val1 = 5.0\n",
        "val2 = 4.0\n",
        "val3 = 3.0\n",
        "val4 = 2.0\n",
        "val5 = 1.0\n",
        "\n",
        "for i in dfAN.type:\n",
        "    if i == \"ER\":\n",
        "         intensitiveValue_list.append(val1)\n",
        "\n",
        "    elif i == \"R\":\n",
        "         intensitiveValue_list.append(val2)\n",
        "\n",
        "    elif i == \"O\":\n",
        "         intensitiveValue_list.append(val3)\n",
        "\n",
        "    elif i == \"C\":\n",
        "         intensitiveValue_list.append(val4)\n",
        "\n",
        "    elif i == \"S\":\n",
        "         intensitiveValue_list.append(val5)\n",
        "  \n",
        "maxI = max(intensitiveValue_list)\n",
        "minI = min(intensitiveValue_list)\n",
        "\n",
        "for i in intensitiveValue_list:\n",
        "    valueintense = (i - minI)/(maxI - minI)\n",
        "    intenseFinal_value.append(valueintense)\n",
        "\n",
        "print(intenseFinal_value)"
      ],
      "metadata": {
        "id": "rDdeuVJaUiz7",
        "colab": {
          "base_uri": "https://localhost:8080/"
        },
        "outputId": "375079ef-094d-4bae-c685-76d274fb2b42"
      },
      "execution_count": null,
      "outputs": [
        {
          "output_type": "stream",
          "name": "stdout",
          "text": [
            "[0.25, 0.25, 0.25, 0.0, 0.0, 0.25, 0.25, 0.5, 0.5, 0.25, 0.25, 0.0, 0.25, 0.25, 0.25, 0.25, 0.25, 0.5, 0.5, 0.25, 0.5, 0.0, 0.25, 0.0, 0.25, 0.0, 0.0, 0.25, 0.0, 0.0, 0.0, 0.0, 0.25, 0.0, 0.0, 0.25, 0.25, 0.0, 0.25, 0.25, 0.25, 0.0, 0.25, 0.0, 0.0, 0.0, 0.25, 0.0, 0.0, 0.0, 0.25, 0.25, 0.25, 0.0, 0.25, 0.25, 0.0, 0.25, 0.25, 0.25, 0.25, 0.0, 0.25, 0.0, 0.25, 0.5, 0.25, 0.25, 0.25, 0.0, 0.25, 0.25, 0.5, 0.5, 0.25, 0.25, 0.5, 0.25, 0.25, 0.25, 0.25, 0.25, 0.0, 0.25, 0.0, 0.5, 0.0, 0.25, 0.25, 0.0, 0.25, 0.25, 0.25, 0.5, 0.0, 0.25, 0.25, 0.25, 0.25, 0.25, 0.25, 0.5, 0.75, 0.25, 0.25, 0.5, 0.5, 0.0, 0.25, 0.25, 0.25, 0.25, 0.5, 0.0, 0.0, 0.0, 0.25, 0.25, 0.25, 0.25, 0.0, 0.25, 0.25, 0.0, 0.25, 0.5, 0.5, 0.0, 0.25, 0.5, 0.25, 0.0, 0.0, 0.25, 0.25, 0.25, 0.5, 0.0, 0.0, 0.0, 0.25, 0.0, 0.25, 0.25, 0.25, 0.25, 0.25, 0.5, 0.0, 0.25, 0.25, 0.25, 0.25, 0.25, 0.25, 0.25, 0.0, 0.25, 0.25, 0.25, 0.0, 0.5, 0.5, 0.5, 0.25, 0.25, 0.5, 0.25, 0.25, 0.25, 0.0, 0.25, 0.25, 0.5, 0.0, 0.0, 0.25, 0.5, 0.0, 0.0, 0.0, 0.25, 0.0, 0.25, 0.25, 0.25, 0.25, 0.25, 0.0, 0.0, 0.0, 0.0, 0.0, 0.25, 0.25, 0.0, 0.0, 0.25, 0.0, 0.0, 0.25, 0.0, 0.5, 0.25, 0.0, 0.25, 0.25, 0.5, 0.0, 0.25, 0.25, 0.25, 0.25, 0.25, 0.0, 0.25, 0.0, 0.0, 0.0, 0.0, 0.25, 0.0, 0.25, 0.0, 0.25, 0.0, 0.25, 0.25, 0.0, 0.25, 0.25, 0.0, 0.25, 0.0, 0.25, 0.0, 0.25, 0.25, 0.25, 0.0, 0.0, 0.25, 0.25, 0.25, 0.25, 0.0, 0.0, 0.0, 0.25, 0.0, 0.25, 0.0, 0.0, 0.0, 0.25, 0.0, 0.25, 0.0, 0.25, 0.5, 0.25, 0.5, 0.0, 0.25, 0.0, 0.25, 0.25, 0.25, 0.0, 0.25, 0.25, 0.25, 0.25, 0.0, 0.0, 0.0, 0.0, 0.25, 0.25, 0.5, 0.0, 0.0, 0.25, 0.25, 0.0, 0.25, 0.0, 0.25, 0.0, 0.0, 0.0, 0.25, 0.25, 0.0, 0.5, 0.0, 0.0, 0.25, 0.75, 0.0, 0.5, 0.25, 0.25, 0.0, 0.75, 0.0, 0.25, 0.25, 0.0, 0.25, 0.0, 0.0, 0.25, 0.0, 0.25, 0.25, 0.25, 0.0, 0.0, 0.25, 0.25, 0.25, 0.0, 0.25, 0.25, 0.25, 0.5, 0.0, 0.5, 0.25, 0.25, 0.75, 0.5, 0.0, 0.0, 0.0, 0.5, 0.25, 0.25, 0.25, 0.5, 0.25, 0.75, 0.25, 0.25, 0.0, 0.25, 0.25, 0.25, 0.25, 0.5, 0.5, 0.25, 0.5, 0.25, 0.25, 0.25, 0.0, 0.5, 0.25, 0.25, 0.5, 0.0, 0.25, 0.0, 0.0, 0.0, 0.25, 0.25, 0.25, 0.25, 0.25, 0.25, 0.25, 0.25, 0.25, 0.0, 0.5, 0.0, 0.0, 0.5, 0.25, 0.25, 0.0, 0.25, 0.25, 0.0, 0.25, 0.25, 0.0, 0.0, 0.25, 0.25, 0.0, 0.0, 0.25, 0.25, 0.25, 0.25, 0.25, 0.25, 0.25, 0.0, 0.0, 0.25, 0.25, 0.25, 0.0, 0.25, 0.25, 0.0, 0.25, 0.25, 0.25, 0.25, 0.0, 0.25, 0.5, 0.25, 0.25, 0.25, 0.0, 0.0, 0.25, 0.0, 0.5, 0.25, 0.25, 0.25, 0.0, 0.0, 0.25, 0.0, 0.25, 0.25, 0.0, 0.0, 0.5, 0.25, 0.25, 0.0, 0.0, 0.0, 0.25, 0.25, 0.25, 0.5, 0.0, 0.25, 0.25, 0.5, 0.25, 0.25, 0.25, 0.0, 0.0, 0.25, 0.25, 0.0, 0.0, 0.25, 0.0, 0.25, 0.25, 0.0, 0.0, 0.25, 0.0, 0.25, 0.25, 0.0, 0.25, 0.0, 0.5, 0.25, 0.5, 0.0, 0.25, 0.25, 0.25, 0.25, 0.0, 0.0, 0.0, 0.25, 0.0, 0.25, 0.5, 0.0, 0.5, 0.25, 0.25, 0.5, 0.25, 0.25, 0.25, 0.25, 0.0, 0.5, 0.5, 0.5, 0.5, 0.5, 0.25, 0.5, 0.5, 1.0, 0.75, 0.0, 0.0, 0.25, 0.0, 0.25, 0.25, 0.25, 0.25, 0.0, 0.0, 0.0, 0.25, 0.25, 0.25, 0.25, 0.0, 0.25, 0.25, 0.0, 0.25, 0.25, 0.0, 0.25, 0.0, 0.5, 0.25, 0.25, 0.25, 0.0, 0.5, 0.25, 0.0, 0.0, 0.25, 0.0, 0.25, 0.0, 0.0, 0.0, 0.0, 0.0, 0.5, 0.25, 0.25, 0.75, 0.5, 0.25, 0.25, 0.5, 0.5, 0.5, 0.25, 0.0, 0.0, 0.0, 0.25, 0.0, 0.25, 0.25, 0.25, 0.25, 0.0, 0.0, 0.25, 0.25, 0.25, 0.0, 0.0, 0.25, 0.0, 0.0, 0.0, 0.0, 0.25, 0.0, 0.0, 0.25, 0.0, 0.25, 0.5, 0.25, 0.25, 0.25, 0.25, 0.25, 0.0, 0.25, 0.25, 0.25, 0.0, 0.25, 0.0, 0.25, 0.25, 0.0, 0.25, 0.25, 0.0, 0.25, 0.25, 0.25, 0.0, 0.0, 0.25, 0.25, 0.0, 0.25, 0.0, 0.25, 0.0, 0.25, 0.0, 0.0, 0.25, 0.25, 0.0, 0.25, 0.25, 0.25, 0.25, 0.25, 0.0, 0.0, 0.0, 0.0, 0.0, 0.0, 0.25, 0.0, 0.0, 0.25, 0.0, 0.0, 0.0, 0.25, 0.25, 0.25, 0.25, 0.25, 0.0, 0.0, 0.25, 0.25, 0.25, 0.0, 0.25, 0.5, 0.25, 0.0, 0.25, 0.5, 0.25, 0.25, 0.25, 0.25, 0.25, 0.25, 0.25, 0.0, 0.0, 0.25, 0.25, 0.0, 0.25, 0.0, 0.5, 0.25, 0.0, 0.25, 0.25, 0.5, 0.25, 0.25, 0.0, 0.25, 0.25, 0.5, 0.25, 0.25, 0.25, 0.25, 0.0, 0.0, 0.25, 0.25, 0.5, 0.0, 0.0, 0.25, 0.25, 0.0, 0.0, 0.25, 0.0, 0.0, 0.25, 0.25, 0.0, 0.25, 0.25, 0.25, 0.25, 0.5, 0.25, 0.0, 0.5, 0.75, 0.5, 0.5, 0.5, 0.0, 0.25, 0.25, 0.5, 0.25, 0.0, 0.0, 0.25, 0.0, 0.25, 0.25, 0.25, 0.0, 0.25, 0.5, 0.0, 0.0, 0.25, 0.25, 0.5, 0.25, 0.25, 0.25, 0.5, 0.0, 0.25, 0.25, 0.25, 0.25, 0.5, 0.0, 0.25, 0.0, 0.25, 0.25, 0.0, 0.25, 0.0, 0.0, 0.25, 0.0, 0.0, 0.0, 0.0, 0.0, 0.25, 0.0, 0.5, 0.25, 0.0, 0.25, 0.25, 0.25, 0.25, 0.0, 0.25, 0.0, 0.25, 0.25, 0.25, 0.25, 0.25, 0.25, 0.25, 0.0, 0.25, 0.25, 0.0, 0.0, 0.5, 0.25, 0.0, 0.5, 0.5, 0.25, 0.25, 0.0, 0.25, 0.0, 0.0, 0.25, 0.25, 0.0, 0.0, 0.25, 0.25, 0.25, 0.25, 0.25, 0.0, 0.0, 0.25, 0.0, 0.25, 0.0, 0.25, 0.25, 0.25, 0.0, 0.0, 0.25, 0.25, 0.0, 0.25, 0.0, 0.0, 0.25, 0.0, 0.0, 0.0, 0.0, 0.0, 0.0, 0.0, 0.25, 0.25, 0.0, 0.25, 0.25, 0.5, 0.0, 0.25, 0.25, 0.0, 0.0, 0.0, 0.5, 0.25, 0.25, 0.0, 0.0, 0.0, 0.0, 0.0, 0.25, 0.0, 0.25, 0.0, 0.25, 0.0, 0.25, 0.0, 0.0, 0.25, 0.0, 0.0, 0.0, 0.25, 0.0, 0.25, 0.0, 0.25, 0.0, 0.5, 0.0, 0.0, 0.0, 0.25, 0.0, 0.25, 0.25, 0.25, 0.25, 0.25, 0.25, 0.25, 0.25, 0.25, 0.25, 0.5, 0.25, 0.25, 0.25, 0.0, 0.0, 0.0, 0.25, 0.25, 0.0, 0.0, 0.5, 0.25, 0.25, 0.0, 0.5, 0.25, 0.25, 0.0, 0.25, 0.75, 0.25, 0.25, 0.0, 0.25, 0.25, 0.25, 0.25, 0.25, 0.25, 0.25, 0.25, 0.25, 0.25, 0.25, 0.25, 0.0, 0.25, 0.25, 0.25, 0.0, 0.0, 0.0, 0.25, 0.25, 0.25, 0.25, 0.25, 0.25, 0.0, 0.0, 0.25, 0.25, 0.25, 0.25, 0.25, 0.25, 0.25, 0.25, 0.0, 0.0, 0.0, 0.5, 0.25, 0.0, 0.0, 0.25, 0.25, 0.25, 0.0, 0.25, 0.0, 0.25, 0.0, 0.0, 0.25, 0.0, 0.0, 0.0, 0.25, 0.25, 0.0, 0.25, 0.5, 0.0, 0.0, 0.0, 0.0, 0.0, 0.5, 0.25, 0.0, 0.25, 0.0, 0.25, 0.25, 0.25, 0.0, 0.25, 0.0, 0.0, 0.5, 0.25, 0.25, 0.25, 0.0, 0.5, 0.25, 0.75, 0.0, 0.0, 0.0, 0.0, 0.25, 0.0, 0.0, 0.0, 0.25, 0.0, 0.0, 0.25, 0.0, 0.0, 0.0, 0.0, 0.25, 0.25, 0.25, 0.0, 0.0, 0.25, 0.25, 0.0, 0.0, 0.25, 0.25, 0.5, 0.0, 0.0, 0.0, 0.0, 0.0, 0.25, 0.25, 0.25, 0.0, 0.0, 0.25, 0.0, 0.25, 0.25, 0.25, 0.0, 0.5, 0.0, 0.25, 0.0, 0.0, 0.0, 0.25, 0.25, 0.0, 0.0, 0.0, 0.25, 0.25, 0.0, 0.0, 0.25, 0.0, 0.25, 0.0, 0.0, 0.0, 0.0, 0.0, 0.0, 0.0, 0.0, 0.25, 0.25, 0.0, 0.0, 0.0, 0.25, 0.0, 0.0, 0.0, 0.25, 0.25, 0.0, 0.0, 0.0, 0.25, 0.25, 0.0, 0.25, 0.0, 0.25, 0.25, 0.5, 0.0, 0.25, 0.0, 0.0, 0.25, 0.0, 0.0, 0.0, 0.25, 0.25, 0.25, 0.25, 0.25, 0.25, 0.25, 0.0, 0.25, 0.5, 0.25, 0.25, 0.25, 0.0, 0.5, 0.5, 0.0, 0.0, 0.0, 0.0, 0.0, 0.25, 0.0, 0.0, 0.0, 0.0, 0.0, 0.25, 0.25, 0.25, 0.25, 0.5, 0.25, 0.0, 0.0, 0.25, 0.25, 0.25, 0.25, 0.0, 0.25, 0.0, 0.0, 0.5, 0.25, 0.0, 0.0, 0.0, 0.0, 0.0, 0.0, 0.25, 0.0, 0.25, 0.25, 0.0, 0.0, 0.25, 0.0, 0.0, 0.0, 0.0, 0.0, 0.0, 0.0, 0.0, 0.0, 0.25, 0.0, 0.0, 0.0, 0.25, 0.25, 0.25, 0.25, 0.0, 0.25, 0.25, 0.25, 0.25, 0.0, 0.0, 0.25, 0.0, 0.25, 0.25, 0.25, 0.25, 0.0, 0.0, 0.0, 0.0, 0.0, 0.0, 0.25, 0.5, 0.0, 0.25, 0.0, 0.0, 0.0, 0.0, 0.0, 0.0, 0.0, 0.25, 0.0, 0.0, 0.25, 0.25, 0.25, 0.0, 0.0, 0.0, 0.0, 0.0, 0.0, 0.25, 0.25, 0.0, 0.0, 0.25, 0.0, 0.0, 0.0, 0.25, 0.0, 0.5, 0.0, 0.0, 0.25, 0.0, 0.0, 0.0, 0.0, 0.25, 0.0, 0.25, 0.0, 0.0, 0.0, 0.25, 0.0, 0.25, 0.0, 0.0, 0.25, 0.25, 0.0, 0.0, 0.0, 0.0, 0.0, 0.25, 0.0, 0.25, 0.0, 0.25, 0.0, 0.0, 0.0, 0.0, 0.25, 0.0, 0.0, 0.25, 0.0, 0.25, 0.5, 0.25, 0.25, 0.5, 0.25, 0.5, 0.25, 0.0, 0.0, 0.0, 0.25, 0.0, 0.0, 0.25, 0.0, 0.0, 0.0, 0.25, 0.0, 0.0, 0.0, 0.25, 0.25, 0.0, 0.25, 0.0, 0.0, 0.0, 0.0, 0.0, 0.0, 0.0, 0.25, 0.0, 0.25, 0.25, 0.0, 0.0, 0.0, 0.0, 0.0, 0.0, 0.25, 0.0, 0.0, 0.0, 0.25, 0.0, 0.0, 0.25, 0.0, 0.0, 0.0, 0.25, 0.0, 0.0, 0.25, 0.0, 0.25, 0.25, 0.25, 0.0, 0.0, 0.0, 0.25, 0.25, 0.25, 0.25, 0.25, 0.5, 0.25, 0.0, 0.0, 0.0, 0.0, 0.0, 0.0, 0.25, 0.25, 0.25, 0.0, 0.25, 0.25, 0.25, 0.25, 0.25, 0.0, 0.5, 0.25, 0.0, 0.25, 0.25, 0.0, 0.0, 0.0, 0.0, 0.0, 0.25, 0.0, 0.0, 0.0, 0.0, 0.25, 0.25, 0.25, 0.0, 0.0, 0.0, 0.25, 0.0, 0.25, 0.0, 0.5, 0.0, 0.0, 0.0, 0.25, 0.25, 0.5, 0.0, 0.25, 0.25, 0.0, 0.0, 0.25, 0.0, 0.0, 0.0, 0.0, 0.0, 0.0, 0.25, 0.25, 0.0, 0.0, 0.0, 0.25, 0.0, 0.25, 0.25, 0.0, 0.0, 0.25, 0.0, 0.0, 0.0, 0.25, 0.25, 0.25, 0.25, 0.0, 0.0, 0.25, 0.0, 0.0, 0.25, 0.0, 0.0, 0.0, 0.25, 0.0, 0.25, 0.0, 0.0, 0.0, 0.25, 0.0, 0.0, 0.0, 0.0, 0.0, 0.25, 0.25, 0.25, 0.0, 0.25, 0.0, 0.0, 0.5, 0.0, 0.5, 0.25, 0.25, 0.5, 0.5, 0.25, 0.0, 0.25, 0.0, 0.0, 0.0, 0.0, 0.0, 0.25, 0.0, 0.25, 0.25, 0.0, 0.5, 0.0, 0.0, 0.25, 0.25, 0.25, 0.0, 0.0, 0.0, 0.25, 0.25, 0.0, 0.25, 0.0, 0.0, 0.0, 0.25, 0.25, 0.0, 0.0, 0.25, 0.25, 0.25, 0.0, 0.0, 0.0, 0.0, 0.0, 0.5, 0.25, 0.5, 0.0, 0.0, 0.0, 0.25, 0.25, 0.0, 0.0, 0.0, 0.0, 0.0, 0.0, 0.0, 0.0, 0.0, 0.25, 0.0, 0.25, 0.25, 0.25, 0.25, 0.25, 0.25, 0.25, 0.0, 0.0, 0.25, 0.0, 0.0, 0.0, 0.25, 0.0, 0.0, 0.0, 0.0, 0.0, 0.0, 0.0, 0.0, 0.25, 0.5, 0.25, 0.25, 0.25, 0.0, 0.0, 0.25, 0.25, 0.0, 0.25, 0.0, 0.0, 0.0, 0.25, 0.25, 0.25, 0.0, 0.0, 0.25, 0.0, 0.0, 0.0, 0.25, 0.25, 0.25, 0.0, 0.0, 0.0, 0.25, 0.0, 0.0, 0.0, 0.0, 0.0, 0.0, 0.25, 0.0, 0.25, 0.0, 0.0, 0.0, 0.0, 0.0, 0.0, 0.0, 0.0, 0.0, 0.25, 0.0, 0.0, 0.5, 0.25, 0.0, 0.75, 0.0, 0.0, 0.5, 0.25, 0.25, 0.25, 0.0, 0.25, 0.0, 0.0, 0.0, 0.0, 0.0, 0.25, 0.25, 0.25, 0.25, 0.25, 0.0, 0.0, 0.25, 0.0, 0.5, 0.0, 0.0, 0.0, 0.0, 0.25, 0.25, 0.0, 0.25, 0.0, 0.0, 0.0, 0.0, 0.25, 0.0, 0.25, 0.25, 0.0, 0.25, 0.0, 0.25, 0.0, 0.0, 0.0, 0.0, 0.0, 0.0, 0.0, 0.5, 0.25, 0.0, 0.0, 0.0, 0.0, 0.0, 0.0, 0.25, 0.25, 0.0, 0.0, 0.0, 0.25, 0.0, 0.25, 0.0, 0.0, 0.0, 0.0, 0.0, 0.0, 0.5, 0.25, 0.0, 0.0, 0.25, 0.0, 0.0, 0.0, 0.0, 0.0, 0.25, 0.25, 0.0, 0.0, 0.0, 0.0, 0.25, 0.25, 0.25, 0.0, 0.25, 0.0, 0.0, 0.0, 0.0, 0.0, 0.0, 0.0, 0.0, 0.0, 0.0, 0.5, 0.5, 0.0, 0.25, 0.25, 0.25, 0.0, 0.0, 0.0, 0.0, 0.0, 0.0, 0.25, 0.25, 0.0, 0.25, 0.25, 0.25, 0.25, 0.25, 0.5, 0.5, 0.5, 0.5, 0.5, 0.5, 0.5, 0.25, 0.25, 0.0, 0.0, 0.0, 0.25, 0.5, 0.0, 0.0, 0.25, 0.0, 0.25, 0.0, 0.0, 0.0, 0.5, 0.0, 0.0, 0.0, 0.0, 0.0, 0.0, 0.25, 0.0, 0.0, 0.25, 0.0, 0.5, 0.0, 0.0, 0.0, 0.0, 0.25, 0.25, 0.25, 0.0, 0.5, 0.0, 0.0, 0.0, 0.25, 0.5, 0.0, 0.0, 0.0, 0.0, 0.0, 0.0, 0.25, 0.0, 0.0, 0.25, 0.0, 0.0, 0.5, 0.5, 0.25, 0.25, 0.5, 0.25, 0.25, 0.25, 0.5, 0.0, 0.25, 0.25, 0.0, 0.0, 0.25, 0.25, 0.0, 0.25, 0.0, 0.0, 0.0, 0.25, 0.25, 0.0, 0.0, 0.0, 0.25, 0.0, 0.25, 0.0, 0.25, 0.25, 0.25, 0.25, 0.0, 0.25, 0.0, 0.0, 0.0, 0.25, 0.0, 0.25, 0.25, 0.0, 0.0, 0.0, 0.0, 0.25, 0.0, 0.0, 0.0, 0.25, 0.0, 0.0, 0.0, 0.25, 0.0, 0.25, 0.25, 0.0, 0.25, 0.0, 0.0, 0.0, 0.0, 0.0, 0.25, 0.5, 0.25, 0.5, 0.25, 0.0, 0.5, 0.0, 0.5, 0.25, 0.0, 0.25, 0.0, 0.0, 0.5, 0.5, 0.25, 0.25, 0.0, 0.0, 0.0, 0.0, 0.0, 0.0, 0.0, 0.0, 0.0, 0.25, 0.0, 0.25, 0.0, 0.0, 0.0, 0.25, 0.0, 0.0, 0.0, 0.0, 0.0, 0.0, 0.0, 0.0, 0.0, 0.25, 0.0, 0.0, 0.0, 0.0, 0.0, 0.0, 0.0, 0.0, 0.25, 0.25, 0.0, 0.0, 0.0, 0.0, 0.0, 0.0, 0.0, 0.0, 0.25, 0.25, 0.0, 0.0, 0.25, 0.0, 0.0, 0.25, 0.0, 0.0, 0.0, 0.0, 0.25, 0.0, 0.25, 0.0, 0.25, 0.25, 0.25, 0.0, 0.0, 0.0, 0.0, 0.25, 0.0, 0.5, 0.5, 0.0, 0.0, 0.25, 0.0, 0.0, 0.25, 0.0, 0.0, 0.0, 0.0, 0.0, 0.25, 0.25, 0.0, 0.0, 0.0, 0.0, 0.0, 0.0, 0.0, 0.0, 0.25, 0.0, 0.0, 0.25, 0.0, 0.25, 0.5, 0.25, 0.0, 0.0, 0.0, 0.0, 0.25, 0.0, 0.0, 0.25, 0.0, 0.0, 0.0, 0.0, 0.25, 0.25, 0.0, 0.25, 0.25, 0.25, 0.0, 0.0, 0.0, 0.0, 0.0, 0.25, 0.0, 0.25, 0.0, 0.0, 0.0, 0.0, 0.0, 0.0, 0.25, 0.0, 0.0, 0.0, 0.25, 0.0, 0.0, 0.0, 0.0, 0.0, 0.0, 0.25, 0.0, 0.0, 0.25, 0.25, 0.0, 0.25, 0.0, 0.0, 0.0, 0.25, 0.0, 0.0, 0.0, 0.25, 0.25, 0.0, 0.25, 0.25, 0.0, 0.0, 0.0, 0.0, 0.0, 0.25, 0.25, 0.0, 0.0, 0.0, 0.0, 0.0, 0.25, 0.25, 0.0, 0.0, 0.0, 0.25, 0.25, 0.0, 0.25, 0.0, 0.0, 0.25, 0.25, 0.0, 0.25, 0.0, 0.0, 0.0, 0.0, 0.0, 0.0, 0.0, 0.0, 0.25, 0.0, 0.25, 0.25, 0.25, 0.25, 0.0, 0.5, 0.25, 0.0, 0.0, 0.0, 0.25, 0.0, 0.25, 0.25, 0.25, 0.25, 0.0, 0.0, 0.0, 0.0, 0.0, 0.0, 0.0, 0.0, 0.0, 0.25, 0.0, 0.0, 0.0, 0.25, 0.25, 0.25, 0.25, 0.0, 0.0, 0.25, 0.0, 0.0, 0.0, 0.0, 0.0, 0.0, 0.0, 0.0, 0.25, 0.25, 0.0, 0.25, 0.0, 0.25, 0.25, 0.25, 0.25, 0.25, 0.25, 0.0, 0.0, 0.0, 0.0, 0.25, 0.25, 0.0, 0.0, 0.0, 0.25, 0.0, 0.25, 0.0, 0.25, 0.25, 0.25, 0.0, 0.0, 0.0, 0.0, 0.0, 0.0, 0.25, 0.0, 0.0, 0.0, 0.0, 0.0, 0.0, 0.0, 0.0, 0.0, 0.0, 0.0, 0.25, 0.0, 0.0, 0.0, 0.0, 0.25, 0.0, 0.0, 0.0, 0.0, 0.0, 0.0, 0.0, 0.25, 0.0, 0.0, 0.25, 0.0, 0.0, 0.25, 0.0, 0.0, 0.0, 0.0, 0.0, 0.0, 0.25, 0.0, 0.25, 0.0, 0.0, 0.0, 0.0, 0.0, 0.0, 0.0, 0.0, 0.25, 0.25, 0.25, 0.0, 0.0, 0.0, 0.0, 0.25, 0.5, 0.0, 0.0, 0.25, 0.0, 0.0, 0.0, 0.0, 0.0, 0.25, 0.0, 0.0, 0.25, 0.0, 0.0, 0.0, 0.0, 0.25, 0.0, 0.0, 0.0, 0.25, 0.0, 0.25, 0.0, 0.0, 0.0, 0.0, 0.0, 0.25, 0.0, 0.0, 0.0, 0.0, 0.25, 0.25, 0.0, 0.0, 0.25, 0.25, 0.25, 0.0, 0.0, 0.25, 0.25, 0.0, 0.0, 0.0, 0.25, 0.25, 0.0, 0.0, 0.25, 0.0, 0.0, 0.25, 0.25, 0.0, 0.25, 0.25, 0.0, 0.0, 0.25, 0.0, 0.0, 0.0, 0.25, 0.0, 0.25, 0.0, 0.0, 0.0, 0.0, 0.25, 0.0, 0.0, 0.25, 0.0, 0.0, 0.25, 0.0, 0.0, 0.0, 0.0, 0.0, 0.25, 0.25, 0.0, 0.25, 0.25, 0.0, 0.0, 0.0, 0.0, 0.0, 0.0, 0.0, 0.0, 0.0, 0.0, 0.0, 0.0, 0.0, 0.0, 0.0, 0.0, 0.25, 0.25, 0.0, 0.0, 0.25, 0.0, 0.0, 0.0, 0.0, 0.0, 0.0, 0.0, 0.25, 0.0, 0.0, 0.0, 0.0, 0.0, 0.0, 0.0, 0.0, 0.0, 0.25, 0.0, 0.0, 0.0, 0.0, 0.0, 0.0, 0.0, 0.0, 0.0, 0.0, 0.0, 0.0, 0.0, 0.25, 0.0, 0.0, 0.0, 0.0, 0.0, 0.0, 0.0, 0.0, 0.0, 0.25, 0.0, 0.0, 0.0, 0.0, 0.25, 0.0, 0.0, 0.0, 0.0, 0.0, 0.0, 0.0, 0.25, 0.25, 0.0, 0.0, 0.0, 0.0, 0.0, 0.0, 0.0, 0.25, 0.25, 0.0, 0.0, 0.25, 0.25, 0.0, 0.0, 0.25, 0.0, 0.0, 0.25, 0.25, 0.0, 0.0, 0.0, 0.0, 0.0, 0.0, 0.0, 0.25, 0.0, 0.0, 0.0, 0.0, 0.0, 0.0, 0.25, 0.25, 0.0, 0.0, 0.0, 0.0, 0.0, 0.0, 0.0, 0.0, 0.0, 0.0, 0.0, 0.0, 0.0, 0.0, 0.0, 0.0, 0.0, 0.0, 0.0, 0.25, 0.0, 0.25, 0.0, 0.25, 0.0, 0.0, 0.0, 0.0, 0.0, 0.0, 0.0, 0.0, 0.0, 0.0, 0.0, 0.0, 0.0, 0.0, 0.25, 0.25, 0.0, 0.0, 0.0, 0.25, 0.25, 0.0, 0.25, 0.0, 0.25, 0.0, 0.0, 0.25, 0.0, 0.0, 0.0, 0.0, 0.0, 0.25, 0.0, 0.0, 0.0, 0.0, 0.0, 0.0, 0.0, 0.0, 0.25, 0.0, 0.0, 0.0, 0.0, 0.0, 0.0, 0.0, 0.0, 0.0, 0.0, 0.0, 0.25, 0.0, 0.0, 0.0, 0.0, 0.0, 0.25, 0.0, 0.0, 0.25, 0.0, 0.0, 0.25, 0.25, 0.25, 0.25, 0.0, 0.0, 0.0, 0.25, 0.25, 0.75, 0.25, 0.0, 0.0, 0.0, 0.25, 0.0, 0.0, 0.0, 0.0, 0.0, 0.0, 0.0, 0.0, 0.25, 0.25, 0.5, 0.0, 0.5, 0.5, 0.25, 0.0, 0.0, 0.0, 0.0, 0.0, 0.0, 0.0, 0.75, 0.0, 0.0, 0.25, 0.0, 0.25, 0.0, 0.5, 0.25, 0.0, 0.25, 0.0, 0.0, 0.0, 0.0, 0.0, 0.0, 0.0, 0.0, 0.0, 0.25, 0.25, 0.25, 0.0, 0.0, 0.0, 0.25, 0.0, 0.5, 0.5, 0.25, 0.0, 0.0, 0.0, 0.0, 0.0, 0.0, 0.0, 0.0, 0.0, 0.0, 0.0, 0.0, 0.25, 0.0, 0.0, 0.0, 0.0, 0.0, 0.0, 0.0, 0.25, 0.0, 0.0, 0.25, 0.0, 0.0, 0.25, 0.0, 0.0, 0.0, 0.0, 0.0, 0.0, 0.0, 0.0, 0.0, 0.0, 0.0, 0.0, 0.0, 0.0, 0.0, 0.0, 0.0, 0.25, 0.0, 0.0, 0.0, 0.0, 0.0, 0.0, 0.0, 0.0, 0.0, 0.0, 0.0, 0.0, 0.0, 0.0, 0.0, 0.0, 0.0, 0.0, 0.0, 0.0, 0.0, 0.0, 0.0, 0.0, 0.0, 0.0, 0.25, 0.0, 0.0, 0.0, 0.0, 0.0, 0.0, 0.0, 0.0, 0.0, 0.0, 0.0, 0.0, 0.0, 0.0, 0.25, 0.25, 0.0, 0.0, 0.0, 0.0, 0.0, 0.0, 0.25, 0.0, 0.25, 0.0, 0.0, 0.25, 0.25, 0.0, 0.0, 0.0, 0.0, 0.0, 0.0, 0.25, 0.0, 0.0, 0.25, 0.25, 0.0, 0.0, 0.0, 0.0, 0.0, 0.25, 0.0, 0.0, 0.0, 0.0, 0.0, 0.0, 0.0, 0.0, 0.0, 0.0, 0.0, 0.0, 0.0, 0.0, 0.0, 0.0, 0.0, 0.0, 0.0, 0.0, 0.0, 0.0, 0.0, 0.0, 0.0, 0.0, 0.0, 0.0, 0.0, 0.0, 0.0, 0.0, 0.0, 0.0, 0.0, 0.0, 0.0, 0.0, 0.0, 0.0, 0.0, 0.0, 0.0, 0.0, 0.0, 0.0, 0.0, 0.0, 0.0, 0.0, 0.0, 0.0, 0.0, 0.0, 0.0, 0.0, 0.0, 0.0, 0.0, 0.0, 0.25, 0.0, 0.0, 0.0, 0.0, 0.0, 0.0, 0.0, 0.0, 0.0, 0.0, 0.0, 0.0, 0.0, 0.0, 0.0, 0.25, 0.0, 0.0, 0.0, 0.25, 0.0, 0.0, 0.0, 0.0, 0.0, 0.0, 0.0, 0.0, 0.0, 0.0, 0.0, 0.0, 0.0, 0.0, 0.0, 0.0, 0.0, 0.0, 0.0, 0.0, 0.0, 0.0, 0.25, 0.0, 0.0, 0.0, 0.0, 0.0, 0.0, 0.0, 0.0, 0.0, 0.0, 0.0, 0.0, 0.25, 0.0, 0.0, 0.5, 0.5, 0.0, 0.0, 0.0, 0.0, 0.25, 0.0, 0.25, 0.0, 0.5, 0.0, 0.0, 0.0, 0.25, 0.0, 0.5, 0.0, 0.0, 0.25, 0.0, 0.0, 0.0, 0.0, 0.0, 0.0, 0.25, 0.0, 0.0, 0.25, 0.0, 0.0, 0.0, 0.0, 0.0, 0.0, 0.0, 0.0, 0.0, 0.0, 0.0, 0.0, 0.0, 0.0, 0.0, 0.0, 0.0, 0.0, 0.0, 0.0, 0.0, 0.0, 0.0, 0.0, 0.25, 0.0, 0.0, 0.0, 0.0, 0.25, 0.25, 0.0, 0.0, 0.0, 0.0, 0.0, 0.0, 0.0, 0.0, 0.0, 0.0, 0.0, 0.0, 0.25, 0.0, 0.0, 0.0, 0.0, 0.0, 0.0, 0.0, 0.0, 0.0, 0.0, 0.0, 0.0, 0.0, 0.0, 0.0, 0.0, 0.0, 0.0, 0.0, 0.25, 0.0, 0.0, 0.25, 0.0, 0.25, 0.0, 0.25, 0.0, 0.0, 0.0, 0.0, 0.0, 0.25, 0.0, 0.0, 0.0, 0.0, 0.0, 0.25, 0.25, 0.25, 0.0, 0.0, 0.0, 0.0, 0.0, 0.0, 0.0, 0.0, 0.0, 0.25, 0.25, 0.25, 0.25, 0.25, 0.25, 0.25, 0.0, 0.0, 0.0, 0.25, 0.0, 0.0, 0.0, 0.0, 0.0, 0.0, 0.25, 0.25, 0.0, 0.0, 0.0, 0.0, 0.25, 0.25, 0.5, 0.25, 0.0, 0.0, 0.0, 0.0, 0.0, 0.0, 0.0, 0.0, 0.0, 0.0, 0.0, 0.0, 0.0, 0.0, 0.5, 0.0, 0.0, 0.0, 0.0, 0.0, 0.0, 0.0, 0.0, 0.25, 0.0, 0.0, 0.0, 0.0, 0.0, 0.25, 0.0, 0.0, 0.25, 0.0, 0.25, 0.25, 0.0, 0.0, 0.25, 0.25, 0.0, 0.25, 0.0, 0.75, 0.25, 0.5, 0.0, 0.0, 0.0, 0.25, 0.0, 0.0, 0.0, 0.0, 0.0, 0.0, 0.25, 0.25, 0.0, 0.0, 0.25, 0.0, 0.0, 0.25, 0.0, 0.0, 0.0, 0.0, 0.0, 0.0, 0.0, 0.0, 0.0, 0.0, 0.25, 0.0, 0.25, 0.0, 0.0, 0.0, 0.0, 0.0, 0.0, 0.0, 0.25, 0.25, 0.0, 0.0, 0.0, 0.0, 0.0, 0.25, 0.0, 0.0, 0.25, 0.0, 0.0, 0.25, 0.25, 0.0, 0.25, 0.5, 0.25, 0.25, 0.25, 0.25, 0.25, 0.25, 0.25, 0.0, 0.0, 0.25, 0.0, 0.25, 0.0, 0.0, 0.0, 0.0, 0.0, 0.0, 0.0, 0.25, 0.25, 0.0, 0.0, 0.0, 0.0, 0.0, 0.0, 0.0, 0.25, 0.25, 0.25, 0.25, 0.0, 0.25, 0.0, 0.0, 0.0, 0.0, 0.0, 0.25, 0.0, 0.5, 0.0, 0.0, 0.0, 0.0, 0.25, 0.0, 0.0, 0.0, 0.0, 0.0, 0.25, 0.0, 0.0, 0.0, 0.0, 0.0, 0.25, 0.0, 0.0, 0.0, 0.0, 0.25, 0.0, 0.25, 0.25, 0.0, 0.0, 0.0, 0.25, 0.0, 0.25, 0.0, 0.0, 0.0, 0.0, 0.0, 0.0, 0.0, 0.25, 0.0, 0.0, 0.0, 0.0, 0.0, 0.25, 0.0, 0.0, 0.25, 0.25, 0.0, 0.0, 0.0, 0.0, 0.0, 0.5, 0.25, 0.0, 0.25, 0.0, 0.25, 0.25, 0.5, 0.0, 0.0, 0.25, 0.0, 0.0, 0.25, 0.0, 0.0, 0.0, 0.0, 0.0, 0.0, 0.0, 0.0, 0.0, 0.0, 0.5, 0.25, 0.0, 0.25, 0.0, 0.0, 0.0, 0.0, 0.0, 0.25, 0.0, 0.25, 0.0, 0.25, 0.0, 0.0, 0.25, 0.0, 0.25, 0.25, 0.0, 0.0, 0.25, 0.0, 0.0, 0.0, 0.25, 0.25, 0.0, 0.0, 0.25, 0.25, 0.0, 0.0, 0.25, 0.0, 0.25, 0.0, 0.25, 0.25, 0.25, 0.0, 0.0, 0.25, 0.0, 0.25, 0.0, 0.25, 0.0, 0.0, 0.25, 0.0, 0.25, 0.0, 0.0, 0.0, 0.0, 0.0, 0.0, 0.0, 0.25, 0.0, 0.25, 0.0, 0.0, 0.25, 0.0, 0.0, 0.25, 0.25, 0.0, 0.25, 0.25, 0.0, 0.0, 0.0, 0.0, 0.0, 0.0, 0.0, 0.0, 0.0, 0.0, 0.0, 0.25, 0.0, 0.0, 0.0, 0.0, 0.0, 0.25, 0.0, 0.0, 0.0, 0.0, 0.0, 0.0, 0.0, 0.0, 0.25, 0.25, 0.0, 0.5, 0.0, 0.0, 0.5, 0.0, 0.0, 0.25, 0.25, 0.5, 0.25, 0.0, 0.25, 0.25, 0.5, 0.0, 0.0, 0.0, 0.0, 0.25, 0.25, 0.0, 0.25, 0.0, 0.0, 0.5, 0.25, 0.0, 0.25, 0.0, 0.0, 0.0, 0.25, 0.0, 0.25, 0.0, 0.0, 0.0, 0.0, 0.0, 0.0, 0.25, 0.25, 0.0, 0.0, 0.25, 0.0, 0.0, 0.0, 0.0, 0.25, 0.0, 0.0, 0.0, 0.0, 0.25, 0.0, 0.25, 0.25, 0.25, 0.0, 0.0, 0.0, 0.0, 0.0, 0.0, 0.0, 0.25, 0.0, 0.0, 0.0, 0.0, 0.0, 0.0, 0.25, 0.0, 0.0, 0.0, 0.25, 0.0, 0.0, 0.0, 0.0, 0.0, 0.0, 0.0, 0.75, 0.0, 0.25, 0.0, 0.25, 0.0, 0.0, 0.25, 0.0, 0.0, 0.25, 0.25, 0.0, 0.0, 0.0, 0.0, 0.0, 0.0, 0.0, 0.0, 0.25, 0.0, 0.0, 0.0, 0.0, 0.0, 0.0, 0.0, 0.0, 0.0, 0.0, 0.0, 0.0, 0.0, 0.0, 0.0, 0.0, 0.0, 0.25, 0.0, 0.25, 0.25, 0.25, 0.25, 0.25, 0.0, 0.0, 0.0, 0.0, 0.0, 0.25, 0.25, 0.25, 0.0, 0.0, 0.0, 0.0, 0.0, 0.0, 0.0, 0.0, 0.0, 0.25, 0.0, 0.0, 0.25, 0.25, 0.25, 0.0, 0.0, 0.0, 0.25, 0.25, 0.5, 0.25, 0.0, 0.0, 0.25, 0.5, 0.25, 0.25, 0.0, 0.25, 0.25, 0.0, 0.0, 0.0, 0.25, 0.0, 0.0, 0.25, 0.0, 0.25, 0.25, 0.0, 0.25, 0.25, 0.0, 0.25, 0.0, 0.25, 0.0, 0.25, 0.25, 0.25, 0.25, 0.0, 0.25, 0.25, 0.0, 0.25, 0.25, 0.25, 0.0, 0.0, 0.25, 0.0, 0.0, 0.0, 0.25, 0.0, 0.25, 0.25, 0.0, 0.0, 0.0, 0.0, 0.0, 0.0, 0.0, 0.25, 0.0, 0.25, 0.0, 0.0, 0.25, 0.0, 0.25, 0.25, 0.25, 0.25, 0.0, 0.0, 0.25, 0.25, 0.5, 0.0, 0.5, 0.0, 0.0, 0.25, 0.25, 0.0, 0.25, 0.0, 0.25, 0.5, 0.5, 0.0, 0.0, 0.0, 0.5, 0.0, 0.0, 0.0, 0.0, 0.5, 0.0, 0.0, 0.0, 0.0, 0.0, 0.25, 0.25, 0.0, 0.0, 0.5, 0.0, 0.5, 0.0, 0.25, 0.0, 0.25, 0.25, 0.25, 0.25, 0.25, 0.25, 0.25, 0.25, 0.25, 0.0, 0.25, 0.25, 0.0, 0.0, 0.25, 0.5, 0.25, 0.25, 0.0, 0.0, 0.25, 0.25, 0.0, 0.0, 0.0, 0.0, 0.25, 0.25, 0.0, 0.0, 0.25, 0.0, 0.25, 0.0, 0.25, 0.0, 0.25, 0.25, 0.5, 0.25, 0.0, 0.0, 0.0, 0.0, 0.25, 0.0, 0.0, 0.5, 0.25, 0.0, 0.25, 0.0, 0.25, 0.25, 0.25, 0.0, 0.0, 0.25, 0.0, 0.0, 0.0, 0.25, 0.0, 0.0, 0.5, 0.25, 0.0, 0.25, 0.25, 0.25, 0.25, 0.25, 0.0, 0.0, 0.0, 0.0, 0.0, 0.0, 0.25, 0.25, 0.25, 0.0, 0.0, 0.25, 0.25, 0.0, 0.0, 0.0, 0.25, 0.0, 0.25, 0.0, 0.25, 0.0, 0.0, 0.25, 0.25, 0.0, 0.0, 0.25, 0.25, 0.0, 0.0, 0.25, 0.0, 0.5, 0.25, 0.0, 0.25, 0.0, 0.0, 0.25, 0.25, 0.0, 0.0, 0.25, 0.25, 0.0, 0.0, 0.0, 0.0, 0.25, 0.0, 0.5, 0.0, 0.25, 0.5, 0.5, 0.0, 0.5, 0.0, 0.5, 0.25, 0.25, 0.0, 0.0, 0.25, 0.0, 0.0, 0.0, 0.25, 0.25, 0.25, 0.0, 0.0, 0.0, 0.25, 0.0, 0.25, 0.0, 0.25, 0.0, 0.25, 0.0, 0.25, 0.25, 0.0, 0.5, 0.25, 0.5, 0.0, 0.0, 0.25, 0.5, 0.5, 0.5, 0.25, 0.25, 0.0, 0.0, 0.0, 0.25, 0.25, 0.25, 0.25, 0.0, 0.25, 0.0, 0.25, 0.0, 0.25, 0.25, 0.0, 0.25, 0.25, 0.25, 0.25, 0.0, 0.25, 0.0, 0.25, 0.0, 0.0, 0.25, 0.5, 0.0, 0.25, 0.5, 0.0, 0.0, 0.0, 0.0, 0.0, 0.0, 0.0, 0.25, 0.25, 0.0, 0.25, 0.0, 0.25, 0.25, 0.25, 0.0, 0.0, 0.25, 0.0, 0.25, 0.25, 0.25, 0.0, 0.0, 0.0, 0.0, 0.25, 0.0, 0.25, 0.25, 0.25, 0.25, 0.25, 0.25, 0.5, 0.5, 0.25, 0.0, 0.25, 0.25, 0.25, 0.0, 0.25, 0.0, 0.25, 0.0, 0.0, 0.0, 0.0, 0.0, 0.0, 0.0, 0.0, 0.0, 0.0, 0.25, 0.25, 0.0, 0.5, 0.25, 0.0, 0.0, 0.5, 0.25, 0.25, 0.0, 0.5, 0.25, 0.25, 0.0, 0.5, 0.5, 0.5, 0.25, 0.25, 0.0, 0.0, 0.5]\n"
          ]
        }
      ]
    },
    {
      "cell_type": "code",
      "source": [
        "speedint = []\n",
        "speed_vector_final_normalized = []\n",
        "\n",
        "for t in dfAN.speed:\n",
        "    DefVal = int(t)\n",
        "    speedint.append(DefVal)"
      ],
      "metadata": {
        "id": "3vb3QIp6aGen"
      },
      "execution_count": null,
      "outputs": []
    },
    {
      "cell_type": "code",
      "source": [
        "from matplotlib.cbook import index_of\n",
        "import math\n",
        "\n",
        "val = []\n",
        "final_vector = []\n",
        "for u in speedint:\n",
        "    tr = math.exp(math.log(u))\n",
        "    val.append(tr)\n",
        "    \n",
        "valX = min(val)\n",
        "valY = max(val)\n",
        "\n",
        "for t in val:\n",
        "    final = (t-valX)/(valY - valX)\n",
        "    final_vector.append(final)\n",
        "print(final_vector)"
      ],
      "metadata": {
        "colab": {
          "base_uri": "https://localhost:8080/"
        },
        "id": "zIJe4k97IKON",
        "outputId": "a2ffcf27-2936-44e6-c04b-7cf3a138ce76"
      },
      "execution_count": null,
      "outputs": [
        {
          "output_type": "stream",
          "name": "stdout",
          "text": [
            "[0.13037037037037033, 0.1511111111111112, 0.16740740740740737, 0.06814814814814814, 0.0859259259259259, 0.20444444444444443, 0.20740740740740746, 0.5155555555555558, 0.36740740740740746, 0.14518518518518514, 0.18548148148148144, 0.0711111111111111, 0.20444444444444443, 0.20444444444444443, 0.2637037037037038, 0.2637037037037038, 0.165925925925926, 0.30548148148148146, 0.3525925925925925, 0.2133333333333334, 0.33777777777777784, 0.10074074074074071, 0.2340740740740742, 0.10370370370370377, 0.1748148148148148, 0.11851851851851856, 0.08888888888888892, 0.13481481481481486, 0.0859259259259259, 0.0740740740740741, 0.082962962962963, 0.10074074074074071, 0.13037037037037033, 0.1096296296296296, 0.05925925925925925, 0.16000000000000003, 0.2420740740740741, 0.07999999999999999, 0.15288888888888894, 0.20148148148148143, 0.16888888888888895, 0.0859259259259259, 0.20444444444444443, 0.10074074074074071, 0.12444444444444445, 0.07259259259259263, 0.13037037037037033, 0.0711111111111111, 0.0859259259259259, 0.07999999999999999, 0.1748148148148148, 0.18370370370370367, 0.1748148148148148, 0.0859259259259259, 0.14933333333333343, 0.13333333333333333, 0.09481481481481484, 0.25481481481481494, 0.14814814814814814, 0.24888888888888897, 0.15407407407407409, 0.10074074074074071, 0.1422222222222223, 0.10074074074074071, 0.19259259259259268, 0.568888888888889, 0.23111111111111116, 0.14518518518518514, 0.1896296296296296, 0.08888888888888892, 0.18666666666666662, 0.24888888888888897, 0.2785185185185185, 0.2800000000000001, 0.2755555555555556, 0.13037037037037033, 0.3733333333333334, 0.19851851851851854, 0.2637037037037038, 0.14518518518518514, 0.2755555555555556, 0.15407407407407409, 0.11555555555555559, 0.14518518518518514, 0.0711111111111111, 0.3837037037037039, 0.11703703703703704, 0.2637037037037038, 0.17185185185185184, 0.06222222222222225, 0.15407407407407409, 0.165925925925926, 0.2340740740740742, 0.36740740740740746, 0.0859259259259259, 0.20740740740740746, 0.16325925925925935, 0.16296296296296306, 0.2340740740740742, 0.25333333333333324, 0.2637037037037038, 0.2933333333333334, 0.7229629629629629, 0.20740740740740746, 0.20444444444444443, 0.397037037037037, 0.42666666666666675, 0.07703703703703703, 0.2281481481481481, 0.2281481481481481, 0.15496296296296294, 0.14814814814814814, 0.2785185185185185, 0.0859259259259259, 0.07999999999999999, 0.12740740740740739, 0.2340740740740742, 0.23051851851851848, 0.16237037037037041, 0.17185185185185184, 0.07703703703703703, 0.17777777777777776, 0.1647407407407407, 0.11259259259259256, 0.24888888888888897, 0.3733333333333334, 0.5600000000000002, 0.1096296296296296, 0.2340740740740742, 0.3303703703703705, 0.16000000000000003, 0.10370370370370377, 0.0711111111111111, 0.21925925925925926, 0.27614814814814803, 0.15851851851851861, 0.2785185185185185, 0.05925925925925925, 0.09777777777777781, 0.08888888888888892, 0.16177777777777777, 0.0711111111111111, 0.18074074074074073, 0.1748148148148148, 0.16948148148148154, 0.16622222222222224, 0.20444444444444443, 0.2903703703703704, 0.10666666666666666, 0.16088888888888897, 0.24859259259259256, 0.1934814814814815, 0.18370370370370367, 0.16000000000000003, 0.1362962962962963, 0.16888888888888895, 0.08740740740740743, 0.19555555555555562, 0.17185185185185184, 0.165925925925926, 0.11792592592592599, 0.42666666666666675, 0.2785185185185185, 0.3229629629629631, 0.17096296296296296, 0.17007407407407407, 0.4287407407407409, 0.1896296296296296, 0.13037037037037033, 0.18399999999999997, 0.10074074074074071, 0.1422222222222223, 0.1748148148148148, 0.42666666666666675, 0.07999999999999999, 0.08148148148148147, 0.13037037037037033, 0.38814814814814835, 0.0859259259259259, 0.11555555555555559, 0.07999999999999999, 0.133037037037037, 0.11851851851851856, 0.1896296296296296, 0.1748148148148148, 0.14340740740740737, 0.1431111111111111, 0.1413333333333334, 0.09481481481481484, 0.082962962962963, 0.09303703703703708, 0.06399999999999997, 0.06933333333333333, 0.157037037037037, 0.2755555555555556, 0.09481481481481484, 0.12148148148148151, 0.19851851851851854, 0.07703703703703703, 0.0859259259259259, 0.13037037037037033, 0.10074074074074071, 0.30814814814814806, 0.14814814814814814, 0.07999999999999999, 0.18370370370370367, 0.14814814814814814, 0.3229629629629631, 0.07081481481481486, 0.14518518518518514, 0.21925925925925926, 0.18814814814814815, 0.24533333333333338, 0.1822222222222223, 0.08414814814814814, 0.20918518518518514, 0.1137777777777778, 0.09451851851851853, 0.06192592592592593, 0.09629629629629637, 0.2112592592592594, 0.11999999999999997, 0.18192592592592596, 0.1096296296296296, 0.19851851851851854, 0.022518518518518542, 0.2127407407407407, 0.19496296296296295, 0.07999999999999999, 0.2577777777777777, 0.14518518518518514, 0.11674074074074081, 0.14814814814814814, 0.05629629629629627, 0.13777777777777775, 0.0859259259259259, 0.13037037037037033, 0.13392592592592592, 0.1665185185185185, 0.12148148148148151, 0.06222222222222225, 0.1362962962962963, 0.18044444444444455, 0.1620740740740741, 0.1967407407407407, 0.09955555555555556, 0.10637037037037035, 0.06874074074074076, 0.22162962962962957, 0.1114074074074074, 0.13037037037037033, 0.11407407407407408, 0.12088888888888896, 0.08888888888888892, 0.22429629629629635, 0.10281481481481478, 0.14637037037037043, 0.09303703703703708, 0.1365925925925926, 0.3250370370370371, 0.21925925925925926, 0.36740740740740746, 0.07999999999999999, 0.1517037037037037, 0.06370370370370375, 0.1362962962962963, 0.16000000000000003, 0.13037037037037033, 0.12444444444444445, 0.1748148148148148, 0.2103703703703703, 0.19585185185185194, 0.2127407407407407, 0.0868148148148148, 0.10074074074074071, 0.11555555555555559, 0.11022222222222229, 0.22518518518518513, 0.1845925925925926, 0.3235555555555557, 0.07644444444444445, 0.07703703703703703, 0.26577777777777783, 0.26340740740740753, 0.11940740740740742, 0.14637037037037043, 0.07555555555555557, 0.19259259259259268, 0.05777777777777777, 0.06814814814814814, 0.10429629629629635, 0.2755555555555556, 0.1362962962962963, 0.09244444444444443, 0.2844444444444444, 0.11555555555555559, 0.11200000000000004, 0.1878518518518519, 0.6373333333333334, 0.11051851851851852, 0.3028148148148147, 0.13688888888888898, 0.1517037037037037, 0.10074074074074071, 0.634074074074074, 0.09777777777777781, 0.15407407407407409, 0.2133333333333334, 0.05540740740740743, 0.14400000000000004, 0.07140740740740738, 0.05274074074074078, 0.15644444444444444, 0.0859259259259259, 0.1362962962962963, 0.14518518518518514, 0.22370370370370377, 0.0859259259259259, 0.0859259259259259, 0.16000000000000003, 0.16000000000000003, 0.14755555555555555, 0.061629629629629624, 0.18666666666666662, 0.1896296296296296, 0.13274074074074077, 0.4385185185185184, 0.12118518518518517, 0.38607407407407424, 0.16148148148148156, 0.1437037037037037, 0.634074074074074, 0.5155555555555558, 0.0711111111111111, 0.09925925925925928, 0.0711111111111111, 0.31555555555555564, 0.157037037037037, 0.14814814814814814, 0.16888888888888895, 0.397037037037037, 0.17185185185185184, 0.6488888888888891, 0.13037037037037033, 0.1511111111111112, 0.0711111111111111, 0.13037037037037033, 0.19851851851851854, 0.17422222222222222, 0.25659259259259265, 0.4118518518518519, 0.44148148148148175, 0.1748148148148148, 0.4562962962962963, 0.14814814814814814, 0.20444444444444443, 0.18844444444444453, 0.11703703703703704, 0.4118518518518519, 0.20444444444444443, 0.165925925925926, 0.28888888888888886, 0.10074074074074071, 0.192, 0.12592592592592597, 0.0808888888888889, 0.07762962962962966, 0.16237037037037041, 0.18548148148148144, 0.1994074074074074, 0.18370370370370367, 0.2509629629629629, 0.20740740740740746, 0.2731851851851852, 0.17125925925925925, 0.1896296296296296, 0.12148148148148151, 0.2785185185185185, 0.07703703703703703, 0.1096296296296296, 0.3525925925925925, 0.15407407407407409, 0.13333333333333333, 0.09629629629629637, 0.15407407407407409, 0.1896296296296296, 0.11851851851851856, 0.24592592592592596, 0.13037037037037033, 0.08888888888888892, 0.11555555555555559, 0.1748148148148148, 0.14074074074074072, 0.10074074074074071, 0.1128888888888889, 0.16000000000000003, 0.17362962962962966, 0.157037037037037, 0.13037037037037033, 0.13037037037037033, 0.1896296296296296, 0.16000000000000003, 0.0711111111111111, 0.122962962962963, 0.16296296296296306, 0.14518518518518514, 0.2666666666666667, 0.09629629629629637, 0.1748148148148148, 0.1748148148148148, 0.0711111111111111, 0.16000000000000003, 0.1896296296296296, 0.20088888888888892, 0.1665185185185185, 0.11229629629629632, 0.2284444444444446, 0.2903703703703704, 0.14518518518518514, 0.1362962962962963, 0.13037037037037033, 0.1253333333333333, 0.12444444444444445, 0.13362962962962965, 0.10370370370370377, 0.42666666666666675, 0.1896296296296296, 0.2080000000000001, 0.15614814814814823, 0.0711111111111111, 0.10429629629629635, 0.165925925925926, 0.07644444444444445, 0.21155555555555566, 0.15407407407407409, 0.03466666666666666, 0.1096296296296296, 0.30814814814814806, 0.2666666666666667, 0.17333333333333337, 0.082962962962963, 0.12888888888888891, 0.11555555555555559, 0.13925925925925928, 0.19851851851851854, 0.20918518518518514, 0.29155555555555546, 0.12622222222222224, 0.1905185185185186, 0.16118518518518524, 0.38637037037037053, 0.19999999999999998, 0.13925925925925928, 0.15288888888888894, 0.10074074074074071, 0.11555555555555559, 0.20444444444444443, 0.15644444444444444, 0.10874074074074079, 0.10370370370370377, 0.16000000000000003, 0.0711111111111111, 0.18074074074074073, 0.21925925925925926, 0.09481481481481484, 0.11555555555555559, 0.14577777777777773, 0.12592592592592597, 0.24177777777777787, 0.21866666666666676, 0.1253333333333333, 0.18192592592592596, 0.12325925925925933, 0.3804444444444446, 0.22518518518518513, 0.30814814814814806, 0.11851851851851856, 0.19407407407407407, 0.14518518518518514, 0.1362962962962963, 0.16148148148148156, 0.10074074074074071, 0.1128888888888889, 0.07585185185185188, 0.14074074074074072, 0.11111111111111115, 0.17185185185185184, 0.2785185185185185, 0.0865185185185185, 0.33777777777777784, 0.2340740740740742, 0.1896296296296296, 0.2785185185185185, 0.18518518518518529, 0.15851851851851861, 0.16296296296296306, 0.1422222222222223, 0.11259259259259256, 0.397037037037037, 0.36740740740740746, 0.30814814814814806, 0.33777777777777784, 0.28888888888888886, 0.2637037037037038, 0.33777777777777784, 0.44148148148148175, 1.0, 0.8118518518518518, 0.07792592592592593, 0.10755555555555552, 0.21985185185185194, 0.09481481481481484, 0.20444444444444443, 0.1422222222222223, 0.21925925925925926, 0.202962962962963, 0.11407407407407408, 0.1096296296296296, 0.05037037037037039, 0.15407407407407409, 0.1896296296296296, 0.14518518518518514, 0.13037037037037033, 0.10074074074074071, 0.13037037037037033, 0.2047407407407407, 0.0859259259259259, 0.14340740740740737, 0.16000000000000003, 0.05037037037037039, 0.2666666666666667, 0.0859259259259259, 0.30814814814814806, 0.13362962962962965, 0.1362962962962963, 0.2637037037037038, 0.11111111111111115, 0.42607407407407405, 0.19851851851851854, 0.0859259259259259, 0.07555555555555557, 0.23111111111111116, 0.10518518518518515, 0.14814814814814814, 0.1173333333333334, 0.07466666666666669, 0.08207407407407406, 0.12444444444444445, 0.08385185185185182, 0.2785185185185185, 0.13037037037037033, 0.13718518518518524, 0.6693333333333333, 0.2903703703703704, 0.2162962962962964, 0.2731851851851852, 0.29511111111111116, 0.45392592592592607, 0.32592592592592595, 0.2637037037037038, 0.1256296296296297, 0.06370370370370375, 0.09777777777777781, 0.1748148148148148, 0.1096296296296296, 0.18281481481481485, 0.2340740740740742, 0.13511111111111113, 0.16888888888888895, 0.12444444444444445, 0.05777777777777777, 0.1315555555555556, 0.13037037037037033, 0.1896296296296296, 0.1114074074074074, 0.09481481481481484, 0.1896296296296296, 0.09392592592592595, 0.10666666666666666, 0.12918518518518526, 0.0740740740740741, 0.15407407407407409, 0.07614814814814813, 0.1096296296296296, 0.13037037037037033, 0.09066666666666665, 0.18370370370370367, 0.36296296296296315, 0.13925925925925928, 0.2050370370370371, 0.1650370370370371, 0.1511111111111112, 0.24888888888888897, 0.10074074074074071, 0.1748148148148148, 0.146962962962963, 0.2293333333333334, 0.06399999999999997, 0.17244444444444446, 0.09837037037037034, 0.1727407407407407, 0.1917037037037038, 0.12918518518518526, 0.19703703703703707, 0.19851851851851854, 0.0862222222222222, 0.2340740740740742, 0.13925925925925928, 0.13037037037037033, 0.11259259259259256, 0.08355555555555554, 0.16296296296296306, 0.2711111111111112, 0.06281481481481485, 0.20740740740740746, 0.12148148148148151, 0.22518518518518513, 0.07555555555555557, 0.1324444444444445, 0.08177777777777778, 0.12148148148148151, 0.17748148148148152, 0.19970370370370363, 0.11555555555555559, 0.24888888888888897, 0.14755555555555555, 0.1896296296296296, 0.14518518518518514, 0.15259259259259264, 0.10074074074074071, 0.10370370370370377, 0.10607407407407408, 0.11259259259259256, 0.08888888888888892, 0.09333333333333332, 0.1362962962962963, 0.08859259259259257, 0.05451851851851854, 0.18518518518518529, 0.07851851851851852, 0.11466666666666674, 0.11555555555555559, 0.1964444444444445, 0.13925925925925928, 0.14518518518518514, 0.13333333333333333, 0.16000000000000003, 0.0859259259259259, 0.08740740740740743, 0.25629629629629624, 0.15288888888888894, 0.16740740740740737, 0.07703703703703703, 0.20148148148148143, 0.34548148148148167, 0.15466666666666676, 0.1114074074074074, 0.22666666666666666, 0.30814814814814806, 0.13037037037037033, 0.22577777777777774, 0.21837037037037044, 0.14518518518518514, 0.14962962962962972, 0.13777777777777775, 0.22222222222222218, 0.11555555555555559, 0.1096296296296296, 0.19851851851851854, 0.24888888888888897, 0.11555555555555559, 0.16622222222222224, 0.08799999999999998, 0.5451851851851854, 0.18696296296296305, 0.11555555555555559, 0.17777777777777776, 0.18370370370370367, 0.4222222222222224, 0.24088888888888885, 0.1362962962962963, 0.11555555555555559, 0.1422222222222223, 0.16977777777777772, 0.33777777777777784, 0.1362962962962963, 0.1362962962962963, 0.1748148148148148, 0.1822222222222223, 0.11259259259259256, 0.12829629629629627, 0.21925925925925926, 0.24296296296296294, 0.2785185185185185, 0.09481481481481484, 0.10074074074074071, 0.22370370370370377, 0.24296296296296294, 0.11555555555555559, 0.11111111111111115, 0.23703703703703705, 0.09925925925925928, 0.0859259259259259, 0.1748148148148148, 0.1362962962962963, 0.10370370370370377, 0.16888888888888895, 0.1466666666666667, 0.15259259259259264, 0.1896296296296296, 0.33777777777777784, 0.1511111111111112, 0.07999999999999999, 0.5451851851851854, 0.634074074074074, 0.30814814814814806, 0.2945185185185186, 0.397037037037037, 0.07229629629629632, 0.21925925925925926, 0.1748148148148148, 0.33777777777777784, 0.24266666666666664, 0.10666666666666666, 0.11970370370370371, 0.2400000000000001, 0.0711111111111111, 0.16000000000000003, 0.16296296296296306, 0.157037037037037, 0.08888888888888892, 0.25481481481481494, 0.3534814814814815, 0.1128888888888889, 0.0859259259259259, 0.21925925925925926, 0.20888888888888893, 0.2785185185185185, 0.17777777777777776, 0.13037037037037033, 0.18429629629629635, 0.5659259259259262, 0.11555555555555559, 0.19911111111111107, 0.16000000000000003, 0.1422222222222223, 0.2047407407407407, 0.33777777777777784, 0.11259259259259256, 0.25333333333333324, 0.11555555555555559, 0.1896296296296296, 0.16000000000000003, 0.09451851851851853, 0.16000000000000003, 0.09807407407407409, 0.06459259259259259, 0.24888888888888897, 0.09481481481481484, 0.06222222222222225, 0.08888888888888892, 0.11170370370370368, 0.10814814814814822, 0.24888888888888897, 0.0711111111111111, 0.2785185185185185, 0.1896296296296296, 0.122962962962963, 0.2340740740740742, 0.2281481481481481, 0.15407407407407409, 0.14251851851851846, 0.10281481481481478, 0.1822222222222223, 0.10637037037037035, 0.1422222222222223, 0.20444444444444443, 0.13037037037037033, 0.14518518518518514, 0.20444444444444443, 0.1345185185185186, 0.17303703703703713, 0.08562962962962962, 0.13185185185185191, 0.13925925925925928, 0.0711111111111111, 0.0711111111111111, 0.2785185185185185, 0.1878518518518519, 0.10814814814814822, 0.30251851851851846, 0.33777777777777784, 0.2539259259259259, 0.16296296296296306, 0.11851851851851856, 0.18074074074074073, 0.11496296296296295, 0.11851851851851856, 0.13037037037037033, 0.1362962962962963, 0.05481481481481486, 0.1096296296296296, 0.1665185185185185, 0.23703703703703705, 0.1911111111111112, 0.14518518518518514, 0.24237037037037046, 0.12859259259259265, 0.10577777777777779, 0.157037037037037, 0.082962962962963, 0.18133333333333335, 0.10074074074074071, 0.2340740740740742, 0.1345185185185186, 0.20444444444444443, 0.1096296296296296, 0.07881481481481482, 0.16000000000000003, 0.15911111111111118, 0.07081481481481486, 0.15407407407407409, 0.0711111111111111, 0.09185185185185184, 0.1431111111111111, 0.060740740740740734, 0.11940740740740742, 0.12118518518518517, 0.09688888888888891, 0.122962962962963, 0.07970370370370372, 0.09214814814814815, 0.15140740740740746, 0.13925925925925928, 0.09214814814814815, 0.17985185185185182, 0.24888888888888897, 0.30814814814814806, 0.05629629629629627, 0.13925925925925928, 0.1896296296296296, 0.10074074074074071, 0.08148148148148147, 0.07999999999999999, 0.2785185185185185, 0.2162962962962964, 0.13925925925925928, 0.10074074074074071, 0.0711111111111111, 0.10074074074074071, 0.12740740740740739, 0.0711111111111111, 0.2133333333333334, 0.12148148148148151, 0.1365925925925926, 0.05688888888888891, 0.14933333333333343, 0.09748148148148145, 0.14340740740740737, 0.06370370370370375, 0.09333333333333332, 0.23555555555555552, 0.11051851851851852, 0.05125925925925925, 0.059851851851851844, 0.1644444444444444, 0.11792592592592599, 0.213925925925926, 0.07999999999999999, 0.1748148148148148, 0.082962962962963, 0.2785185185185185, 0.09037037037037038, 0.11851851851851856, 0.12355555555555563, 0.27259259259259255, 0.07999999999999999, 0.17066666666666672, 0.2637037037037038, 0.22518518518518513, 0.14874074074074073, 0.13955555555555557, 0.17659259259259255, 0.24888888888888897, 0.1748148148148148, 0.20444444444444443, 0.16000000000000003, 0.30814814814814806, 0.24888888888888897, 0.13777777777777775, 0.15229629629629637, 0.03348148148148151, 0.12444444444444445, 0.07762962962962966, 0.19259259259259268, 0.2503703703703703, 0.05185185185185186, 0.12325925925925933, 0.3016296296296295, 0.2281481481481481, 0.20059259259259257, 0.12829629629629627, 0.4562962962962963, 0.1665185185185185, 0.2322962962962964, 0.10074074074074071, 0.2637037037037038, 0.6044444444444446, 0.13925925925925928, 0.26014814814814813, 0.1137777777777778, 0.13274074074074077, 0.14518518518518514, 0.21925925925925926, 0.16000000000000003, 0.1748148148148148, 0.16000000000000003, 0.263111111111111, 0.17688888888888882, 0.2133333333333334, 0.2518518518518518, 0.20148148148148143, 0.20148148148148143, 0.09185185185185184, 0.14281481481481487, 0.2637037037037038, 0.1908148148148148, 0.11466666666666674, 0.10429629629629635, 0.12444444444444445, 0.14785185185185187, 0.133037037037037, 0.1431111111111111, 0.15348148148148152, 0.19259259259259268, 0.16000000000000003, 0.06814814814814814, 0.1134814814814815, 0.1896296296296296, 0.1748148148148148, 0.14103703703703704, 0.21185185185185196, 0.21185185185185196, 0.20444444444444443, 0.1964444444444445, 0.2204444444444445, 0.09540740740740744, 0.09748148148148145, 0.09392592592592595, 0.29629629629629634, 0.2260740740740741, 0.11259259259259256, 0.10459259259259265, 0.2062222222222223, 0.14014814814814813, 0.16000000000000003, 0.0823703703703704, 0.19585185185185194, 0.11111111111111115, 0.20740740740740746, 0.10340740740740748, 0.12740740740740739, 0.2133333333333334, 0.0, 0.10074074074074071, 0.08503703703703706, 0.17007407407407407, 0.1386666666666667, 0.12148148148148151, 0.18844444444444453, 0.3579259259259259, 0.09481481481481484, 0.017777777777777774, 0.05570370370370375, 0.10074074074074071, 0.0844444444444445, 0.4562962962962963, 0.15555555555555564, 0.05629629629629627, 0.1315555555555556, 0.08888888888888892, 0.19703703703703707, 0.2100740740740742, 0.13955555555555557, 0.0808888888888889, 0.14074074074074072, 0.0711111111111111, 0.07851851851851852, 0.373037037037037, 0.13955555555555557, 0.20444444444444443, 0.1748148148148148, 0.06992592592592592, 0.36, 0.165925925925926, 0.592888888888889, 0.12207407407407404, 0.08977777777777776, 0.12651851851851853, 0.11555555555555559, 0.13096296296296292, 0.05629629629629627, 0.1096296296296296, 0.11555555555555559, 0.15911111111111118, 0.06844444444444449, 0.08888888888888892, 0.2050370370370371, 0.06429629629629631, 0.10251851851851851, 0.1134814814814815, 0.06370370370370375, 0.1644444444444444, 0.16000000000000003, 0.14518518518518514, 0.04740740740740745, 0.04740740740740745, 0.20859259259259266, 0.20148148148148143, 0.022222222222222237, 0.09600000000000002, 0.1422222222222223, 0.18370370370370367, 0.5155555555555558, 0.10637037037037035, 0.06311111111111112, 0.10074074074074071, 0.05125925925925925, 0.06251851851851854, 0.16711111111111115, 0.1887407407407408, 0.19822222222222227, 0.10666666666666666, 0.10074074074074071, 0.1896296296296296, 0.09066666666666665, 0.19259259259259268, 0.157037037037037, 0.19555555555555562, 0.026666666666666665, 0.2874074074074075, 0.11555555555555559, 0.21925925925925926, 0.06518518518518517, 0.0823703703703704, 0.12207407407407404, 0.277925925925926, 0.19792592592592595, 0.09511111111111116, 0.12266666666666673, 0.060740740740740734, 0.202962962962963, 0.1365925925925926, 0.10518518518518515, 0.08503703703703706, 0.17777777777777776, 0.09037037037037038, 0.1511111111111112, 0.05777777777777777, 0.10074074074074071, 0.0711111111111111, 0.0862222222222222, 0.05185185185185186, 0.07348148148148145, 0.09037037037037038, 0.04148148148148147, 0.13925925925925928, 0.14518518518518514, 0.05481481481481486, 0.11555555555555559, 0.09629629629629637, 0.19407407407407407, 0.05451851851851854, 0.10074074074074071, 0.12059259259259263, 0.13037037037037033, 0.1511111111111112, 0.12681481481481488, 0.12740740740740739, 0.1134814814814815, 0.19555555555555562, 0.20592592592592598, 0.06755555555555558, 0.165925925925926, 0.09066666666666665, 0.26903703703703696, 0.15259259259259264, 0.3022222222222224, 0.12918518518518526, 0.17155555555555554, 0.082962962962963, 0.0500740740740741, 0.1748148148148148, 0.11259259259259256, 0.0859259259259259, 0.10666666666666666, 0.23437037037037048, 0.13037037037037033, 0.22222222222222218, 0.21925925925925926, 0.1727407407407407, 0.2352592592592594, 0.15555555555555564, 0.07496296296296294, 0.23111111111111116, 0.2965925925925926, 0.2340740740740742, 0.19999999999999998, 0.16355555555555557, 0.07674074074074073, 0.2933333333333334, 0.477037037037037, 0.0711111111111111, 0.03259259259259262, 0.0711111111111111, 0.07911111111111112, 0.04444444444444443, 0.13037037037037033, 0.09155555555555556, 0.05837037037037039, 0.05925925925925925, 0.0663703703703704, 0.1096296296296296, 0.24888888888888897, 0.17511111111111108, 0.13333333333333333, 0.1422222222222223, 0.2992592592592592, 0.1748148148148148, 0.06755555555555558, 0.09392592592592595, 0.1422222222222223, 0.21925925925925926, 0.1472592592592593, 0.15407407407407409, 0.08977777777777776, 0.17333333333333337, 0.09244444444444443, 0.1054814814814815, 0.3229629629629631, 0.1552592592592593, 0.09037037037037038, 0.055111111111111104, 0.05777777777777777, 0.09570370370370368, 0.06222222222222225, 0.11851851851851856, 0.1437037037037037, 0.11970370370370371, 0.13037037037037033, 0.20948148148148146, 0.09866666666666668, 0.07288888888888889, 0.1896296296296296, 0.06488888888888888, 0.0740740740740741, 0.04474074074074076, 0.0859259259259259, 0.082962962962963, 0.026666666666666665, 0.03703703703703702, 0.09866666666666668, 0.082962962962963, 0.1404444444444445, 0.10074074074074071, 0.12148148148148151, 0.05540740740740743, 0.2263703703703705, 0.13037037037037033, 0.1896296296296296, 0.15051851851851858, 0.12888888888888891, 0.13837037037037042, 0.1917037037037038, 0.14577777777777773, 0.16414814814814813, 0.12711111111111117, 0.0882962962962963, 0.21214814814814825, 0.12355555555555563, 0.22518518518518513, 0.17600000000000005, 0.14014814814814813, 0.1917037037037038, 0.11170370370370368, 0.11644444444444449, 0.034962962962962967, 0.04592592592592592, 0.09333333333333332, 0.11555555555555559, 0.15318518518518523, 0.45748148148148166, 0.11614814814814821, 0.133037037037037, 0.09244444444444443, 0.07437037037037036, 0.11407407407407408, 0.04740740740740745, 0.12088888888888896, 0.12977777777777777, 0.09007407407407407, 0.17600000000000005, 0.1114074074074074, 0.0711111111111111, 0.13333333333333333, 0.13777777777777775, 0.18666666666666662, 0.09333333333333332, 0.11259259259259256, 0.04503703703703704, 0.0711111111111111, 0.07999999999999999, 0.0868148148148148, 0.16296296296296306, 0.15437037037037032, 0.12888888888888891, 0.09955555555555556, 0.19851851851851854, 0.12948148148148153, 0.0420740740740741, 0.1054814814814815, 0.20266666666666663, 0.09451851851851853, 0.397037037037037, 0.082962962962963, 0.10074074074074071, 0.15762962962962962, 0.052148148148148186, 0.10340740740740748, 0.10074074074074071, 0.053333333333333344, 0.13748148148148145, 0.04148148148148147, 0.17777777777777776, 0.09333333333333332, 0.07674074074074073, 0.09037037037037038, 0.18074074074074073, 0.06814814814814814, 0.1365925925925926, 0.12266666666666673, 0.06222222222222225, 0.13925925925925928, 0.1647407407407407, 0.06785185185185187, 0.07051851851851855, 0.09333333333333332, 0.05866666666666667, 0.08059259259259256, 0.24711111111111103, 0.06222222222222225, 0.15288888888888894, 0.07199999999999998, 0.16888888888888895, 0.10992592592592589, 0.07377777777777782, 0.10074074074074071, 0.1072592592592593, 0.25362962962962954, 0.0711111111111111, 0.11851851851851856, 0.1511111111111112, 0.07703703703703703, 0.22370370370370377, 0.31111111111111117, 0.21925925925925926, 0.16000000000000003, 0.3306666666666667, 0.1362962962962963, 0.30814814814814806, 0.20444444444444443, 0.1176296296296297, 0.04355555555555554, 0.10222222222222219, 0.2465185185185186, 0.1134814814814815, 0.10696296296296294, 0.2047407407407407, 0.06518518518518517, 0.0711111111111111, 0.11851851851851856, 0.13777777777777775, 0.10370370370370377, 0.08918518518518515, 0.0808888888888889, 0.16296296296296306, 0.16888888888888895, 0.0666666666666667, 0.16029629629629633, 0.06844444444444449, 0.09185185185185184, 0.07792592592592593, 0.0740740740740741, 0.04740740740740745, 0.10074074074074071, 0.11851851851851856, 0.13125925925925927, 0.05451851851851854, 0.1315555555555556, 0.1413333333333334, 0.09925925925925928, 0.12799999999999997, 0.0711111111111111, 0.08948148148148155, 0.0859259259259259, 0.0823703703703704, 0.2302222222222223, 0.0859259259259259, 0.0666666666666667, 0.0711111111111111, 0.16918518518518513, 0.10340740740740748, 0.082962962962963, 0.15940740740740736, 0.06874074074074076, 0.05451851851851854, 0.05925925925925925, 0.15762962962962962, 0.05392592592592597, 0.08918518518518515, 0.1517037037037037, 0.09392592592592595, 0.2174814814814816, 0.2281481481481481, 0.16000000000000003, 0.082962962962963, 0.11555555555555559, 0.10370370370370377, 0.1896296296296296, 0.23614814814814822, 0.1386666666666667, 0.14074074074074072, 0.16888888888888895, 0.2785185185185185, 0.1896296296296296, 0.09362962962962966, 0.06874074074074076, 0.06311111111111112, 0.09185185185185184, 0.0666666666666667, 0.052148148148148186, 0.16088888888888897, 0.1445925925925927, 0.2400000000000001, 0.09244444444444443, 0.24888888888888897, 0.16000000000000003, 0.21925925925925926, 0.14488888888888887, 0.17600000000000005, 0.11999999999999997, 0.2785185185185185, 0.18251851851851858, 0.06755555555555558, 0.149925925925926, 0.13925925925925928, 0.10074074074074071, 0.05629629629629627, 0.10666666666666666, 0.026666666666666665, 0.11259259259259256, 0.1703703703703704, 0.055111111111111104, 0.1191111111111111, 0.1137777777777778, 0.10370370370370377, 0.22311111111111104, 0.20444444444444443, 0.1822222222222223, 0.11555555555555559, 0.11170370370370368, 0.06044444444444443, 0.1644444444444444, 0.0711111111111111, 0.16000000000000003, 0.11259259259259256, 0.37185185185185204, 0.10281481481481478, 0.09925925925925928, 0.06222222222222225, 0.19703703703703707, 0.1783703703703704, 0.282962962962963, 0.06103703703703704, 0.22370370370370377, 0.16000000000000003, 0.04355555555555554, 0.08207407407407406, 0.1822222222222223, 0.09955555555555556, 0.12148148148148151, 0.053333333333333344, 0.0711111111111111, 0.09185185185185184, 0.12325925925925933, 0.14933333333333343, 0.14814814814814814, 0.06607407407407408, 0.08888888888888892, 0.11555555555555559, 0.1783703703703704, 0.04000000000000001, 0.13333333333333333, 0.165925925925926, 0.10814814814814822, 0.11555555555555559, 0.1896296296296296, 0.0711111111111111, 0.05392592592592597, 0.0823703703703704, 0.1511111111111112, 0.13037037037037033, 0.20444444444444443, 0.14074074074074072, 0.08325925925925928, 0.04800000000000001, 0.21925925925925926, 0.10903703703703702, 0.09748148148148145, 0.2133333333333334, 0.04622222222222225, 0.0488888888888889, 0.07081481481481486, 0.19259259259259268, 0.04444444444444443, 0.21925925925925926, 0.03555555555555556, 0.05481481481481486, 0.10607407407407408, 0.18251851851851858, 0.06222222222222225, 0.06814814814814814, 0.1137777777777778, 0.1176296296296297, 0.0711111111111111, 0.13037037037037033, 0.13037037037037033, 0.21925925925925926, 0.11851851851851856, 0.18074074074074073, 0.0859259259259259, 0.09629629629629637, 0.2785185185185185, 0.05629629629629627, 0.4859259259259258, 0.24888888888888897, 0.21925925925925926, 0.397037037037037, 0.3200000000000002, 0.1748148148148148, 0.09748148148148145, 0.16177777777777777, 0.1054814814814815, 0.12948148148148153, 0.12059259259259263, 0.10370370370370377, 0.1173333333333334, 0.13777777777777775, 0.07555555555555557, 0.2162962962962964, 0.2133333333333334, 0.10074074074074071, 0.397037037037037, 0.09659259259259262, 0.0711111111111111, 0.21096296296296305, 0.18044444444444455, 0.2281481481481481, 0.0711111111111111, 0.1096296296296296, 0.11555555555555559, 0.15466666666666676, 0.18607407407407406, 0.0488888888888889, 0.13037037037037033, 0.03555555555555556, 0.0740740740740741, 0.01185185185185187, 0.16325925925925935, 0.1605925925925926, 0.08355555555555554, 0.06903703703703708, 0.13274074074074077, 0.16888888888888895, 0.21777777777777785, 0.11081481481481487, 0.12207407407407404, 0.0823703703703704, 0.08533333333333336, 0.10133333333333334, 0.397037037037037, 0.146962962962963, 0.3007407407407407, 0.04474074074074076, 0.09511111111111116, 0.0859259259259259, 0.15022222222222217, 0.16000000000000003, 0.06844444444444449, 0.12444444444444445, 0.05748148148148149, 0.0859259259259259, 0.02962962962962962, 0.09037037037037038, 0.02962962962962962, 0.07822222222222219, 0.04266666666666666, 0.21925925925925926, 0.04148148148148147, 0.1472592592592593, 0.15851851851851861, 0.272888888888889, 0.22518518518518513, 0.23703703703703705, 0.1896296296296296, 0.202962962962963, 0.07881481481481482, 0.05303703703703708, 0.13037037037037033, 0.0711111111111111, 0.09540740740740744, 0.07881481481481482, 0.20444444444444443, 0.09451851851851853, 0.05244444444444449, 0.0740740740740741, 0.10933333333333335, 0.06370370370370375, 0.12444444444444445, 0.12740740740740739, 0.1054814814814815, 0.1386666666666667, 0.5155555555555558, 0.21688888888888896, 0.20029629629629642, 0.1445925925925927, 0.02696296296296297, 0.1134814814814815, 0.24088888888888885, 0.16029629629629633, 0.03881481481481482, 0.16296296296296306, 0.11851851851851856, 0.10281481481481478, 0.12355555555555563, 0.14400000000000004, 0.17985185185185182, 0.21925925925925926, 0.055111111111111104, 0.10074074074074071, 0.20444444444444443, 0.04148148148148147, 0.0740740740740741, 0.12148148148148151, 0.24888888888888897, 0.20444444444444443, 0.16000000000000003, 0.03555555555555556, 0.053333333333333344, 0.09777777777777781, 0.1896296296296296, 0.0859259259259259, 0.06814814814814814, 0.05777777777777777, 0.05362962962962962, 0.11259259259259256, 0.122962962962963, 0.17185185185185184, 0.019259259259259278, 0.1896296296296296, 0.026666666666666665, 0.07555555555555557, 0.06933333333333333, 0.08888888888888892, 0.0711111111111111, 0.04148148148148147, 0.09481481481481484, 0.05481481481481486, 0.11407407407407408, 0.13037037037037033, 0.05629629629629627, 0.1016296296296296, 0.2874074074074075, 0.16888888888888895, 0.11525925925925931, 0.6933333333333336, 0.10074074074074071, 0.09688888888888891, 0.3090370370370372, 0.16088888888888897, 0.24444444444444444, 0.14340740740740737, 0.08207407407407406, 0.2678518518518519, 0.0711111111111111, 0.04444444444444443, 0.05896296296296294, 0.019259259259259278, 0.03555555555555556, 0.20740740740740746, 0.2696296296296297, 0.25422222222222235, 0.13037037037037033, 0.1437037037037037, 0.03881481481481482, 0.06814814814814814, 0.13037037037037033, 0.08325925925925928, 0.31703703703703695, 0.03555555555555556, 0.0859259259259259, 0.0868148148148148, 0.04444444444444443, 0.1398518518518519, 0.15377777777777787, 0.060740740740740734, 0.13333333333333333, 0.05925925925925925, 0.04148148148148147, 0.05629629629629627, 0.12444444444444445, 0.18666666666666662, 0.09777777777777781, 0.13333333333333333, 0.24296296296296294, 0.0859259259259259, 0.14814814814814814, 0.122962962962963, 0.16000000000000003, 0.0711111111111111, 0.05837037037037039, 0.03940740740740741, 0.08977777777777776, 0.06251851851851854, 0.11170370370370368, 0.07555555555555557, 0.3822222222222224, 0.1422222222222223, 0.11466666666666674, 0.02962962962962962, 0.08799999999999998, 0.0859259259259259, 0.061629629629629624, 0.06222222222222225, 0.14903703703703708, 0.20592592592592598, 0.10103703703703706, 0.06133333333333336, 0.1173333333333334, 0.14518518518518514, 0.048296296296296316, 0.27259259259259255, 0.08059259259259256, 0.026666666666666665, 0.12177777777777779, 0.029925925925925943, 0.03614814814814815, 0.06785185185185187, 0.2903703703703704, 0.1748148148148148, 0.04651851851851854, 0.01333333333333333, 0.1967407407407407, 0.07259259259259263, 0.11851851851851856, 0.03407407407407411, 0.08385185185185182, 0.014518518518518516, 0.2269629629629629, 0.13925925925925928, 0.07377777777777782, 0.11555555555555559, 0.0711111111111111, 0.07437037037037036, 0.25303703703703695, 0.21096296296296305, 0.2340740740740742, 0.04266666666666666, 0.2281481481481481, 0.08888888888888892, 0.10666666666666666, 0.02962962962962962, 0.05777777777777777, 0.05037037037037039, 0.0859259259259259, 0.01185185185185187, 0.026666666666666665, 0.11703703703703704, 0.028148148148148165, 0.3576296296296295, 0.33777777777777784, 0.07703703703703703, 0.13896296296296298, 0.19229629629629633, 0.25481481481481494, 0.07674074074074073, 0.0500740740740741, 0.05362962962962962, 0.1134814814814815, 0.08948148148148155, 0.07999999999999999, 0.2518518518518518, 0.19703703703703707, 0.12148148148148151, 0.19762962962962963, 0.15555555555555564, 0.23851851851851846, 0.24888888888888897, 0.1665185185185185, 0.42666666666666675, 0.33777777777777784, 0.33777777777777784, 0.33777777777777784, 0.33777777777777784, 0.4340740740740743, 0.42666666666666675, 0.1437037037037037, 0.16000000000000003, 0.09333333333333332, 0.05629629629629627, 0.06577777777777781, 0.20444444444444443, 0.2785185185185185, 0.03911111111111112, 0.12977777777777777, 0.14577777777777773, 0.13007407407407412, 0.22666666666666666, 0.11407407407407408, 0.030222222222222213, 0.052148148148148186, 0.4118518518518519, 0.0998518518518519, 0.10399999999999997, 0.12859259259259265, 0.0882962962962963, 0.04355555555555554, 0.03407407407407411, 0.13037037037037033, 0.10577777777777779, 0.09185185185185184, 0.14518518518518514, 0.1096296296296296, 0.3051851851851852, 0.10518518518518515, 0.03407407407407411, 0.10340740740740748, 0.0666666666666667, 0.14755555555555555, 0.2539259259259259, 0.13037037037037033, 0.0859259259259259, 0.2785185185185185, 0.08148148148148147, 0.0859259259259259, 0.0740740740740741, 0.146962962962963, 0.3007407407407407, 0.09481481481481484, 0.06370370370370375, 0.11555555555555559, 0.08977777777777776, 0.11644444444444449, 0.05629629629629627, 0.2551111111111111, 0.031111111111111103, 0.06222222222222225, 0.2340740740740742, 0.11822222222222226, 0.08888888888888892, 0.5155555555555558, 0.31111111111111117, 0.16800000000000007, 0.2672592592592593, 0.2844444444444444, 0.157037037037037, 0.22251851851851862, 0.1748148148148148, 0.448888888888889, 0.09748148148148145, 0.16029629629629633, 0.1517037037037037, 0.11851851851851856, 0.08325925925925928, 0.2711111111111112, 0.14518518518518514, 0.04148148148148147, 0.18548148148148144, 0.04148148148148147, 0.06992592592592592, 0.12237037037037034, 0.22429629629629635, 0.15318518518518523, 0.11496296296296295, 0.10281481481481478, 0.1253333333333333, 0.14814814814814814, 0.12740740740740739, 0.18370370370370367, 0.06222222222222225, 0.19703703703703707, 0.15288888888888894, 0.18074074074074073, 0.1362962962962963, 0.06192592592592593, 0.16296296296296306, 0.12088888888888896, 0.10637037037037035, 0.08711111111111111, 0.16000000000000003, 0.07703703703703703, 0.16800000000000007, 0.18251851851851858, 0.06340740740740743, 0.09481481481481484, 0.08562962962962962, 0.11111111111111115, 0.1967407407407407, 0.03851851851851852, 0.10874074074074079, 0.03555555555555556, 0.19851851851851854, 0.06222222222222225, 0.04711111111111113, 0.11851851851851856, 0.23496296296296304, 0.09096296296296301, 0.18992592592592594, 0.20740740740740746, 0.03259259259259262, 0.1511111111111112, 0.11111111111111115, 0.03407407407407411, 0.12740740740740739, 0.09481481481481484, 0.03407407407407411, 0.13333333333333333, 0.4918518518518519, 0.1875555555555556, 0.2785185185185185, 0.16088888888888897, 0.027259259259259268, 0.3525925925925925, 0.11555555555555559, 0.3244444444444444, 0.14814814814814814, 0.11851851851851856, 0.15437037037037032, 0.09333333333333332, 0.05125925925925925, 0.4118518518518519, 0.36740740740740746, 0.16000000000000003, 0.1677037037037037, 0.05688888888888891, 0.12237037037037034, 0.11555555555555559, 0.08414814814814814, 0.07970370370370372, 0.07170370370370371, 0.11555555555555559, 0.016592592592592596, 0.05777777777777777, 0.1437037037037037, 0.10518518518518515, 0.1703703703703704, 0.03703703703703702, 0.03555555555555556, 0.04740740740740745, 0.2400000000000001, 0.0859259259259259, 0.021629629629629638, 0.04385185185185186, 0.04503703703703704, 0.04800000000000001, 0.08029629629629631, 0.05837037037037039, 0.07585185185185188, 0.1253333333333333, 0.20829629629629628, 0.09481481481481484, 0.07940740740740745, 0.06785185185185187, 0.09422222222222226, 0.07674074074074073, 0.07762962962962966, 0.05925925925925925, 0.10074074074074071, 0.13481481481481486, 0.16000000000000003, 0.0868148148148148, 0.009777777777777791, 0.09511111111111116, 0.020148148148148148, 0.12681481481481488, 0.08148148148148147, 0.032888888888888926, 0.10666666666666666, 0.13511111111111113, 0.146962962962963, 0.08948148148148155, 0.07525925925925925, 0.13185185185185191, 0.09659259259259262, 0.1143703703703704, 0.22785185185185192, 0.04622222222222225, 0.08799999999999998, 0.12355555555555563, 0.04325925925925928, 0.22903703703703718, 0.12977777777777777, 0.15022222222222217, 0.1016296296296296, 0.15081481481481485, 0.13037037037037033, 0.1748148148148148, 0.05096296296296297, 0.07614814814814813, 0.04859259259259258, 0.06044444444444443, 0.18637037037037044, 0.0859259259259259, 0.2954074074074075, 0.36385185185185204, 0.0488888888888889, 0.06459259259259259, 0.13037037037037033, 0.07851851851851852, 0.09422222222222226, 0.1887407407407408, 0.07377777777777782, 0.10903703703703702, 0.11081481481481487, 0.11703703703703704, 0.10074074074074071, 0.17777777777777776, 0.18251851851851858, 0.10192592592592599, 0.07940740740740745, 0.07170370370370371, 0.07851851851851852, 0.05807407407407406, 0.0711111111111111, 0.082962962962963, 0.06518518518518517, 0.19999999999999998, 0.12148148148148151, 0.10192592592592599, 0.20266666666666663, 0.09244444444444443, 0.1422222222222223, 0.30814814814814806, 0.16237037037037041, 0.053333333333333344, 0.03466666666666666, 0.10133333333333334, 0.09007407407407407, 0.1967407407407407, 0.03940740740740741, 0.10696296296296294, 0.1896296296296296, 0.09688888888888891, 0.03555555555555556, 0.11999999999999997, 0.06370370370370375, 0.1552592592592593, 0.15851851851851861, 0.1253333333333333, 0.14814814814814814, 0.2696296296296297, 0.14518518518518514, 0.023703703703703696, 0.12088888888888896, 0.026666666666666665, 0.11259259259259256, 0.10370370370370377, 0.2162962962962964, 0.06399999999999997, 0.15377777777777787, 0.10222222222222219, 0.07999999999999999, 0.03940740740740741, 0.03940740740740741, 0.06222222222222225, 0.10074074074074071, 0.23733333333333329, 0.06607407407407408, 0.1143703703703704, 0.10666666666666666, 0.14488888888888887, 0.08148148148148147, 0.06459259259259259, 0.1096296296296296, 0.10133333333333334, 0.09777777777777781, 0.10074074074074071, 0.17629629629629628, 0.08414814814814814, 0.053333333333333344, 0.16859259259259268, 0.1795555555555556, 0.09451851851851853, 0.213925925925926, 0.04592592592592592, 0.11792592592592599, 0.09155555555555556, 0.2133333333333334, 0.1072592592592593, 0.09451851851851853, 0.060740740740740734, 0.173925925925926, 0.20592592592592598, 0.07762962962962966, 0.1872592592592592, 0.22725925925925924, 0.04651851851851854, 0.12237037037037034, 0.10814814814814822, 0.07703703703703703, 0.07762962962962966, 0.1442962962962963, 0.2103703703703703, 0.11703703703703704, 0.09748148148148145, 0.0740740740740741, 0.07703703703703703, 0.019851851851851853, 0.15407407407407409, 0.16148148148148156, 0.07822222222222219, 0.04800000000000001, 0.07733333333333334, 0.13481481481481486, 0.21985185185185194, 0.07348148148148145, 0.1810370370370371, 0.11200000000000004, 0.05244444444444449, 0.1748148148148148, 0.15407407407407409, 0.0497777777777778, 0.24977777777777782, 0.10014814814814817, 0.08918518518518515, 0.061629629629629624, 0.1054814814814815, 0.03733333333333337, 0.07377777777777782, 0.06814814814814814, 0.08977777777777776, 0.13066666666666665, 0.06014814814814817, 0.1748148148148148, 0.19407407407407407, 0.2340740740740742, 0.2734814814814815, 0.1137777777777778, 0.4527407407407406, 0.15940740740740736, 0.10074074074074071, 0.08888888888888892, 0.0666666666666667, 0.13925925925925928, 0.07081481481481486, 0.26074074074074083, 0.1783703703703704, 0.16177777777777777, 0.16177777777777777, 0.07644444444444445, 0.08059259259259256, 0.04859259259259258, 0.1253333333333333, 0.06814814814814814, 0.07022222222222226, 0.12029629629629626, 0.07822222222222219, 0.0862222222222222, 0.14251851851851846, 0.1176296296296297, 0.05629629629629627, 0.10666666666666666, 0.22518518518518513, 0.1466666666666667, 0.23585185185185184, 0.15555555555555564, 0.04740740740740745, 0.122962962962963, 0.15555555555555564, 0.023703703703703696, 0.11851851851851856, 0.04148148148148147, 0.09007407407407407, 0.08059259259259256, 0.09866666666666668, 0.10903703703703702, 0.0859259259259259, 0.16000000000000003, 0.14518518518518514, 0.11555555555555559, 0.18370370370370367, 0.0808888888888889, 0.16000000000000003, 0.17570370370370372, 0.13925925925925928, 0.15911111111111118, 0.14607407407407413, 0.15259259259259264, 0.07051851851851855, 0.0663703703703704, 0.08888888888888892, 0.07318518518518516, 0.14074074074074072, 0.1748148148148148, 0.09837037037037034, 0.10133333333333334, 0.10281481481481478, 0.15377777777777787, 0.11555555555555559, 0.14340740740740737, 0.031111111111111103, 0.157037037037037, 0.1511111111111112, 0.18074074074074073, 0.04711111111111113, 0.12503703703703703, 0.0322962962962963, 0.0859259259259259, 0.06370370370370375, 0.07377777777777782, 0.13125925925925927, 0.09925925925925928, 0.10518518518518515, 0.12148148148148151, 0.05244444444444449, 0.07199999999999998, 0.06518518518518517, 0.11111111111111115, 0.11407407407407408, 0.01185185185185187, 0.11970370370370371, 0.082962962962963, 0.20148148148148143, 0.11674074074074081, 0.07437037037037036, 0.06014814814814817, 0.0865185185185185, 0.1365925925925926, 0.09155555555555556, 0.09481481481481484, 0.07377777777777782, 0.03940740740740741, 0.07940740740740745, 0.09155555555555556, 0.05748148148148149, 0.18637037037037044, 0.07940740740740745, 0.06607407407407408, 0.13333333333333333, 0.05066666666666666, 0.06399999999999997, 0.18814814814814815, 0.09451851851851853, 0.12592592592592597, 0.05837037037037039, 0.08503703703703706, 0.06785185185185187, 0.08948148148148155, 0.15674074074074074, 0.0823703703703704, 0.15881481481481488, 0.09659259259259262, 0.06518518518518517, 0.10429629629629635, 0.04800000000000001, 0.03970370370370373, 0.08355555555555554, 0.10488888888888889, 0.04562962962962962, 0.18192592592592596, 0.1896296296296296, 0.18607407407407406, 0.09777777777777781, 0.07437037037037036, 0.06548148148148146, 0.07377777777777782, 0.14074074074074072, 0.33718518518518525, 0.10607407407407408, 0.09066666666666665, 0.14518518518518514, 0.11081481481481487, 0.06251851851851854, 0.07377777777777782, 0.06518518518518517, 0.03822222222222224, 0.13333333333333333, 0.11555555555555559, 0.01274074074074075, 0.1345185185185186, 0.06962962962962967, 0.03940740740740741, 0.09659259259259262, 0.05422222222222221, 0.13955555555555557, 0.06251851851851854, 0.013629629629629627, 0.09185185185185184, 0.1422222222222223, 0.07377777777777782, 0.13511111111111113, 0.1256296296296297, 0.05185185185185186, 0.12503703703703703, 0.11081481481481487, 0.11555555555555559, 0.14814814814814814, 0.09037037037037038, 0.0859259259259259, 0.06933333333333333, 0.05629629629629627, 0.14518518518518514, 0.18281481481481485, 0.10844444444444451, 0.06785185185185187, 0.1422222222222223, 0.1727407407407407, 0.1517037037037037, 0.029037037037037052, 0.07555555555555557, 0.14518518518518514, 0.165925925925926, 0.07940740740740745, 0.1137777777777778, 0.12414814814814812, 0.14518518518518514, 0.141925925925926, 0.10518518518518515, 0.09659259259259262, 0.1552592592592593, 0.1191111111111111, 0.11555555555555559, 0.14755555555555555, 0.19377777777777774, 0.04503703703703704, 0.20148148148148143, 0.13037037037037033, 0.09570370370370368, 0.0859259259259259, 0.13777777777777775, 0.08711111111111111, 0.05748148148148149, 0.07703703703703703, 0.14518518518518514, 0.05540740740740743, 0.19259259259259268, 0.024000000000000014, 0.11407407407407408, 0.09007407407407407, 0.029037037037037052, 0.13185185185185191, 0.09540740740740744, 0.05066666666666666, 0.20444444444444443, 0.03348148148148151, 0.09333333333333332, 0.15555555555555564, 0.053333333333333344, 0.04503703703703704, 0.04681481481481482, 0.014222222222222237, 0.04622222222222225, 0.141925925925926, 0.18192592592592596, 0.07614814814814813, 0.15911111111111118, 0.1961481481481481, 0.07822222222222219, 0.07140740740740738, 0.0711111111111111, 0.1114074074074074, 0.026074074074074065, 0.09866666666666668, 0.04770370370370369, 0.03644444444444448, 0.10014814814814817, 0.10488888888888889, 0.061629629629629624, 0.12118518518518517, 0.07318518518518516, 0.08533333333333336, 0.06222222222222225, 0.09481481481481484, 0.14074074074074072, 0.13748148148148145, 0.06933333333333333, 0.06014814814814817, 0.13540740740740742, 0.03259259259259262, 0.05422222222222221, 0.11555555555555559, 0.07703703703703703, 0.03585185185185188, 0.08266666666666664, 0.09659259259259262, 0.16622222222222224, 0.06370370370370375, 0.06903703703703708, 0.09659259259259262, 0.07614814814814813, 0.0420740740740741, 0.06044444444444443, 0.1191111111111111, 0.06518518518518517, 0.10074074074074071, 0.14814814814814814, 0.0868148148148148, 0.07170370370370371, 0.055111111111111104, 0.07170370370370371, 0.12829629629629627, 0.037629629629629645, 0.03644444444444448, 0.08177777777777778, 0.04740740740740745, 0.08888888888888892, 0.11940740740740742, 0.12651851851851853, 0.06577777777777781, 0.1967407407407407, 0.11940740740740742, 0.10992592592592589, 0.03437037037037036, 0.1173333333333334, 0.0859259259259259, 0.022222222222222237, 0.11940740740740742, 0.10281481481481478, 0.12770370370370368, 0.15555555555555564, 0.059851851851851844, 0.10074074074074071, 0.06222222222222225, 0.07940740740740745, 0.13599999999999998, 0.09659259259259262, 0.032, 0.1253333333333333, 0.06251851851851854, 0.07496296296296294, 0.05244444444444449, 0.04325925925925928, 0.15970370370370368, 0.1321481481481482, 0.12829629629629627, 0.11525925925925931, 0.08503703703703706, 0.05362962962962962, 0.04355555555555554, 0.09688888888888891, 0.12414814814814812, 0.14755555555555555, 0.17333333333333337, 0.00829629629629631, 0.03170370370370373, 0.15407407407407409, 0.16829629629629628, 0.09037037037037038, 0.0868148148148148, 0.1964444444444445, 0.10933333333333335, 0.06399999999999997, 0.13955555555555557, 0.141925925925926, 0.04118518518518519, 0.11555555555555559, 0.04296296296296299, 0.0882962962962963, 0.010370370370370375, 0.07437037037037036, 0.07496296296296294, 0.15822222222222226, 0.1173333333333334, 0.10222222222222219, 0.05303703703703708, 0.12799999999999997, 0.11555555555555559, 0.028148148148148165, 0.1822222222222223, 0.13925925925925928, 0.09451851851851853, 0.10281481481481478, 0.04325925925925928, 0.05807407407407406, 0.011259259259259278, 0.05155555555555558, 0.03614814814814815, 0.0823703703703704, 0.09451851851851853, 0.09422222222222226, 0.05925925925925925, 0.06903703703703708, 0.06518518518518517, 0.03525925925925927, 0.06962962962962967, 0.07348148148148145, 0.08207407407407406, 0.07940740740740745, 0.05896296296296294, 0.1626666666666667, 0.11200000000000004, 0.14162962962962966, 0.07051851851851855, 0.13511111111111113, 0.09659259259259262, 0.11525925925925931, 0.019259259259259278, 0.05866666666666667, 0.008888888888888894, 0.09600000000000002, 0.022222222222222237, 0.07437037037037036, 0.019851851851851853, 0.06459259259259259, 0.11051851851851852, 0.11407407407407408, 0.1253333333333333, 0.11259259259259256, 0.1875555555555556, 0.17807407407407402, 0.10429629629629635, 0.07170370370370371, 0.12829629629629627, 0.13392592592592592, 0.25896296296296306, 0.11674074074074081, 0.19525925925925935, 0.09007407407407407, 0.2521481481481481, 0.0882962962962963, 0.07762962962962966, 0.15407407407407409, 0.12977777777777777, 0.10607407407407408, 0.03318518518518518, 0.08503703703703706, 0.082962962962963, 0.14962962962962972, 0.09333333333333332, 0.11051851851851852, 0.08118518518518524, 0.07496296296296294, 0.10696296296296294, 0.07199999999999998, 0.08266666666666664, 0.06785185185185187, 0.16800000000000007, 0.061629629629629624, 0.061629629629629624, 0.08948148148148155, 0.10637037037037035, 0.06488888888888888, 0.07999999999999999, 0.06785185185185187, 0.10074074074074071, 0.10222222222222219, 0.08711111111111111, 0.0862222222222222, 0.13925925925925928, 0.08888888888888892, 0.10074074074074071, 0.1096296296296296, 0.1191111111111111, 0.03881481481481482, 0.24888888888888897, 0.053333333333333344, 0.06133333333333336, 0.15644444444444444, 0.055111111111111104, 0.09392592592592595, 0.15200000000000008, 0.20444444444444443, 0.19970370370370363, 0.15674074074074074, 0.08770370370370371, 0.0927407407407408, 0.07703703703703703, 0.165925925925926, 0.2619259259259259, 0.6551111111111112, 0.15229629629629637, 0.07851851851851852, 0.026370370370370377, 0.09185185185185184, 0.14518518518518514, 0.12918518518518526, 0.07170370370370371, 0.0862222222222222, 0.07525925925925925, 0.12770370370370368, 0.07911111111111112, 0.0808888888888889, 0.05777777777777777, 0.16740740740740737, 0.19259259259259268, 0.31229629629629646, 0.05925925925925925, 0.34903703703703715, 0.3312592592592593, 0.15911111111111118, 0.12355555555555563, 0.06577777777777781, 0.09925925925925928, 0.11318518518518517, 0.11555555555555559, 0.11999999999999997, 0.0808888888888889, 0.7674074074074075, 0.11555555555555559, 0.0882962962962963, 0.20177777777777775, 0.0711111111111111, 0.14548148148148157, 0.10429629629629635, 0.3982222222222222, 0.24859259259259256, 0.10992592592592589, 0.1822222222222223, 0.06222222222222225, 0.060740740740740734, 0.027851851851851878, 0.09244444444444443, 0.053333333333333344, 0.06607407407407408, 0.07881481481481482, 0.05748148148148149, 0.11318518518518517, 0.1472592592592593, 0.16000000000000003, 0.17540740740740746, 0.07999999999999999, 0.06607407407407408, 0.09481481481481484, 0.13333333333333333, 0.0868148148148148, 0.4085925925925927, 0.4171851851851851, 0.1558518518518518, 0.09481481481481484, 0.10251851851851851, 0.1128888888888889, 0.06785185185185187, 0.05244444444444449, 0.04918518518518523, 0.09185185185185184, 0.12799999999999997, 0.09481481481481484, 0.05925925925925925, 0.09570370370370368, 0.05155555555555558, 0.13185185185185191, 0.10399999999999997, 0.09096296296296301, 0.05244444444444449, 0.06459259259259259, 0.06577777777777781, 0.03940740740740741, 0.07348148148148145, 0.16000000000000003, 0.07199999999999998, 0.06488888888888888, 0.14814814814814814, 0.05362962962962962, 0.06459259259259259, 0.14637037037037043, 0.04651851851851854, 0.09155555555555556, 0.12948148148148153, 0.1143703703703704, 0.09659259259259262, 0.0859259259259259, 0.061629629629629624, 0.08799999999999998, 0.1134814814814815, 0.07348148148148145, 0.05274074074074078, 0.09303703703703708, 0.09511111111111116, 0.09451851851851853, 0.06251851851851854, 0.09214814814814815, 0.10429629629629635, 0.1703703703703704, 0.0859259259259259, 0.0808888888888889, 0.03851851851851852, 0.06014814814814817, 0.08918518518518515, 0.06577777777777781, 0.04029629629629628, 0.07377777777777782, 0.08414814814814814, 0.05629629629629627, 0.04651851851851854, 0.05925925925925925, 0.12592592592592597, 0.06903703703703708, 0.04296296296296299, 0.07022222222222226, 0.06785185185185187, 0.07377777777777782, 0.07377777777777782, 0.04503703703703704, 0.08355555555555554, 0.07585185185185188, 0.04740740740740745, 0.06222222222222225, 0.06814814814814814, 0.026666666666666665, 0.15644444444444444, 0.08888888888888892, 0.1096296296296296, 0.06962962962962967, 0.06874074074074076, 0.03674074074074077, 0.07999999999999999, 0.07081481481481486, 0.07081481481481486, 0.09214814814814815, 0.0998518518518519, 0.06874074074074076, 0.08740740740740743, 0.082962962962963, 0.0912592592592593, 0.14251851851851846, 0.1321481481481482, 0.07644444444444445, 0.10903703703703702, 0.09688888888888891, 0.09096296296296301, 0.11081481481481487, 0.07377777777777782, 0.15851851851851861, 0.06992592592592592, 0.27525925925925937, 0.11792592592592599, 0.1173333333333334, 0.2379259259259259, 0.21214814814814825, 0.06577777777777781, 0.061629629629629624, 0.05837037037037039, 0.1072592592592593, 0.06725925925925928, 0.09007407407407407, 0.2162962962962964, 0.12177777777777779, 0.08948148148148155, 0.1386666666666667, 0.15822222222222226, 0.10903703703703702, 0.09837037037037034, 0.07140740740740738, 0.0862222222222222, 0.04592592592592592, 0.1365925925925926, 0.06311111111111112, 0.09600000000000002, 0.04681481481481482, 0.07318518518518516, 0.09511111111111116, 0.061629629629629624, 0.06192592592592593, 0.05540740740740743, 0.05748148148148149, 0.07674074074074073, 0.09066666666666665, 0.05599999999999999, 0.05748148148148149, 0.059851851851851844, 0.09570370370370368, 0.04859259259259258, 0.05896296296296294, 0.08770370370370371, 0.04474074074074076, 0.030518518518518528, 0.04948148148148151, 0.04296296296296299, 0.03940740740740741, 0.08948148148148155, 0.08325925925925928, 0.1134814814814815, 0.07348148148148145, 0.11229629629629632, 0.04148148148148147, 0.10370370370370377, 0.0666666666666667, 0.06103703703703704, 0.05244444444444449, 0.12711111111111117, 0.03555555555555556, 0.05362962962962962, 0.05096296296296297, 0.07614814814814813, 0.08533333333333336, 0.10133333333333334, 0.06903703703703708, 0.05837037037037039, 0.0847407407407408, 0.06577777777777781, 0.04474074074074076, 0.06103703703703704, 0.08740740740740743, 0.04651851851851854, 0.06044444444444443, 0.10399999999999997, 0.052148148148148186, 0.04503703703703704, 0.06844444444444449, 0.05185185185185186, 0.06814814814814814, 0.0808888888888889, 0.11259259259259256, 0.04385185185185186, 0.05599999999999999, 0.09629629629629637, 0.13185185185185191, 0.019259259259259278, 0.07792592592592593, 0.1256296296296297, 0.07081481481481486, 0.026074074074074065, 0.06459259259259259, 0.07881481481481482, 0.04562962962962962, 0.06429629629629631, 0.06992592592592592, 0.0663703703703704, 0.06370370370370375, 0.05392592592592597, 0.11614814814814821, 0.06992592592592592, 0.14251851851851846, 0.05807407407407406, 0.055111111111111104, 0.04800000000000001, 0.14488888888888887, 0.03348148148148151, 0.03792592592592593, 0.06192592592592593, 0.09214814814814815, 0.04000000000000001, 0.06607407407407408, 0.09748148148148145, 0.04562962962962962, 0.021037037037037028, 0.08711111111111111, 0.026666666666666665, 0.03733333333333337, 0.09688888888888891, 0.06933333333333333, 0.07525925925925925, 0.04325925925925928, 0.08503703703703706, 0.052148148148148186, 0.017777777777777774, 0.05896296296296294, 0.11318518518518517, 0.1114074074074074, 0.1422222222222223, 0.03851851851851852, 0.05392592592592597, 0.029037037037037052, 0.06548148148148146, 0.05629629629629627, 0.07496296296296294, 0.05659259259259257, 0.09333333333333332, 0.06548148148148146, 0.05244444444444449, 0.023703703703703696, 0.059555555555555584, 0.13718518518518524, 0.05362962962962962, 0.09007407407407407, 0.32770370370370366, 0.3324444444444446, 0.07851851851851852, 0.07703703703703703, 0.06222222222222225, 0.03525925925925927, 0.24237037037037046, 0.07051851851851855, 0.14518518518518514, 0.08029629629629631, 0.378074074074074, 0.0663703703703704, 0.0823703703703704, 0.04148148148148147, 0.21155555555555566, 0.07525925925925925, 0.3920000000000002, 0.03703703703703702, 0.04592592592592592, 0.16296296296296306, 0.09777777777777781, 0.1134814814814815, 0.09659259259259262, 0.04266666666666666, 0.12622222222222224, 0.09244444444444443, 0.1677037037037037, 0.06459259259259259, 0.053333333333333344, 0.13896296296296298, 0.07881481481481482, 0.1096296296296296, 0.03348148148148151, 0.0844444444444445, 0.055111111111111104, 0.09422222222222226, 0.06399999999999997, 0.02696296296296297, 0.05896296296296294, 0.07970370370370372, 0.05629629629629627, 0.04681481481481482, 0.04859259259259258, 0.07051851851851855, 0.04296296296296299, 0.11851851851851856, 0.06459259259259259, 0.05629629629629627, 0.05688888888888891, 0.022222222222222237, 0.09007407407407407, 0.05599999999999999, 0.11407407407407408, 0.06577777777777781, 0.24444444444444444, 0.10666666666666666, 0.0405925925925926, 0.0663703703703704, 0.018370370370370384, 0.18370370370370367, 0.13066666666666665, 0.07733333333333334, 0.05837037037037039, 0.027555555555555555, 0.05925925925925925, 0.08770370370370371, 0.05925925925925925, 0.0859259259259259, 0.06311111111111112, 0.08355555555555554, 0.0497777777777778, 0.09718518518518522, 0.05777777777777777, 0.1345185185185186, 0.03703703703703702, 0.06992592592592592, 0.08177777777777778, 0.1072592592592593, 0.04296296296296299, 0.06548148148148146, 0.10251851851851851, 0.05244444444444449, 0.09422222222222226, 0.03081481481481484, 0.05066666666666666, 0.09155555555555556, 0.059851851851851844, 0.05303703703703708, 0.07051851851851855, 0.11466666666666674, 0.06962962962962967, 0.07792592592592593, 0.07822222222222219, 0.2435555555555556, 0.029925925925925943, 0.07081481481481486, 0.15496296296296294, 0.08266666666666664, 0.22014814814814818, 0.03318518518518518, 0.17540740740740746, 0.12681481481481488, 0.05096296296296297, 0.07999999999999999, 0.09600000000000002, 0.017777777777777774, 0.13392592592592592, 0.09303703703703708, 0.0663703703703704, 0.07140740740740738, 0.09718518518518522, 0.10074074074074071, 0.22370370370370377, 0.19466666666666665, 0.15407407407407409, 0.08177777777777778, 0.122962962962963, 0.06933333333333333, 0.02281481481481483, 0.04948148148148151, 0.08118518518518524, 0.06933333333333333, 0.06785185185185187, 0.05896296296296294, 0.13037037037037033, 0.16325925925925935, 0.18074074074074073, 0.18933333333333333, 0.221037037037037, 0.1905185185185186, 0.15555555555555564, 0.11111111111111115, 0.12118518518518517, 0.0859259259259259, 0.2263703703703705, 0.10429629629629635, 0.12622222222222224, 0.06192592592592593, 0.07466666666666669, 0.05748148148148149, 0.07466666666666669, 0.1517037037037037, 0.1745185185185186, 0.05925925925925925, 0.07199999999999998, 0.03437037037037036, 0.11674074074074081, 0.14340740740740737, 0.14785185185185187, 0.2791111111111111, 0.19703703703703707, 0.04800000000000001, 0.06488888888888888, 0.06103703703703704, 0.06518518518518517, 0.07348148148148145, 0.04533333333333337, 0.12414814814814812, 0.12207407407407404, 0.1253333333333333, 0.12474074074074074, 0.0844444444444445, 0.09422222222222226, 0.061629629629629624, 0.10459259259259265, 0.3321481481481482, 0.06370370370370375, 0.10103703703703706, 0.06844444444444449, 0.11466666666666674, 0.09896296296296299, 0.07377777777777782, 0.04533333333333337, 0.05037037037037039, 0.14074074074074072, 0.08118518518518524, 0.026074074074074065, 0.07940740740740745, 0.0740740740740741, 0.08503703703703706, 0.13777777777777775, 0.07792592592592593, 0.09333333333333332, 0.1727407407407407, 0.11881481481481485, 0.17362962962962966, 0.17540740740740746, 0.0844444444444445, 0.10755555555555552, 0.16948148148148154, 0.2103703703703703, 0.08562962962962962, 0.15674074074074074, 0.10903703703703702, 0.5952592592592592, 0.20977777777777784, 0.2871111111111111, 0.11081481481481487, 0.10044444444444449, 0.04237037037037038, 0.26992592592592607, 0.1134814814814815, 0.08770370370370371, 0.05896296296296294, 0.09007407407407407, 0.04622222222222225, 0.06133333333333336, 0.1345185185185186, 0.16000000000000003, 0.06133333333333336, 0.09066666666666665, 0.13955555555555557, 0.10666666666666666, 0.09422222222222226, 0.1437037037037037, 0.06903703703703708, 0.06044444444444443, 0.0711111111111111, 0.03555555555555556, 0.09392592592592595, 0.08148148148148147, 0.05185185185185186, 0.04859259259259258, 0.07970370370370372, 0.05896296296296294, 0.13748148148148145, 0.1256296296296297, 0.1398518518518519, 0.09866666666666668, 0.05451851851851854, 0.08355555555555554, 0.06785185185185187, 0.13007407407407412, 0.10844444444444451, 0.04533333333333337, 0.14814814814814814, 0.2743703703703704, 0.07881481481481482, 0.09748148148148145, 0.09866666666666668, 0.11703703703703704, 0.11674074074074081, 0.13807407407407413, 0.13007407407407412, 0.06103703703703704, 0.15970370370370368, 0.07051851851851855, 0.059555555555555584, 0.21244444444444444, 0.17125925925925925, 0.12414814814814812, 0.23822222222222214, 0.31644444444444464, 0.20148148148148143, 0.17807407407407402, 0.16711111111111115, 0.19881481481481475, 0.16918518518518513, 0.149925925925926, 0.16948148148148154, 0.06340740740740743, 0.11200000000000004, 0.1413333333333334, 0.0823703703703704, 0.1472592592592593, 0.06725925925925928, 0.08888888888888892, 0.09570370370370368, 0.1158518518518519, 0.12474074074074074, 0.09925925925925928, 0.09837037037037034, 0.17540740740740746, 0.15318518518518523, 0.11970370370370371, 0.09896296296296299, 0.12859259259259265, 0.1031111111111111, 0.12207407407407404, 0.1173333333333334, 0.122962962962963, 0.13362962962962965, 0.27674074074074084, 0.18399999999999997, 0.20918518518518514, 0.05748148148148149, 0.1822222222222223, 0.0865185185185185, 0.06874074074074076, 0.06725925925925928, 0.0711111111111111, 0.10903703703703702, 0.13125925925925927, 0.10459259259259265, 0.327111111111111, 0.10874074074074079, 0.06577777777777781, 0.12355555555555563, 0.1016296296296296, 0.1745185185185186, 0.12651851851851853, 0.05185185185185186, 0.06014814814814817, 0.10488888888888889, 0.09185185185185184, 0.2100740740740742, 0.06577777777777781, 0.0711111111111111, 0.12029629629629626, 0.12207407407407404, 0.05718518518518521, 0.2734814814814815, 0.09837037037037034, 0.07051851851851855, 0.1031111111111111, 0.07288888888888889, 0.13392592592592592, 0.07318518518518516, 0.2047407407407407, 0.18992592592592594, 0.05807407407407406, 0.10844444444444451, 0.07614814814814813, 0.21511111111111114, 0.07525925925925925, 0.14607407407407413, 0.12770370370370368, 0.05718518518518521, 0.07792592592592593, 0.05362962962962962, 0.10192592592592599, 0.09481481481481484, 0.05599999999999999, 0.1783703703703704, 0.11111111111111115, 0.1096296296296296, 0.060740740740740734, 0.08029629629629631, 0.09155555555555556, 0.16355555555555557, 0.07525925925925925, 0.0823703703703704, 0.16148148148148156, 0.1845925925925926, 0.10133333333333334, 0.07170370370370371, 0.08562962962962962, 0.06577777777777781, 0.09925925925925928, 0.310814814814815, 0.2684444444444444, 0.11111111111111115, 0.17688888888888882, 0.10222222222222219, 0.133037037037037, 0.21066666666666664, 0.32325925925925936, 0.10103703703703706, 0.06251851851851854, 0.1620740740740741, 0.1096296296296296, 0.10488888888888889, 0.157037037037037, 0.1016296296296296, 0.11851851851851856, 0.09511111111111116, 0.09037037037037038, 0.07911111111111112, 0.0666666666666667, 0.06103703703703704, 0.0998518518518519, 0.0927407407407408, 0.08029629629629631, 0.37037037037037035, 0.1994074074074074, 0.07703703703703703, 0.264, 0.09007407407407407, 0.09570370370370368, 0.05422222222222221, 0.09600000000000002, 0.06251851851851854, 0.14548148148148157, 0.04681481481481482, 0.24711111111111103, 0.12711111111111117, 0.13481481481481486, 0.10192592592592599, 0.0663703703703704, 0.1484444444444444, 0.09066666666666665, 0.1357037037037037, 0.141925925925926, 0.10192592592592599, 0.06103703703703704, 0.16000000000000003, 0.08562962962962962, 0.07466666666666669, 0.07614814814814813, 0.1472592592592593, 0.23111111111111116, 0.11496296296296295, 0.0882962962962963, 0.19496296296296295, 0.16355555555555557, 0.05570370370370375, 0.12237037037037034, 0.2062222222222223, 0.04266666666666666, 0.1511111111111112, 0.10874074074074079, 0.21066666666666664, 0.16740740740740737, 0.13096296296296292, 0.0912592592592593, 0.08918518518518515, 0.16888888888888895, 0.09896296296296299, 0.1887407407407408, 0.08503703703703706, 0.1472592592592593, 0.10696296296296294, 0.07259259259259263, 0.18370370370370367, 0.1253333333333333, 0.1386666666666667, 0.06903703703703708, 0.06311111111111112, 0.1143703703703704, 0.10755555555555552, 0.10874074074074079, 0.09096296296296301, 0.11999999999999997, 0.1748148148148148, 0.08799999999999998, 0.1517037037037037, 0.07199999999999998, 0.08325925925925928, 0.141925925925926, 0.0711111111111111, 0.05422222222222221, 0.15081481481481485, 0.14162962962962966, 0.09333333333333332, 0.23555555555555552, 0.13481481481481486, 0.1134814814814815, 0.07703703703703703, 0.1143703703703704, 0.05599999999999999, 0.07940740740740745, 0.07762962962962966, 0.0663703703703704, 0.06785185185185187, 0.07259259259259263, 0.053333333333333344, 0.05748148148148149, 0.14400000000000004, 0.05599999999999999, 0.07288888888888889, 0.08414814814814814, 0.08177777777777778, 0.08503703703703706, 0.1677037037037037, 0.11822222222222226, 0.09748148148148145, 0.08029629629629631, 0.060740740740740734, 0.04177777777777778, 0.11999999999999997, 0.07348148148148145, 0.11111111111111115, 0.173925925925926, 0.23437037037037048, 0.10903703703703702, 0.4441481481481483, 0.11051851851851852, 0.08711111111111111, 0.40266666666666673, 0.10844444444444451, 0.08740740740740743, 0.1644444444444444, 0.16029629629629633, 0.5475555555555555, 0.25274074074074065, 0.06755555555555558, 0.14281481481481487, 0.20444444444444443, 0.3528888888888891, 0.07466666666666669, 0.08385185185185182, 0.1054814814814815, 0.06548148148148146, 0.15792592592592603, 0.16296296296296306, 0.1158518518518519, 0.2672592592592593, 0.08029629629629631, 0.08266666666666664, 0.40474074074074085, 0.14162962962962966, 0.08385185185185182, 0.20118518518518513, 0.04325925925925928, 0.08355555555555554, 0.05777777777777777, 0.17985185185185182, 0.08888888888888892, 0.18607407407407406, 0.0865185185185185, 0.0868148148148148, 0.09837037037037034, 0.12148148148148151, 0.12740740740740739, 0.09155555555555556, 0.14340740740740737, 0.17125925925925925, 0.12503703703703703, 0.06696296296296296, 0.16829629629629628, 0.08859259259259257, 0.0865185185185185, 0.04355555555555554, 0.12651851851851853, 0.14488888888888887, 0.09540740740740744, 0.1016296296296296, 0.12681481481481488, 0.08414814814814814, 0.1404444444444445, 0.07140740740740738, 0.21155555555555566, 0.16118518518518524, 0.1442962962962963, 0.1191111111111111, 0.07733333333333334, 0.05629629629629627, 0.10488888888888889, 0.12059259259259263, 0.1137777777777778, 0.1137777777777778, 0.1466666666666667, 0.10103703703703706, 0.11081481481481487, 0.060740740740740734, 0.07466666666666669, 0.12325925925925933, 0.08029629629629631, 0.16000000000000003, 0.07170370370370371, 0.12414814814814812, 0.0882962962962963, 0.25629629629629624, 0.09718518518518522, 0.07525925925925925, 0.08414814814814814, 0.0740740740740741, 0.11970370370370371, 0.0711111111111111, 0.10281481481481478, 0.7389629629629632, 0.1143703703703704, 0.19022222222222218, 0.0927407407407408, 0.14874074074074073, 0.09600000000000002, 0.09600000000000002, 0.14548148148148157, 0.11407407407407408, 0.0823703703703704, 0.1466666666666667, 0.15259259259259264, 0.12474074074074074, 0.10785185185185187, 0.06103703703703704, 0.07762962962962966, 0.0859259259259259, 0.08266666666666664, 0.10340740740740748, 0.06340740740740743, 0.13511111111111113, 0.10755555555555552, 0.05866666666666667, 0.0882962962962963, 0.08740740740740743, 0.082962962962963, 0.09837037037037034, 0.11792592592592599, 0.11318518518518517, 0.0862222222222222, 0.10518518518518515, 0.10755555555555552, 0.06340740740740743, 0.05570370370370375, 0.05688888888888891, 0.12414814814814812, 0.09837037037037034, 0.12118518518518517, 0.1647407407407407, 0.11614814814814821, 0.14548148148148157, 0.21185185185185196, 0.18281481481481485, 0.141925925925926, 0.14340740740740737, 0.09896296296296299, 0.09896296296296299, 0.05807407407407406, 0.08977777777777776, 0.05481481481481486, 0.20385185185185198, 0.14637037037037043, 0.13362962962962965, 0.07703703703703703, 0.12503703703703703, 0.06014814814814817, 0.0882962962962963, 0.08918518518518515, 0.07022222222222226, 0.10577777777777779, 0.10459259259259265, 0.082962962962963, 0.21688888888888896, 0.0862222222222222, 0.10014814814814817, 0.13599999999999998, 0.17748148148148152, 0.17303703703703713, 0.07555555555555557, 0.08385185185185182, 0.1128888888888889, 0.1783703703703704, 0.20740740740740746, 0.2927407407407408, 0.22162962962962957, 0.09925925925925928, 0.1158518518518519, 0.15288888888888894, 0.38814814814814835, 0.19022222222222218, 0.20948148148148146, 0.08207407407407406, 0.21244444444444444, 0.13807407407407413, 0.11525925925925931, 0.05481481481481486, 0.0998518518518519, 0.1362962962962963, 0.1176296296296297, 0.1072592592592593, 0.21096296296296305, 0.09688888888888891, 0.14577777777777773, 0.22162962962962957, 0.07674074074074073, 0.14607407407407413, 0.19911111111111107, 0.09570370370370368, 0.245037037037037, 0.08118518518518524, 0.15970370370370368, 0.10488888888888889, 0.16148148148148156, 0.1365925925925926, 0.22340740740740736, 0.17777777777777776, 0.11703703703703704, 0.1362962962962963, 0.16000000000000003, 0.059555555555555584, 0.24414814814814814, 0.24888888888888897, 0.20948148148148146, 0.08325925925925928, 0.09718518518518522, 0.1703703703703704, 0.06577777777777781, 0.08207407407407406, 0.10903703703703702, 0.22755555555555554, 0.0868148148148148, 0.1647407407407407, 0.23940740740740754, 0.11496296296296295, 0.10340740740740748, 0.1176296296296297, 0.09451851851851853, 0.10903703703703702, 0.07644444444444445, 0.12681481481481488, 0.17925925925925928, 0.12237037037037034, 0.16355555555555557, 0.10281481481481478, 0.10281481481481478, 0.13925925925925928, 0.0847407407407408, 0.15200000000000008, 0.19377777777777774, 0.15644444444444444, 0.19229629629629633, 0.10399999999999997, 0.07437037037037036, 0.2696296296296297, 0.22162962962962957, 0.280888888888889, 0.12148148148148151, 0.3961481481481482, 0.11792592592592599, 0.09392592592592595, 0.18074074074074073, 0.20148148148148143, 0.1114074074074074, 0.146962962962963, 0.10399999999999997, 0.24474074074074081, 0.3685925925925927, 0.2823703703703704, 0.10607407407407408, 0.09688888888888891, 0.07525925925925925, 0.3143703703703704, 0.04918518518518523, 0.06874074074074076, 0.10577777777777779, 0.0927407407407408, 0.3448888888888889, 0.12148148148148151, 0.0711111111111111, 0.04681481481481482, 0.05096296296296297, 0.07585185185185188, 0.15229629629629637, 0.1650370370370371, 0.06133333333333336, 0.07851851851851852, 0.2805925925925927, 0.09659259259259262, 0.3368888888888888, 0.11259259259259256, 0.15200000000000008, 0.10103703703703706, 0.20592592592592598, 0.24918518518518515, 0.15318518518518523, 0.21659259259259273, 0.2746666666666668, 0.2127407407407407, 0.20088888888888892, 0.16088888888888897, 0.1745185185185186, 0.06429629629629631, 0.13748148148148145, 0.16296296296296306, 0.11466666666666674, 0.08948148148148155, 0.1771851851851852, 0.28977777777777775, 0.1558518518518518, 0.1404444444444445, 0.1173333333333334, 0.08148148148148147, 0.14251851851851846, 0.15674074074074074, 0.08859259259259257, 0.08148148148148147, 0.09777777777777781, 0.1253333333333333, 0.2414814814814814, 0.15081481481481485, 0.11851851851851856, 0.09451851851851853, 0.2056296296296297, 0.05451851851851854, 0.13125925925925927, 0.11881481481481485, 0.192, 0.11999999999999997, 0.21599999999999991, 0.18844444444444453, 0.28266666666666684, 0.2574814814814814, 0.09777777777777781, 0.07377777777777782, 0.05659259259259257, 0.11407407407407408, 0.22548148148148142, 0.09540740740740744, 0.09185185185185184, 0.2903703703703704, 0.22162962962962957, 0.07555555555555557, 0.14488888888888887, 0.09955555555555556, 0.18399999999999997, 0.13481481481481486, 0.22992592592592598, 0.06874074074074076, 0.1176296296296297, 0.25659259259259265, 0.059555555555555584, 0.11614814814814821, 0.12059259259259263, 0.14162962962962966, 0.05748148148148149, 0.10251851851851851, 0.35081481481481486, 0.14785185185185187, 0.11525925925925931, 0.25422222222222235, 0.15081481481481485, 0.2281481481481481, 0.13511111111111113, 0.15259259259259264, 0.0865185185185185, 0.07229629629629632, 0.07881481481481482, 0.07999999999999999, 0.061629629629629624, 0.08918518518518515, 0.14874074074074073, 0.1644444444444444, 0.24177777777777787, 0.09659259259259262, 0.08533333333333336, 0.22192592592592586, 0.13955555555555557, 0.1256296296296297, 0.11318518518518517, 0.0912592592592593, 0.1605925925925926, 0.0844444444444445, 0.1872592592592592, 0.08355555555555554, 0.15229629629629637, 0.10281481481481478, 0.07288888888888889, 0.2637037037037038, 0.1810370370370371, 0.06459259259259259, 0.0666666666666667, 0.15466666666666676, 0.2696296296296297, 0.06933333333333333, 0.08385185185185182, 0.17688888888888882, 0.05185185185185186, 0.3093333333333333, 0.22311111111111104, 0.09007407407407407, 0.21837037037037044, 0.0844444444444445, 0.05540740740740743, 0.2287407407407408, 0.1413333333333334, 0.12770370370370368, 0.07081481481481486, 0.1345185185185186, 0.1431111111111111, 0.09925925925925928, 0.0663703703703704, 0.10814814814814822, 0.11999999999999997, 0.15792592592592603, 0.1114074074074074, 0.36414814814814805, 0.07585185185185188, 0.19999999999999998, 0.31111111111111117, 0.3022222222222224, 0.09244444444444443, 0.35496296296296287, 0.10103703703703706, 0.36029629629629634, 0.23288888888888884, 0.27496296296296313, 0.08977777777777776, 0.07051851851851855, 0.1573333333333334, 0.11674074074074081, 0.07733333333333334, 0.09451851851851853, 0.141925925925926, 0.133037037037037, 0.13481481481481486, 0.12740740740740739, 0.10755555555555552, 0.09185185185185184, 0.1357037037037037, 0.10222222222222219, 0.15318518518518523, 0.07881481481481482, 0.19377777777777774, 0.0847407407407408, 0.2195555555555557, 0.1253333333333333, 0.14548148148148157, 0.2077037037037038, 0.06281481481481485, 0.4204444444444445, 0.2637037037037038, 0.3837037037037039, 0.09629629629629637, 0.0927407407407408, 0.16948148148148154, 0.3854814814814815, 0.391111111111111, 0.45096296296296284, 0.26429629629629625, 0.23674074074074067, 0.10340740740740748, 0.08799999999999998, 0.07051851851851855, 0.20888888888888893, 0.19822222222222227, 0.1973333333333333, 0.1647407407407407, 0.1173333333333334, 0.2136296296296297, 0.05777777777777777, 0.18488888888888885, 0.07585185185185188, 0.14874074074074073, 0.16888888888888895, 0.07822222222222219, 0.2100740740740742, 0.16859259259259268, 0.14577777777777773, 0.19288888888888886, 0.12977777777777777, 0.1357037037037037, 0.08770370370370371, 0.2287407407407408, 0.05866666666666667, 0.09096296296296301, 0.13955555555555557, 0.28977777777777775, 0.09866666666666668, 0.1437037037037037, 0.2856296296296297, 0.06014814814814817, 0.059555555555555584, 0.09925925925925928, 0.122962962962963, 0.05599999999999999, 0.122962962962963, 0.09807407407407409, 0.25896296296296306, 0.25244444444444436, 0.09007407407407407, 0.15851851851851861, 0.08148148148148147, 0.21214814814814825, 0.24681481481481474, 0.18518518518518529, 0.08414814814814814, 0.0882962962962963, 0.14814814814814814, 0.055111111111111104, 0.15288888888888894, 0.14281481481481487, 0.18340740740740746, 0.09688888888888891, 0.08533333333333336, 0.09451851851851853, 0.10607407407407408, 0.22429629629629635, 0.07140740740740738, 0.1917037037037038, 0.1771851851851852, 0.16740740740740737, 0.1552592592592593, 0.17096296296296296, 0.20948148148148146, 0.37125925925925923, 0.30103703703703716, 0.2162962962962964, 0.0808888888888889, 0.15911111111111118, 0.24237037037037046, 0.2293333333333334, 0.06014814814814817, 0.15200000000000008, 0.09748148148148145, 0.13925925925925928, 0.12977777777777777, 0.06903703703703708, 0.05896296296296294, 0.1191111111111111, 0.12266666666666673, 0.11022222222222229, 0.10637037037037035, 0.0912592592592593, 0.05718518518518521, 0.1114074074074074, 0.2162962962962964, 0.20977777777777784, 0.12444444444444445, 0.38874074074074066, 0.13718518518518524, 0.08977777777777776, 0.08562962962962962, 0.32237037037037025, 0.24296296296296294, 0.21155555555555566, 0.05807407407407406, 0.3226666666666667, 0.26340740740740753, 0.17362962962962966, 0.10755555555555552, 0.3063703703703704, 0.3762962962962964, 0.2912592592592594, 0.17096296296296296, 0.17333333333333337, 0.12799999999999997, 0.10074074074074071, 0.3567407407407409]\n"
          ]
        }
      ]
    },
    {
      "cell_type": "code",
      "source": [
        "from pandas.compat import numpy\n",
        "fValue = []\n",
        "ValR = []\n",
        "\n",
        "import numpy \n",
        "\n",
        "for a in intenseFinal_value:\n",
        "    for b in final_vector:\n",
        "        fValue.append([a,b])\n",
        "        ValR.append(a+b)\n",
        "print(len(ValR))"
      ],
      "metadata": {
        "colab": {
          "base_uri": "https://localhost:8080/"
        },
        "id": "F7MwQigt4Ycg",
        "outputId": "5812cfb9-0dc1-4bb0-ebfe-8d980880d045"
      },
      "execution_count": null,
      "outputs": [
        {
          "output_type": "stream",
          "name": "stdout",
          "text": [
            "14462809\n"
          ]
        }
      ]
    },
    {
      "cell_type": "code",
      "source": [
        "results = []\n",
        "\n",
        "for i in ValR:\n",
        "    if i > 0.8:\n",
        "       results.append(1)\n",
        "    else:\n",
        "       results.append(0)"
      ],
      "metadata": {
        "id": "An-2_RQ_CBsH"
      },
      "execution_count": null,
      "outputs": []
    },
    {
      "cell_type": "code",
      "source": [
        "import numpy as np\n",
        "from sklearn.preprocessing import MaxAbsScaler"
      ],
      "metadata": {
        "id": "KqnCfSo0X9FC"
      },
      "execution_count": null,
      "outputs": []
    },
    {
      "cell_type": "code",
      "source": [
        "transformer = MaxAbsScaler().fit(fValue)\n",
        "deffVec = []\n",
        "deffVec = transformer.transform(fValue)"
      ],
      "metadata": {
        "id": "L6BWCHGrUjxW"
      },
      "execution_count": null,
      "outputs": []
    },
    {
      "cell_type": "code",
      "source": [
        "print(deffVec)\n",
        "print(len(deffVec))"
      ],
      "metadata": {
        "colab": {
          "base_uri": "https://localhost:8080/"
        },
        "id": "Ly0uzFYLaqq5",
        "outputId": "2a5a80be-c754-4ddf-c42b-e4ecfde32303"
      },
      "execution_count": null,
      "outputs": [
        {
          "output_type": "stream",
          "name": "stdout",
          "text": [
            "[[0.25       0.13037037]\n",
            " [0.25       0.15111111]\n",
            " [0.25       0.16740741]\n",
            " ...\n",
            " [0.5        0.128     ]\n",
            " [0.5        0.10074074]\n",
            " [0.5        0.35674074]]\n",
            "14462809\n"
          ]
        }
      ]
    },
    {
      "cell_type": "code",
      "source": [
        "from sklearn.naive_bayes import GaussianNB\n",
        "\n",
        "# Inicializar nosso classificador\n",
        "gnb = GaussianNB()\n",
        "\n",
        "\n",
        "# Treinar nosso classificador\n",
        "model = gnb.fit(deffVec, results)"
      ],
      "metadata": {
        "id": "0wTKy4rNORjO"
      },
      "execution_count": null,
      "outputs": []
    },
    {
      "cell_type": "code",
      "source": [
        "# Fazer previsões\n",
        "\n",
        "preds = gnb.predict(deffVec)\n",
        "print(preds)"
      ],
      "metadata": {
        "id": "Rt9JQlGJ0oXe",
        "colab": {
          "base_uri": "https://localhost:8080/"
        },
        "outputId": "dd15b6fa-9bf9-457d-fc85-e18a8d1ee3b3"
      },
      "execution_count": null,
      "outputs": [
        {
          "output_type": "stream",
          "name": "stdout",
          "text": [
            "[0 0 0 ... 0 0 1]\n"
          ]
        }
      ]
    },
    {
      "cell_type": "code",
      "source": [
        "from sklearn.metrics import accuracy_score\n",
        "\n",
        "# Avaliar a precisão\n",
        "print(accuracy_score(results, preds))"
      ],
      "metadata": {
        "id": "3zLd_yww_vwQ",
        "colab": {
          "base_uri": "https://localhost:8080/"
        },
        "outputId": "78658e95-38e7-4ad1-a8ee-eb410ae8082b"
      },
      "execution_count": null,
      "outputs": [
        {
          "output_type": "stream",
          "name": "stdout",
          "text": [
            "0.9926882806790852\n"
          ]
        }
      ]
    },
    {
      "cell_type": "code",
      "source": [
        "#dfAN.speed,dfAN.halfAngle,dfAN.type\n",
        "\n",
        "#principais dados carregados em qualquer um dos três vetores anteriores\n",
        "\n",
        "#from sklearn.naive_bayes import GaussianNB\n",
        "#>>> clf = GaussianNB()\n",
        "#>>> clf.fit(X, Y)\n",
        "#GaussianNB()\n",
        "#>>> print(clf.predict([[-0.8, -1]]))"
      ],
      "metadata": {
        "id": "cO-aju8m_vlj"
      },
      "execution_count": null,
      "outputs": []
    },
    {
      "cell_type": "code",
      "source": [
        "!pip install mysql.connector\n",
        "!pip install mysql"
      ],
      "metadata": {
        "id": "r9Fks-QsqOzz",
        "colab": {
          "base_uri": "https://localhost:8080/"
        },
        "outputId": "77df40ac-e0b6-4941-da30-11f4302d3d38"
      },
      "execution_count": null,
      "outputs": [
        {
          "output_type": "stream",
          "name": "stdout",
          "text": [
            "Looking in indexes: https://pypi.org/simple, https://us-python.pkg.dev/colab-wheels/public/simple/\n",
            "Requirement already satisfied: mysql.connector in /usr/local/lib/python3.7/dist-packages (2.2.9)\n",
            "Looking in indexes: https://pypi.org/simple, https://us-python.pkg.dev/colab-wheels/public/simple/\n",
            "Requirement already satisfied: mysql in /usr/local/lib/python3.7/dist-packages (0.0.3)\n",
            "Requirement already satisfied: mysqlclient in /usr/local/lib/python3.7/dist-packages (from mysql) (2.1.1)\n"
          ]
        }
      ]
    },
    {
      "cell_type": "code",
      "source": [
        "import mysql.connector \n",
        "from mysql.connector import Error\n",
        "import numpy as np\n",
        "import re"
      ],
      "metadata": {
        "id": "Mbl3AdvUxC2r"
      },
      "execution_count": null,
      "outputs": []
    },
    {
      "cell_type": "code",
      "source": [
        "try:\n",
        "    db_connection = mysql.connector.connect(host='localhost', user='root', password='', database='nasa2')\n",
        "    print(\"\\nDatabase connection made.\\n\")\n",
        "    cursor = db_connection.cursor()\n",
        "    sql = (\"SELECT * from all\")\n",
        "    cursor.execute(sql)\n",
        "    linhas= cursor.fetchall()\n",
        "\n",
        "except mysql.connector.Error as error:\n",
        "    if error.errno == errorcode.ER_BAD_DB_ERROR:\n",
        "        print(\"Database doesn't exist\")\n",
        "    elif error.errno == errorcode.ER_ACCESS_DENIED_ERROR:\n",
        "        print(\"User name or password is wrong\")\n",
        "    else:\n",
        "        print(error)\n",
        "else:\n",
        "    db_connection.close()"
      ],
      "metadata": {
        "colab": {
          "base_uri": "https://localhost:8080/",
          "height": 542
        },
        "id": "mirMytOVwhcY",
        "outputId": "5bcc6bdf-b107-4f3b-aed9-b41b546f0e03"
      },
      "execution_count": null,
      "outputs": [
        {
          "output_type": "error",
          "ename": "NameError",
          "evalue": "ignored",
          "traceback": [
            "\u001b[0;31m---------------------------------------------------------------------------\u001b[0m",
            "\u001b[0;31mConnectionRefusedError\u001b[0m                    Traceback (most recent call last)",
            "\u001b[0;32m/usr/local/lib/python3.7/dist-packages/mysql/connector/network.py\u001b[0m in \u001b[0;36mopen_connection\u001b[0;34m(self)\u001b[0m\n\u001b[1;32m    508\u001b[0m             \u001b[0mself\u001b[0m\u001b[0;34m.\u001b[0m\u001b[0msock\u001b[0m\u001b[0;34m.\u001b[0m\u001b[0msettimeout\u001b[0m\u001b[0;34m(\u001b[0m\u001b[0mself\u001b[0m\u001b[0;34m.\u001b[0m\u001b[0m_connection_timeout\u001b[0m\u001b[0;34m)\u001b[0m\u001b[0;34m\u001b[0m\u001b[0;34m\u001b[0m\u001b[0m\n\u001b[0;32m--> 509\u001b[0;31m             \u001b[0mself\u001b[0m\u001b[0;34m.\u001b[0m\u001b[0msock\u001b[0m\u001b[0;34m.\u001b[0m\u001b[0mconnect\u001b[0m\u001b[0;34m(\u001b[0m\u001b[0msockaddr\u001b[0m\u001b[0;34m)\u001b[0m\u001b[0;34m\u001b[0m\u001b[0;34m\u001b[0m\u001b[0m\n\u001b[0m\u001b[1;32m    510\u001b[0m         \u001b[0;32mexcept\u001b[0m \u001b[0mIOError\u001b[0m \u001b[0;32mas\u001b[0m \u001b[0merr\u001b[0m\u001b[0;34m:\u001b[0m\u001b[0;34m\u001b[0m\u001b[0;34m\u001b[0m\u001b[0m\n",
            "\u001b[0;31mConnectionRefusedError\u001b[0m: [Errno 111] Connection refused",
            "\nDuring handling of the above exception, another exception occurred:\n",
            "\u001b[0;31mInterfaceError\u001b[0m                            Traceback (most recent call last)",
            "\u001b[0;32m<ipython-input-14-db30b01ac208>\u001b[0m in \u001b[0;36m<module>\u001b[0;34m\u001b[0m\n\u001b[1;32m      1\u001b[0m \u001b[0;32mtry\u001b[0m\u001b[0;34m:\u001b[0m\u001b[0;34m\u001b[0m\u001b[0;34m\u001b[0m\u001b[0m\n\u001b[0;32m----> 2\u001b[0;31m         \u001b[0mdb_connection\u001b[0m \u001b[0;34m=\u001b[0m \u001b[0mmysql\u001b[0m\u001b[0;34m.\u001b[0m\u001b[0mconnector\u001b[0m\u001b[0;34m.\u001b[0m\u001b[0mconnect\u001b[0m\u001b[0;34m(\u001b[0m\u001b[0mhost\u001b[0m\u001b[0;34m=\u001b[0m\u001b[0;34m'localhost'\u001b[0m\u001b[0;34m,\u001b[0m \u001b[0muser\u001b[0m\u001b[0;34m=\u001b[0m\u001b[0;34m'root'\u001b[0m\u001b[0;34m,\u001b[0m \u001b[0mpassword\u001b[0m\u001b[0;34m=\u001b[0m\u001b[0;34m''\u001b[0m\u001b[0;34m,\u001b[0m \u001b[0mdatabase\u001b[0m\u001b[0;34m=\u001b[0m\u001b[0;34m'nasa2'\u001b[0m\u001b[0;34m)\u001b[0m\u001b[0;34m\u001b[0m\u001b[0;34m\u001b[0m\u001b[0m\n\u001b[0m\u001b[1;32m      3\u001b[0m         \u001b[0mprint\u001b[0m\u001b[0;34m(\u001b[0m\u001b[0;34m\"\\nDatabase connection made.\\n\"\u001b[0m\u001b[0;34m)\u001b[0m\u001b[0;34m\u001b[0m\u001b[0;34m\u001b[0m\u001b[0m\n",
            "\u001b[0;32m/usr/local/lib/python3.7/dist-packages/mysql/connector/__init__.py\u001b[0m in \u001b[0;36mconnect\u001b[0;34m(*args, **kwargs)\u001b[0m\n\u001b[1;32m    178\u001b[0m     \u001b[0;32melse\u001b[0m\u001b[0;34m:\u001b[0m\u001b[0;34m\u001b[0m\u001b[0;34m\u001b[0m\u001b[0m\n\u001b[0;32m--> 179\u001b[0;31m         \u001b[0;32mreturn\u001b[0m \u001b[0mMySQLConnection\u001b[0m\u001b[0;34m(\u001b[0m\u001b[0;34m*\u001b[0m\u001b[0margs\u001b[0m\u001b[0;34m,\u001b[0m \u001b[0;34m**\u001b[0m\u001b[0mkwargs\u001b[0m\u001b[0;34m)\u001b[0m\u001b[0;34m\u001b[0m\u001b[0;34m\u001b[0m\u001b[0m\n\u001b[0m\u001b[1;32m    180\u001b[0m \u001b[0mConnect\u001b[0m \u001b[0;34m=\u001b[0m \u001b[0mconnect\u001b[0m  \u001b[0;31m# pylint: disable=C0103\u001b[0m\u001b[0;34m\u001b[0m\u001b[0;34m\u001b[0m\u001b[0m\n",
            "\u001b[0;32m/usr/local/lib/python3.7/dist-packages/mysql/connector/connection.py\u001b[0m in \u001b[0;36m__init__\u001b[0;34m(self, *args, **kwargs)\u001b[0m\n\u001b[1;32m     94\u001b[0m         \u001b[0;32mif\u001b[0m \u001b[0mlen\u001b[0m\u001b[0;34m(\u001b[0m\u001b[0mkwargs\u001b[0m\u001b[0;34m)\u001b[0m \u001b[0;34m>\u001b[0m \u001b[0;36m0\u001b[0m\u001b[0;34m:\u001b[0m\u001b[0;34m\u001b[0m\u001b[0;34m\u001b[0m\u001b[0m\n\u001b[0;32m---> 95\u001b[0;31m             \u001b[0mself\u001b[0m\u001b[0;34m.\u001b[0m\u001b[0mconnect\u001b[0m\u001b[0;34m(\u001b[0m\u001b[0;34m**\u001b[0m\u001b[0mkwargs\u001b[0m\u001b[0;34m)\u001b[0m\u001b[0;34m\u001b[0m\u001b[0;34m\u001b[0m\u001b[0m\n\u001b[0m\u001b[1;32m     96\u001b[0m \u001b[0;34m\u001b[0m\u001b[0m\n",
            "\u001b[0;32m/usr/local/lib/python3.7/dist-packages/mysql/connector/abstracts.py\u001b[0m in \u001b[0;36mconnect\u001b[0;34m(self, **kwargs)\u001b[0m\n\u001b[1;32m    715\u001b[0m         \u001b[0mself\u001b[0m\u001b[0;34m.\u001b[0m\u001b[0mdisconnect\u001b[0m\u001b[0;34m(\u001b[0m\u001b[0;34m)\u001b[0m\u001b[0;34m\u001b[0m\u001b[0;34m\u001b[0m\u001b[0m\n\u001b[0;32m--> 716\u001b[0;31m         \u001b[0mself\u001b[0m\u001b[0;34m.\u001b[0m\u001b[0m_open_connection\u001b[0m\u001b[0;34m(\u001b[0m\u001b[0;34m)\u001b[0m\u001b[0;34m\u001b[0m\u001b[0;34m\u001b[0m\u001b[0m\n\u001b[0m\u001b[1;32m    717\u001b[0m         \u001b[0mself\u001b[0m\u001b[0;34m.\u001b[0m\u001b[0m_post_connection\u001b[0m\u001b[0;34m(\u001b[0m\u001b[0;34m)\u001b[0m\u001b[0;34m\u001b[0m\u001b[0;34m\u001b[0m\u001b[0m\n",
            "\u001b[0;32m/usr/local/lib/python3.7/dist-packages/mysql/connector/connection.py\u001b[0m in \u001b[0;36m_open_connection\u001b[0;34m(self)\u001b[0m\n\u001b[1;32m    205\u001b[0m         \u001b[0mself\u001b[0m\u001b[0;34m.\u001b[0m\u001b[0m_socket\u001b[0m \u001b[0;34m=\u001b[0m \u001b[0mself\u001b[0m\u001b[0;34m.\u001b[0m\u001b[0m_get_connection\u001b[0m\u001b[0;34m(\u001b[0m\u001b[0;34m)\u001b[0m\u001b[0;34m\u001b[0m\u001b[0;34m\u001b[0m\u001b[0m\n\u001b[0;32m--> 206\u001b[0;31m         \u001b[0mself\u001b[0m\u001b[0;34m.\u001b[0m\u001b[0m_socket\u001b[0m\u001b[0;34m.\u001b[0m\u001b[0mopen_connection\u001b[0m\u001b[0;34m(\u001b[0m\u001b[0;34m)\u001b[0m\u001b[0;34m\u001b[0m\u001b[0;34m\u001b[0m\u001b[0m\n\u001b[0m\u001b[1;32m    207\u001b[0m         \u001b[0mself\u001b[0m\u001b[0;34m.\u001b[0m\u001b[0m_do_handshake\u001b[0m\u001b[0;34m(\u001b[0m\u001b[0;34m)\u001b[0m\u001b[0;34m\u001b[0m\u001b[0;34m\u001b[0m\u001b[0m\n",
            "\u001b[0;32m/usr/local/lib/python3.7/dist-packages/mysql/connector/network.py\u001b[0m in \u001b[0;36mopen_connection\u001b[0;34m(self)\u001b[0m\n\u001b[1;32m    511\u001b[0m             raise errors.InterfaceError(\n\u001b[0;32m--> 512\u001b[0;31m                 errno=2003, values=(self.get_address(), _strioerror(err)))\n\u001b[0m\u001b[1;32m    513\u001b[0m         \u001b[0;32mexcept\u001b[0m \u001b[0mException\u001b[0m \u001b[0;32mas\u001b[0m \u001b[0merr\u001b[0m\u001b[0;34m:\u001b[0m\u001b[0;34m\u001b[0m\u001b[0;34m\u001b[0m\u001b[0m\n",
            "\u001b[0;31mInterfaceError\u001b[0m: 2003: Can't connect to MySQL server on 'localhost:3306' (111 Connection refused)",
            "\nDuring handling of the above exception, another exception occurred:\n",
            "\u001b[0;31mNameError\u001b[0m                                 Traceback (most recent call last)",
            "\u001b[0;32m<ipython-input-14-db30b01ac208>\u001b[0m in \u001b[0;36m<module>\u001b[0;34m\u001b[0m\n\u001b[1;32m      8\u001b[0m \u001b[0;34m\u001b[0m\u001b[0m\n\u001b[1;32m      9\u001b[0m \u001b[0;32mexcept\u001b[0m \u001b[0mmysql\u001b[0m\u001b[0;34m.\u001b[0m\u001b[0mconnector\u001b[0m\u001b[0;34m.\u001b[0m\u001b[0mError\u001b[0m \u001b[0;32mas\u001b[0m \u001b[0merror\u001b[0m\u001b[0;34m:\u001b[0m\u001b[0;34m\u001b[0m\u001b[0;34m\u001b[0m\u001b[0m\n\u001b[0;32m---> 10\u001b[0;31m         \u001b[0;32mif\u001b[0m \u001b[0merror\u001b[0m\u001b[0;34m.\u001b[0m\u001b[0merrno\u001b[0m \u001b[0;34m==\u001b[0m \u001b[0merrorcode\u001b[0m\u001b[0;34m.\u001b[0m\u001b[0mER_BAD_DB_ERROR\u001b[0m\u001b[0;34m:\u001b[0m\u001b[0;34m\u001b[0m\u001b[0;34m\u001b[0m\u001b[0m\n\u001b[0m\u001b[1;32m     11\u001b[0m                 \u001b[0mprint\u001b[0m\u001b[0;34m(\u001b[0m\u001b[0;34m\"Database doesn't exist\"\u001b[0m\u001b[0;34m)\u001b[0m\u001b[0;34m\u001b[0m\u001b[0;34m\u001b[0m\u001b[0m\n\u001b[1;32m     12\u001b[0m         \u001b[0;32melif\u001b[0m \u001b[0merror\u001b[0m\u001b[0;34m.\u001b[0m\u001b[0merrno\u001b[0m \u001b[0;34m==\u001b[0m \u001b[0merrorcode\u001b[0m\u001b[0;34m.\u001b[0m\u001b[0mER_ACCESS_DENIED_ERROR\u001b[0m\u001b[0;34m:\u001b[0m\u001b[0;34m\u001b[0m\u001b[0;34m\u001b[0m\u001b[0m\n",
            "\u001b[0;31mNameError\u001b[0m: name 'errorcode' is not defined"
          ]
        }
      ]
    },
    {
      "cell_type": "code",
      "source": [],
      "metadata": {
        "id": "jX5ilRX8x63K"
      },
      "execution_count": null,
      "outputs": []
    }
  ]
}